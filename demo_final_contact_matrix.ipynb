{
 "cells": [
  {
   "cell_type": "code",
   "execution_count": 1,
   "metadata": {},
   "outputs": [],
   "source": [
    "import pandas as pd\n",
    "from datetime import datetime\n",
    "import numpy as np"
   ]
  },
  {
   "cell_type": "code",
   "execution_count": 2,
   "metadata": {},
   "outputs": [],
   "source": [
    "import sys\n",
    "import os\n",
    "sys.path.append(os.path.abspath(os.path.join(os.getcwd(), 'src')))"
   ]
  },
  {
   "cell_type": "code",
   "execution_count": 5,
   "metadata": {},
   "outputs": [
    {
     "data": {
      "text/html": [
       "<div>\n",
       "<style scoped>\n",
       "    .dataframe tbody tr th:only-of-type {\n",
       "        vertical-align: middle;\n",
       "    }\n",
       "\n",
       "    .dataframe tbody tr th {\n",
       "        vertical-align: top;\n",
       "    }\n",
       "\n",
       "    .dataframe thead th {\n",
       "        text-align: right;\n",
       "    }\n",
       "</style>\n",
       "<table border=\"1\" class=\"dataframe\">\n",
       "  <thead>\n",
       "    <tr style=\"text-align: right;\">\n",
       "      <th></th>\n",
       "      <th>ID</th>\n",
       "      <th>date</th>\n",
       "      <th>merch_category</th>\n",
       "      <th>merch_postal_code</th>\n",
       "      <th>transaction_type</th>\n",
       "      <th>spendamt</th>\n",
       "      <th>nb_transactions</th>\n",
       "    </tr>\n",
       "  </thead>\n",
       "  <tbody>\n",
       "    <tr>\n",
       "      <th>0</th>\n",
       "      <td>1</td>\n",
       "      <td>2019-01-01</td>\n",
       "      <td>Grocery Stores/Supermarkets</td>\n",
       "      <td>8700000</td>\n",
       "      <td>ONLINE</td>\n",
       "      <td>11238.128450</td>\n",
       "      <td>160</td>\n",
       "    </tr>\n",
       "    <tr>\n",
       "      <th>1</th>\n",
       "      <td>1</td>\n",
       "      <td>2019-01-01</td>\n",
       "      <td>Grocery Stores/Supermarkets</td>\n",
       "      <td>500034</td>\n",
       "      <td>ONLINE</td>\n",
       "      <td>12848.165221</td>\n",
       "      <td>183</td>\n",
       "    </tr>\n",
       "    <tr>\n",
       "      <th>2</th>\n",
       "      <td>2</td>\n",
       "      <td>2019-01-01</td>\n",
       "      <td>Grocery Stores/Supermarkets</td>\n",
       "      <td>110621</td>\n",
       "      <td>ONLINE</td>\n",
       "      <td>12116.165569</td>\n",
       "      <td>173</td>\n",
       "    </tr>\n",
       "    <tr>\n",
       "      <th>3</th>\n",
       "      <td>3</td>\n",
       "      <td>2019-01-01</td>\n",
       "      <td>Hotels/Motels</td>\n",
       "      <td>8900000</td>\n",
       "      <td>OFFLINE</td>\n",
       "      <td>7745.998879</td>\n",
       "      <td>38</td>\n",
       "    </tr>\n",
       "    <tr>\n",
       "      <th>4</th>\n",
       "      <td>4</td>\n",
       "      <td>2019-01-01</td>\n",
       "      <td>Restaurants</td>\n",
       "      <td>111941</td>\n",
       "      <td>OFFLINE</td>\n",
       "      <td>6927.424754</td>\n",
       "      <td>173</td>\n",
       "    </tr>\n",
       "  </tbody>\n",
       "</table>\n",
       "</div>"
      ],
      "text/plain": [
       "   ID        date               merch_category  merch_postal_code  \\\n",
       "0   1  2019-01-01  Grocery Stores/Supermarkets            8700000   \n",
       "1   1  2019-01-01  Grocery Stores/Supermarkets             500034   \n",
       "2   2  2019-01-01  Grocery Stores/Supermarkets             110621   \n",
       "3   3  2019-01-01                Hotels/Motels            8900000   \n",
       "4   4  2019-01-01                  Restaurants             111941   \n",
       "\n",
       "  transaction_type      spendamt  nb_transactions  \n",
       "0           ONLINE  11238.128450              160  \n",
       "1           ONLINE  12848.165221              183  \n",
       "2           ONLINE  12116.165569              173  \n",
       "3          OFFLINE   7745.998879               38  \n",
       "4          OFFLINE   6927.424754              173  "
      ]
     },
     "execution_count": 5,
     "metadata": {},
     "output_type": "execute_result"
    }
   ],
   "source": [
    "data = pd.read_csv(r'D:\\workspace\\PET\\technical_phase_data.csv')\n",
    "data.head()"
   ]
  },
  {
   "cell_type": "markdown",
   "metadata": {},
   "source": [
    "Public info about the column names"
   ]
  },
  {
   "cell_type": "code",
   "execution_count": 6,
   "metadata": {},
   "outputs": [],
   "source": [
    "txn_channel_col = \"transaction_type\"\n",
    "category_col = \"merch_category\"\n",
    "time_col = \"date\"\n",
    "postal_code_col = \"merch_postal_code\"\n",
    "num_txns_col = \"nb_transactions\""
   ]
  },
  {
   "cell_type": "markdown",
   "metadata": {},
   "source": [
    "Categorising cities in the data"
   ]
  },
  {
   "cell_type": "code",
   "execution_count": 7,
   "metadata": {},
   "outputs": [],
   "source": [
    "def categorize_city(code):\n",
    "    if code.startswith(\"5\"):\n",
    "        return \"Medellian\"\n",
    "    elif code.startswith(\"11\"):\n",
    "        return \"Bogota\"\n",
    "    elif code.startswith(\"70\"):\n",
    "        return \"Brasilia\"\n",
    "    else:\n",
    "        return \"Santiago\""
   ]
  },
  {
   "cell_type": "code",
   "execution_count": 8,
   "metadata": {},
   "outputs": [],
   "source": [
    "age_groups = ['0-4', '5-9', '10-14', '15-19', '20-24', '25-29', '30-34', '35-39', '40-44', '45-49', '50-54', '55-59', '60-64', '65-69', '70-74', '75+']"
   ]
  },
  {
   "cell_type": "code",
   "execution_count": 9,
   "metadata": {},
   "outputs": [],
   "source": [
    "consumption_distribution_raw = pd.read_csv('consumption_distribution.csv')\n",
    "categories = consumption_distribution_raw['categories'].values\n",
    "consumption_distribution = {}\n",
    "for category in categories:\n",
    "    consumption_distribution[category] = consumption_distribution_raw[consumption_distribution_raw['categories'] == category].values[0][:-1]"
   ]
  },
  {
   "cell_type": "code",
   "execution_count": 8,
   "metadata": {},
   "outputs": [],
   "source": [
    "scaling_factor = pd.read_csv('fractions_offline.csv')['0'].values"
   ]
  },
  {
   "cell_type": "code",
   "execution_count": 9,
   "metadata": {},
   "outputs": [],
   "source": [
    "from DP_epidemiology.contact_matrix import get_age_group_count_map\n",
    "week =\"2021-01-05\"\n",
    "start_date = datetime.strptime(week, '%Y-%m-%d')\n",
    "end_date = datetime.strptime(week, '%Y-%m-%d')\n",
    "cities = data[postal_code_col].astype(str).apply(categorize_city).unique()"
   ]
  },
  {
   "cell_type": "code",
   "execution_count": 10,
   "metadata": {},
   "outputs": [],
   "source": [
    "counts_per_city = []\n",
    "for city in cities:\n",
    "    counts = get_age_group_count_map(data, age_groups, consumption_distribution, start_date, end_date, city)\n",
    "    counts_per_city.append(list(counts.values()))"
   ]
  },
  {
   "cell_type": "code",
   "execution_count": null,
   "metadata": {},
   "outputs": [],
   "source": [
    "age_groups = ['0-4', '5-9', '10-14', '15-19', '20-24', '25-29', '30-34', '35-39', '40-44', '45-49', '50-54', '55-59', '60-64', '65-69', '70-74', '75+']\n",
    "consumption_distribution_raw = pd.read_csv('consumption_distribution.csv')\n",
    "categories = consumption_distribution_raw['categories'].values\n",
    "consumption_distribution = {}\n",
    "for category in categories:\n",
    "    consumption_distribution[category] = consumption_distribution_raw[consumption_distribution_raw['categories'] == category].values[0][:-1]\n",
    "fraction_offline_raw = pd.read_csv('fractions_offline.csv')\n",
    "fraction_offline = fraction_offline_raw['0'].values\n",
    "from DP_epidemiology.contact_matrix import get_age_group_count_map\n",
    "week =\"2021-01-05\"\n",
    "start_date = datetime.strptime(week, '%Y-%m-%d')\n",
    "end_date = datetime.strptime(week, '%Y-%m-%d')\n",
    "cities = data[\"merch_postal_code\"].astype(str).apply(categorize_city).unique()\n",
    "counts_per_city = []\n",
    "for city in cities:\n",
    "    counts = get_age_group_count_map(data, age_groups, consumption_distribution, start_date, end_date, city)\n",
    "    counts_per_city.append(list(counts.values()))"
   ]
  },
  {
   "cell_type": "code",
   "execution_count": 11,
   "metadata": {},
   "outputs": [],
   "source": [
    "P = np.array([4136344, 4100716, 3991988, 3934088, 4090149, 4141051, 3895117, 3439202,\n",
    "              3075077, 3025100, 3031855, 2683253, 2187561, 1612948, 1088448, 1394217])  \n",
    "from DP_epidemiology.contact_matrix import get_contact_matrix_country\n",
    "estimated_contact_matrix = get_contact_matrix_country(counts_per_city, P, scaling_factor)"
   ]
  },
  {
   "cell_type": "code",
   "execution_count": 12,
   "metadata": {},
   "outputs": [
    {
     "data": {
      "text/plain": [
       "array([[0.09639499, 0.12729707, 0.23459434, 0.41401698, 0.36048598,\n",
       "        0.26723388, 0.21151241, 0.1940109 , 0.18478214, 0.13886226,\n",
       "        0.13810061, 0.1138968 , 0.09122256, 0.06328202, 0.04659307,\n",
       "        0.02991427],\n",
       "       [0.12620061, 0.16665576, 0.30711986, 0.54200709, 0.47192923,\n",
       "        0.34987358, 0.27687683, 0.25394952, 0.24191389, 0.18202519,\n",
       "        0.18046582, 0.14933275, 0.11932049, 0.0828854 , 0.06100833,\n",
       "        0.03909869],\n",
       "       [0.22640714, 0.29897676, 0.55092938, 0.97226376, 0.84656522,\n",
       "        0.62773045, 0.49656496, 0.45536685, 0.43398723, 0.3275752 ,\n",
       "        0.32224618, 0.26887916, 0.21358051, 0.1488641 , 0.10948895,\n",
       "        0.06984912],\n",
       "       [0.39377267, 0.51998324, 0.958162  , 1.69092516, 1.47231947,\n",
       "        1.09178936, 0.86355278, 0.79186499, 0.75479419, 0.5702682 ,\n",
       "        0.55965221, 0.46815897, 0.3712068 , 0.25899607, 0.19044626,\n",
       "        0.12132627],\n",
       "       [0.35646004, 0.47071313, 0.86738183, 1.53072478, 1.33282797,\n",
       "        0.98832319, 0.78176311, 0.7168841 , 0.68327506, 0.51598867,\n",
       "        0.50698298, 0.42356656, 0.33614752, 0.23441478, 0.17239101,\n",
       "        0.10990033],\n",
       "       [0.26753799, 0.35331497, 0.65117025, 1.1492258 , 1.00062289,\n",
       "        0.74162317, 0.58725333, 0.53876943, 0.51286585, 0.38402453,\n",
       "        0.38534348, 0.31480214, 0.25383525, 0.17540956, 0.12926391,\n",
       "        0.083426  ],\n",
       "       [0.19917724, 0.26299497, 0.48451514, 0.85499845, 0.74448603,\n",
       "        0.55237678, 0.43636769, 0.39992833, 0.38175352, 0.29121348,\n",
       "        0.2789736 , 0.23944631, 0.18644949, 0.13145362, 0.09643546,\n",
       "        0.06056907],\n",
       "       [0.16131218, 0.21298322, 0.39231044, 0.69225286, 0.60279203,\n",
       "        0.44745571, 0.35311759, 0.3234834 , 0.30915709, 0.23773022,\n",
       "        0.22314176, 0.19571837, 0.15011226, 0.10676955, 0.07817335,\n",
       "        0.04850929],\n",
       "       [0.13737235, 0.18140828, 0.33430565, 0.58998432, 0.51370339,\n",
       "        0.38084582, 0.30138285, 0.27642513, 0.26332769, 0.19816065,\n",
       "        0.19641011, 0.16257702, 0.1298715 , 0.0902256 , 0.06640984,\n",
       "        0.04255421],\n",
       "       [0.10155641, 0.13428006, 0.24823415, 0.43850527, 0.38162848,\n",
       "        0.28053569, 0.22616776, 0.20910597, 0.19494009, 0.12503586,\n",
       "        0.1771629 , 0.09967098, 0.10622315, 0.06321094, 0.04828421,\n",
       "        0.03768237],\n",
       "       [0.1012249 , 0.13342699, 0.24474114, 0.4313031 , 0.37580511,\n",
       "        0.28212779, 0.2171456 , 0.19671234, 0.19364945, 0.1775585 ,\n",
       "        0.09782913, 0.14995707, 0.0807196 , 0.0716148 , 0.05012645,\n",
       "        0.02221963],\n",
       "       [0.07388504, 0.09771405, 0.18072971, 0.31930881, 0.2778716 ,\n",
       "        0.20398053, 0.16494884, 0.15269876, 0.14186158, 0.08840781,\n",
       "        0.13271504, 0.07005195, 0.0785104 , 0.04557405, 0.03503114,\n",
       "        0.02815644],\n",
       "       [0.04824427, 0.06365251, 0.11703953, 0.20641061, 0.17978397,\n",
       "        0.13409158, 0.10471307, 0.09548137, 0.09238852, 0.07681386,\n",
       "        0.05824126, 0.06400674, 0.04217825, 0.03286025, 0.02359547,\n",
       "        0.01285376],\n",
       "       [0.02467653, 0.03260159, 0.06014799, 0.10618654, 0.09244134,\n",
       "        0.06832239, 0.05443427, 0.05007375, 0.04732539, 0.03370333,\n",
       "        0.0380991 , 0.02739532, 0.02422875, 0.01589938, 0.01185784,\n",
       "        0.00819294],\n",
       "       [0.01226062, 0.01619337, 0.02985305, 0.05269095, 0.04587575,\n",
       "        0.03397617, 0.02694784, 0.02474051, 0.02350629, 0.01737293,\n",
       "        0.01799559, 0.0142102 , 0.01174022, 0.00800189, 0.00591531,\n",
       "        0.00388865],\n",
       "       [0.01008305, 0.0132933 , 0.02439507, 0.0429973 , 0.03746194,\n",
       "        0.02808803, 0.02168008, 0.01966516, 0.01929376, 0.01736716,\n",
       "        0.01021783, 0.01463007, 0.0081922 , 0.0070819 , 0.00498106,\n",
       "        0.00230539]])"
      ]
     },
     "execution_count": 12,
     "metadata": {},
     "output_type": "execute_result"
    }
   ],
   "source": [
    "estimated_contact_matrix"
   ]
  },
  {
   "cell_type": "code",
   "execution_count": null,
   "metadata": {},
   "outputs": [],
   "source": [
    "import matplotlib.pyplot as plt\n",
    "\n",
    "diff = estimated_C \n",
    "\n",
    "plt.figure(figsize=(10, 8))\n",
    "plt.imshow(diff, cmap = 'coolwarm', interpolation='none')\n",
    "plt.colorbar(label = 'Diff')"
   ]
  }
 ],
 "metadata": {
  "kernelspec": {
   "display_name": "Python 3",
   "language": "python",
   "name": "python3"
  },
  "language_info": {
   "codemirror_mode": {
    "name": "ipython",
    "version": 3
   },
   "file_extension": ".py",
   "mimetype": "text/x-python",
   "name": "python",
   "nbconvert_exporter": "python",
   "pygments_lexer": "ipython3",
   "version": "3.12.4"
  }
 },
 "nbformat": 4,
 "nbformat_minor": 2
}
