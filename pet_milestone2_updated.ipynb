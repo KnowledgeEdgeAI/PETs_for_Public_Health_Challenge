{
 "cells": [
  {
   "cell_type": "code",
   "execution_count": 2,
   "metadata": {},
   "outputs": [],
   "source": [
    "from datetime import datetime\n",
    "import numpy as np\n",
    "import pandas as pd\n",
    "\n",
    "# from utilities import *\n",
    "import opendp.prelude as dp\n"
   ]
  },
  {
   "cell_type": "code",
   "execution_count": 3,
   "metadata": {},
   "outputs": [
    {
     "name": "stderr",
     "output_type": "stream",
     "text": [
      "<>:8: SyntaxWarning: invalid escape sequence '\\k'\n",
      "<>:8: SyntaxWarning: invalid escape sequence '\\k'\n",
      "C:\\Users\\kshub\\AppData\\Local\\Temp\\ipykernel_22960\\3898676667.py:8: SyntaxWarning: invalid escape sequence '\\k'\n",
      "  path = \"C:\\\\Users\\kshub\\\\OneDrive\\\\Documents\\\\PET_phase_2\\\\Technical_Phase_Data\\\\technical_phase_data.csv\"\n"
     ]
    }
   ],
   "source": [
    "dp.enable_features(\"contrib\", \"floating-point\", \"honest-but-curious\")\n",
    "\n",
    "# PUBLIC INFO\n",
    "start_date, end_date = datetime(2020, 9, 1), datetime(2021, 3, 31)\n",
    "time_col = \"date\"\n",
    "\n",
    "# DATA\n",
    "path = \"C:\\\\Users\\kshub\\\\OneDrive\\\\Documents\\\\PET_phase_2\\\\Technical_Phase_Data\\\\technical_phase_data.csv\"\n",
    "df = pd.read_csv(path)"
   ]
  },
  {
   "cell_type": "code",
   "execution_count": 129,
   "metadata": {},
   "outputs": [],
   "source": [
    "def dataframe_domain(public_key_sets=None):\n",
    "    \"\"\"Creates a domain representing the set of all data frames.\n",
    "    \n",
    "    Assumes column names and types are public information.\n",
    "    Key sets optionally named for columns in `public_key_sets` are considered public information.\n",
    "\n",
    "    Two data frames differing in their public information \n",
    "    are considered to have a data set distance of infinity.\n",
    "    \"\"\"\n",
    "    return dp.user_domain(\n",
    "        \"DataFrameDomain\", lambda x: isinstance(x, pd.DataFrame), public_key_sets\n",
    "    )\n",
    "\n",
    "\n",
    "def series_domain():\n",
    "    \"\"\"Creates a domain representing the set of all series.\n",
    "\n",
    "    Assumes series name and type are public information.\n",
    "\n",
    "    Two series differing in their public information \n",
    "    are considered to have a data set distance of infinity.\n",
    "    \"\"\"\n",
    "    return dp.user_domain(\"SeriesDomain\", lambda x: isinstance(x, pd.Series))\n",
    "\n",
    "def identifier_distance():\n",
    "    \"\"\"Symmetric distance between the id sets.\"\"\"\n",
    "    return dp.user_distance(\"IdentifierDistance\")\n",
    "\n",
    "\n",
    "def approx_concentrated_divergence():\n",
    "    \"\"\"symmetric distance between the id sets\"\"\"\n",
    "    return dp.user_distance(\"ApproxConcentratedDivergence()\")\n"
   ]
  },
  {
   "cell_type": "code",
   "execution_count": 130,
   "metadata": {},
   "outputs": [],
   "source": [
    "def make_truncate_time(start_date, end_date, time_col):\n",
    "    \"\"\"Create a transformation that filters the data to a given time frame.\n",
    "    \n",
    "    WARNING: Assumes that the data has at most one contribution per individual per week.\n",
    "    \"\"\"\n",
    "    number_of_timesteps = (end_date - start_date).days // 7\n",
    "\n",
    "    def time_preprocess(df):\n",
    "        df = df.copy()\n",
    "\n",
    "        # Convert time_col into datetime type\n",
    "        df[time_col] = pd.to_datetime(df[time_col])\n",
    "\n",
    "        # Filter the DataFrame based on the specified dates\n",
    "        return df[(df[time_col] >= start_date) & (df[time_col] <= end_date)]\n",
    "\n",
    "    return dp.t.make_user_transformation(\n",
    "        input_domain=dataframe_domain(),\n",
    "        input_metric=identifier_distance(),\n",
    "        output_domain=dataframe_domain(),\n",
    "        output_metric=dp.symmetric_distance(),\n",
    "        function=time_preprocess,\n",
    "        stability_map=lambda d_in: d_in * number_of_timesteps,\n",
    "    )"
   ]
  },
  {
   "cell_type": "code",
   "execution_count": 131,
   "metadata": {},
   "outputs": [],
   "source": [
    "def make_sum_by(column, by, bounds):\n",
    "    \"\"\"Create a transformation that computes the grouped bounded sum of `column`\"\"\"\n",
    "    L, U = bounds\n",
    "    # print(df.head())\n",
    "    def function(df):\n",
    "        df = df.copy()\n",
    "        # print(df.head())\n",
    "        df[column] = df[column].clip(*bounds)\n",
    "        return df.groupby(by)[column].sum()\n",
    "\n",
    "    return dp.t.make_user_transformation(\n",
    "        input_domain=dataframe_domain(),\n",
    "        input_metric=dp.symmetric_distance(),\n",
    "        output_domain=series_domain(),\n",
    "        output_metric=dp.l2_distance(T=float),\n",
    "        function=function,\n",
    "        stability_map=lambda d_in: np.sqrt(d_in) * max(abs(L), U),\n",
    "    )\n"
   ]
  },
  {
   "cell_type": "markdown",
   "metadata": {},
   "source": [
    "maximum nb_transaction entry for any category is 454. Assuming the bound of [0, 454]"
   ]
  },
  {
   "cell_type": "code",
   "execution_count": 132,
   "metadata": {},
   "outputs": [],
   "source": [
    "\n",
    "def make_private_sum_by(column, by, bounds, scale):\n",
    "    \"\"\"Create a measurement that computes the grouped bounded sum of `column`\"\"\"\n",
    "    space = dp.vector_domain(dp.atom_domain(T=int)), dp.l2_distance(T=float)\n",
    "    m_gauss = space >> dp.m.then_gaussian(scale)\n",
    "    t_sum = make_sum_by(column, by, bounds)\n",
    "\n",
    "    def function(df):\n",
    "        exact = t_sum(df)\n",
    "        # print(exact)\n",
    "        # print(exact.to_numpy())\n",
    "        noisy_sum = pd.Series(\n",
    "            np.maximum(m_gauss(exact.to_numpy().flatten()), 0), index=exact.index\n",
    "        )\n",
    "        return noisy_sum.to_frame()\n",
    "\n",
    "    return dp.m.make_user_measurement(\n",
    "        input_domain=dataframe_domain(public_key_sets=[by]),\n",
    "        input_metric=dp.symmetric_distance(),\n",
    "        output_measure=dp.zero_concentrated_divergence(T=float),\n",
    "        function=function,\n",
    "        privacy_map=lambda d_in: m_gauss.map(t_sum.map(d_in)),\n",
    "    )"
   ]
  },
  {
   "cell_type": "code",
   "execution_count": 147,
   "metadata": {},
   "outputs": [],
   "source": [
    "def make_filter_offline(column,entry):\n",
    "        \"\"\"filters offline entries\"\"\"\n",
    "        return dp.t.make_user_transformation(\n",
    "        input_domain=dataframe_domain(),\n",
    "        input_metric=identifier_distance(),\n",
    "        output_domain=dataframe_domain(),\n",
    "        output_metric=identifier_distance(),\n",
    "        function=lambda df: df[(df[column] == entry)],\n",
    "        stability_map=lambda d_in: d_in,\n",
    "    )"
   ]
  },
  {
   "cell_type": "code",
   "execution_count": 148,
   "metadata": {},
   "outputs": [
    {
     "name": "stdout",
     "output_type": "stream",
     "text": [
      "30917.40000000001\n",
      "                                 0\n",
      "merch_postal_code date            \n",
      "7071              2020-09-01  1185\n",
      "                  2020-09-08  1582\n",
      "                  2020-09-15  1775\n",
      "                  2020-09-22  2161\n",
      "                  2020-09-29  1268\n",
      "...                            ...\n",
      "9810000           2021-03-02  1960\n",
      "                  2021-03-09  2680\n",
      "                  2021-03-16  1780\n",
      "                  2021-03-23  1970\n",
      "                  2021-03-30  2891\n",
      "\n",
      "[9393 rows x 1 columns]\n"
     ]
    }
   ],
   "source": [
    "df_new = df.copy()\n",
    "bounds = (0, 454)\n",
    "start_date, end_date = datetime(2020, 9, 1), datetime(2021, 3, 31)\n",
    "columns = [\"nb_transactions\"]\n",
    "by = [\"merch_postal_code\", \"date\"]\n",
    "scale=10.0\n",
    "column=\"transaction_type\"\n",
    "entry=\"OFFLINE\"\n",
    "hotspot_predictor=(\n",
    "    make_filter_offline(column,entry)\n",
    "    >>make_truncate_time(start_date, end_date, time_col)\n",
    "    >>make_private_sum_by(columns, by, bounds, scale)\n",
    ")\n",
    "print(hotspot_predictor.map(1))\n",
    "output=hotspot_predictor(df_new)\n",
    "print(output)"
   ]
  },
  {
   "cell_type": "code",
   "execution_count": 140,
   "metadata": {},
   "outputs": [
    {
     "ename": "OpenDPException",
     "evalue": "\n  FFI(\"Continued stack trace from Exception in user-defined function:\nTraceback (most recent call last):\n  File \"c:\\Users\\kshub\\AppData\\Local\\Programs\\Python\\Python312\\Lib\\site-packages\\opendp\\_convert.py\", line 459, in wrapper_func\n    py_out = func(py_arg)\n             ^^^^^^^^^^^^\n  File \"C:\\Users\\kshub\\AppData\\Local\\Temp\\ipykernel_22960\\2871615293.py\", line 8, in <lambda>\n    function=lambda df: df[(df[\"transaction_type\"] == \"OFFLINE\")],\n                            ~~^^^^^^^^^^^^^^^^^^^^\nTypeError: 'int' object is not subscriptable\n\")",
     "output_type": "error",
     "traceback": [
      "\u001b[1;31m---------------------------------------------------------------------------\u001b[0m",
      "\u001b[1;31mOpenDPException\u001b[0m                           Traceback (most recent call last)",
      "Cell \u001b[1;32mIn[140], line 1\u001b[0m\n\u001b[1;32m----> 1\u001b[0m scale\u001b[38;5;241m=\u001b[39m\u001b[43mdp\u001b[49m\u001b[38;5;241;43m.\u001b[39;49m\u001b[43mbinary_search_param\u001b[49m\u001b[43m(\u001b[49m\u001b[43mhotspot_predictor\u001b[49m\u001b[43m,\u001b[49m\u001b[43m \u001b[49m\u001b[38;5;241;43m1\u001b[39;49m\u001b[43m,\u001b[49m\u001b[38;5;241;43m1.0\u001b[39;49m\u001b[43m,\u001b[49m\u001b[43mbounds\u001b[49m\u001b[38;5;241;43m=\u001b[39;49m\u001b[43mbounds\u001b[49m\u001b[43m)\u001b[49m\n\u001b[0;32m      2\u001b[0m \u001b[38;5;28mprint\u001b[39m(scale)\n",
      "File \u001b[1;32mc:\\Users\\kshub\\AppData\\Local\\Programs\\Python\\Python312\\Lib\\site-packages\\opendp\\mod.py:814\u001b[0m, in \u001b[0;36mbinary_search_param\u001b[1;34m(make_chain, d_in, d_out, bounds, T)\u001b[0m\n\u001b[0;32m    754\u001b[0m \u001b[38;5;250m\u001b[39m\u001b[38;5;124;03m\"\"\"Solve for the ideal constructor argument to `make_chain`.\u001b[39;00m\n\u001b[0;32m    755\u001b[0m \u001b[38;5;124;03m\u001b[39;00m\n\u001b[0;32m    756\u001b[0m \u001b[38;5;124;03mOptimizes a parameterized chain `make_chain` within float or integer `bounds`,\u001b[39;00m\n\u001b[1;32m   (...)\u001b[0m\n\u001b[0;32m    807\u001b[0m \u001b[38;5;124;03m1498\u001b[39;00m\n\u001b[0;32m    808\u001b[0m \u001b[38;5;124;03m\"\"\"\u001b[39;00m\n\u001b[0;32m    810\u001b[0m \u001b[38;5;66;03m# one might think running scipy.optimize.brent* would be better, but \u001b[39;00m\n\u001b[0;32m    811\u001b[0m \u001b[38;5;66;03m# 1. benchmarking showed no difference or minor regressions\u001b[39;00m\n\u001b[0;32m    812\u001b[0m \u001b[38;5;66;03m# 2. brentq is more complicated\u001b[39;00m\n\u001b[1;32m--> 814\u001b[0m \u001b[38;5;28;01mreturn\u001b[39;00m \u001b[43mbinary_search\u001b[49m\u001b[43m(\u001b[49m\u001b[38;5;28;43;01mlambda\u001b[39;49;00m\u001b[43m \u001b[49m\u001b[43mparam\u001b[49m\u001b[43m:\u001b[49m\u001b[43m \u001b[49m\u001b[43mmake_chain\u001b[49m\u001b[43m(\u001b[49m\u001b[43mparam\u001b[49m\u001b[43m)\u001b[49m\u001b[38;5;241;43m.\u001b[39;49m\u001b[43mcheck\u001b[49m\u001b[43m(\u001b[49m\u001b[43md_in\u001b[49m\u001b[43m,\u001b[49m\u001b[43m \u001b[49m\u001b[43md_out\u001b[49m\u001b[43m)\u001b[49m\u001b[43m,\u001b[49m\u001b[43m \u001b[49m\u001b[43mbounds\u001b[49m\u001b[43m,\u001b[49m\u001b[43m \u001b[49m\u001b[43mT\u001b[49m\u001b[43m)\u001b[49m\n",
      "File \u001b[1;32mc:\\Users\\kshub\\AppData\\Local\\Programs\\Python\\Python312\\Lib\\site-packages\\opendp\\mod.py:914\u001b[0m, in \u001b[0;36mbinary_search\u001b[1;34m(predicate, bounds, T, return_sign)\u001b[0m\n\u001b[0;32m    911\u001b[0m     \u001b[38;5;28;01mraise\u001b[39;00m \u001b[38;5;167;01mTypeError\u001b[39;00m(\u001b[38;5;124m\"\u001b[39m\u001b[38;5;124mbounds must share the same type\u001b[39m\u001b[38;5;124m\"\u001b[39m)\n\u001b[0;32m    912\u001b[0m lower, upper \u001b[38;5;241m=\u001b[39m \u001b[38;5;28msorted\u001b[39m(bounds)\n\u001b[1;32m--> 914\u001b[0m maximize \u001b[38;5;241m=\u001b[39m \u001b[43mpredicate\u001b[49m\u001b[43m(\u001b[49m\u001b[43mlower\u001b[49m\u001b[43m)\u001b[49m  \u001b[38;5;66;03m# if the lower bound passes, we should maximize\u001b[39;00m\n\u001b[0;32m    915\u001b[0m minimize \u001b[38;5;241m=\u001b[39m predicate(upper)  \u001b[38;5;66;03m# if the upper bound passes, we should minimize\u001b[39;00m\n\u001b[0;32m    916\u001b[0m \u001b[38;5;28;01mif\u001b[39;00m maximize \u001b[38;5;241m==\u001b[39m minimize:\n",
      "File \u001b[1;32mc:\\Users\\kshub\\AppData\\Local\\Programs\\Python\\Python312\\Lib\\site-packages\\opendp\\mod.py:814\u001b[0m, in \u001b[0;36mbinary_search_param.<locals>.<lambda>\u001b[1;34m(param)\u001b[0m\n\u001b[0;32m    754\u001b[0m \u001b[38;5;250m\u001b[39m\u001b[38;5;124;03m\"\"\"Solve for the ideal constructor argument to `make_chain`.\u001b[39;00m\n\u001b[0;32m    755\u001b[0m \u001b[38;5;124;03m\u001b[39;00m\n\u001b[0;32m    756\u001b[0m \u001b[38;5;124;03mOptimizes a parameterized chain `make_chain` within float or integer `bounds`,\u001b[39;00m\n\u001b[1;32m   (...)\u001b[0m\n\u001b[0;32m    807\u001b[0m \u001b[38;5;124;03m1498\u001b[39;00m\n\u001b[0;32m    808\u001b[0m \u001b[38;5;124;03m\"\"\"\u001b[39;00m\n\u001b[0;32m    810\u001b[0m \u001b[38;5;66;03m# one might think running scipy.optimize.brent* would be better, but \u001b[39;00m\n\u001b[0;32m    811\u001b[0m \u001b[38;5;66;03m# 1. benchmarking showed no difference or minor regressions\u001b[39;00m\n\u001b[0;32m    812\u001b[0m \u001b[38;5;66;03m# 2. brentq is more complicated\u001b[39;00m\n\u001b[1;32m--> 814\u001b[0m \u001b[38;5;28;01mreturn\u001b[39;00m binary_search(\u001b[38;5;28;01mlambda\u001b[39;00m param: \u001b[43mmake_chain\u001b[49m\u001b[43m(\u001b[49m\u001b[43mparam\u001b[49m\u001b[43m)\u001b[49m\u001b[38;5;241m.\u001b[39mcheck(d_in, d_out), bounds, T)\n",
      "File \u001b[1;32mc:\\Users\\kshub\\AppData\\Local\\Programs\\Python\\Python312\\Lib\\site-packages\\opendp\\mod.py:69\u001b[0m, in \u001b[0;36mMeasurement.__call__\u001b[1;34m(self, arg)\u001b[0m\n\u001b[0;32m     67\u001b[0m \u001b[38;5;28;01mdef\u001b[39;00m \u001b[38;5;21m__call__\u001b[39m(\u001b[38;5;28mself\u001b[39m, arg):\n\u001b[0;32m     68\u001b[0m     \u001b[38;5;28;01mfrom\u001b[39;00m \u001b[38;5;21;01mopendp\u001b[39;00m\u001b[38;5;21;01m.\u001b[39;00m\u001b[38;5;21;01mcore\u001b[39;00m \u001b[38;5;28;01mimport\u001b[39;00m measurement_invoke\n\u001b[1;32m---> 69\u001b[0m     \u001b[38;5;28;01mreturn\u001b[39;00m \u001b[43mmeasurement_invoke\u001b[49m\u001b[43m(\u001b[49m\u001b[38;5;28;43mself\u001b[39;49m\u001b[43m,\u001b[49m\u001b[43m \u001b[49m\u001b[43marg\u001b[49m\u001b[43m)\u001b[49m\n",
      "File \u001b[1;32mc:\\Users\\kshub\\AppData\\Local\\Programs\\Python\\Python312\\Lib\\site-packages\\opendp\\core.py:380\u001b[0m, in \u001b[0;36mmeasurement_invoke\u001b[1;34m(this, arg)\u001b[0m\n\u001b[0;32m    377\u001b[0m lib_function\u001b[38;5;241m.\u001b[39margtypes \u001b[38;5;241m=\u001b[39m [Measurement, AnyObjectPtr]\n\u001b[0;32m    378\u001b[0m lib_function\u001b[38;5;241m.\u001b[39mrestype \u001b[38;5;241m=\u001b[39m FfiResult\n\u001b[1;32m--> 380\u001b[0m output \u001b[38;5;241m=\u001b[39m c_to_py(\u001b[43munwrap\u001b[49m\u001b[43m(\u001b[49m\u001b[43mlib_function\u001b[49m\u001b[43m(\u001b[49m\u001b[43mc_this\u001b[49m\u001b[43m,\u001b[49m\u001b[43m \u001b[49m\u001b[43mc_arg\u001b[49m\u001b[43m)\u001b[49m\u001b[43m,\u001b[49m\u001b[43m \u001b[49m\u001b[43mAnyObjectPtr\u001b[49m\u001b[43m)\u001b[49m)\n\u001b[0;32m    382\u001b[0m \u001b[38;5;28;01mreturn\u001b[39;00m output\n",
      "File \u001b[1;32mc:\\Users\\kshub\\AppData\\Local\\Programs\\Python\\Python312\\Lib\\site-packages\\opendp\\_lib.py:251\u001b[0m, in \u001b[0;36munwrap\u001b[1;34m(result, type_)\u001b[0m\n\u001b[0;32m    248\u001b[0m     \u001b[38;5;28;01mraise\u001b[39;00m OpenDPException(\u001b[38;5;124m\"\u001b[39m\u001b[38;5;124mFailed to free error.\u001b[39m\u001b[38;5;124m\"\u001b[39m)\n\u001b[0;32m    250\u001b[0m \u001b[38;5;66;03m# Rust stack traces follow from here:\u001b[39;00m\n\u001b[1;32m--> 251\u001b[0m \u001b[38;5;28;01mraise\u001b[39;00m OpenDPException(variant, message, backtrace)\n",
      "\u001b[1;31mOpenDPException\u001b[0m: \n  FFI(\"Continued stack trace from Exception in user-defined function:\nTraceback (most recent call last):\n  File \"c:\\Users\\kshub\\AppData\\Local\\Programs\\Python\\Python312\\Lib\\site-packages\\opendp\\_convert.py\", line 459, in wrapper_func\n    py_out = func(py_arg)\n             ^^^^^^^^^^^^\n  File \"C:\\Users\\kshub\\AppData\\Local\\Temp\\ipykernel_22960\\2871615293.py\", line 8, in <lambda>\n    function=lambda df: df[(df[\"transaction_type\"] == \"OFFLINE\")],\n                            ~~^^^^^^^^^^^^^^^^^^^^\nTypeError: 'int' object is not subscriptable\n\")"
     ]
    }
   ],
   "source": [
    "scale=dp.binary_search_param(hotspot_predictor, 1,1.0,bounds=bounds)\n",
    "print(scale)"
   ]
  },
  {
   "cell_type": "code",
   "execution_count": 122,
   "metadata": {},
   "outputs": [
    {
     "ename": "OpenDPException",
     "evalue": "\n  FFI(\"Continued stack trace from Exception in user-defined function:\nTraceback (most recent call last):\n  File \"c:\\Users\\kshub\\AppData\\Local\\Programs\\Python\\Python312\\Lib\\site-packages\\opendp\\_convert.py\", line 459, in wrapper_func\n    py_out = func(py_arg)\n             ^^^^^^^^^^^^\n  File \"C:\\Users\\kshub\\AppData\\Local\\Temp\\ipykernel_22960\\257734847.py\", line 8, in <lambda>\n    function=lambda df: df[(df[\"transaction_type\"] == \"OFFLINE\")],\n                            ~~^^^^^^^^^^^^^^^^^^^^\nTypeError: 'int' object is not subscriptable\n\")",
     "output_type": "error",
     "traceback": [
      "\u001b[1;31m---------------------------------------------------------------------------\u001b[0m",
      "\u001b[1;31mOpenDPException\u001b[0m                           Traceback (most recent call last)",
      "Cell \u001b[1;32mIn[122], line 1\u001b[0m\n\u001b[1;32m----> 1\u001b[0m analysis\u001b[38;5;241m=\u001b[39m\u001b[43mdp\u001b[49m\u001b[38;5;241;43m.\u001b[39;49m\u001b[43mbinary_search_chain\u001b[49m\u001b[43m(\u001b[49m\u001b[43mhotspot_predictor\u001b[49m\u001b[43m,\u001b[49m\u001b[43m \u001b[49m\u001b[38;5;241;43m1\u001b[39;49m\u001b[43m,\u001b[49m\u001b[38;5;241;43m1.0\u001b[39;49m\u001b[43m,\u001b[49m\u001b[43mbounds\u001b[49m\u001b[38;5;241;43m=\u001b[39;49m\u001b[43mbounds\u001b[49m\u001b[43m)\u001b[49m\n",
      "File \u001b[1;32mc:\\Users\\kshub\\AppData\\Local\\Programs\\Python\\Python312\\Lib\\site-packages\\opendp\\mod.py:746\u001b[0m, in \u001b[0;36mbinary_search_chain\u001b[1;34m(make_chain, d_in, d_out, bounds, T)\u001b[0m\n\u001b[0;32m    684\u001b[0m \u001b[38;5;28;01mdef\u001b[39;00m \u001b[38;5;21mbinary_search_chain\u001b[39m(\n\u001b[0;32m    685\u001b[0m         make_chain: Callable[[\u001b[38;5;28mfloat\u001b[39m], M],\n\u001b[0;32m    686\u001b[0m         d_in: Any, d_out: Any,\n\u001b[0;32m    687\u001b[0m         bounds: Tuple[\u001b[38;5;28mfloat\u001b[39m, \u001b[38;5;28mfloat\u001b[39m] \u001b[38;5;241m|\u001b[39m \u001b[38;5;28;01mNone\u001b[39;00m \u001b[38;5;241m=\u001b[39m \u001b[38;5;28;01mNone\u001b[39;00m,\n\u001b[0;32m    688\u001b[0m         T\u001b[38;5;241m=\u001b[39m\u001b[38;5;28;01mNone\u001b[39;00m) \u001b[38;5;241m-\u001b[39m\u001b[38;5;241m>\u001b[39m M:\n\u001b[0;32m    689\u001b[0m \u001b[38;5;250m    \u001b[39m\u001b[38;5;124;03m\"\"\"Find the highest-utility (`d_in`, `d_out`)-close Transformation or Measurement.\u001b[39;00m\n\u001b[0;32m    690\u001b[0m \u001b[38;5;124;03m    \u001b[39;00m\n\u001b[0;32m    691\u001b[0m \u001b[38;5;124;03m    Searches for the numeric parameter to `make_chain` that results in a computation\u001b[39;00m\n\u001b[1;32m   (...)\u001b[0m\n\u001b[0;32m    744\u001b[0m \u001b[38;5;124;03m    >>> # If you want the discovered clamping bound, use `binary_search_param` instead.\u001b[39;00m\n\u001b[0;32m    745\u001b[0m \u001b[38;5;124;03m    \"\"\"\u001b[39;00m\n\u001b[1;32m--> 746\u001b[0m     \u001b[38;5;28;01mreturn\u001b[39;00m make_chain(\u001b[43mbinary_search_param\u001b[49m\u001b[43m(\u001b[49m\u001b[43mmake_chain\u001b[49m\u001b[43m,\u001b[49m\u001b[43m \u001b[49m\u001b[43md_in\u001b[49m\u001b[43m,\u001b[49m\u001b[43m \u001b[49m\u001b[43md_out\u001b[49m\u001b[43m,\u001b[49m\u001b[43m \u001b[49m\u001b[43mbounds\u001b[49m\u001b[43m,\u001b[49m\u001b[43m \u001b[49m\u001b[43mT\u001b[49m\u001b[43m)\u001b[49m)\n",
      "File \u001b[1;32mc:\\Users\\kshub\\AppData\\Local\\Programs\\Python\\Python312\\Lib\\site-packages\\opendp\\mod.py:814\u001b[0m, in \u001b[0;36mbinary_search_param\u001b[1;34m(make_chain, d_in, d_out, bounds, T)\u001b[0m\n\u001b[0;32m    754\u001b[0m \u001b[38;5;250m\u001b[39m\u001b[38;5;124;03m\"\"\"Solve for the ideal constructor argument to `make_chain`.\u001b[39;00m\n\u001b[0;32m    755\u001b[0m \u001b[38;5;124;03m\u001b[39;00m\n\u001b[0;32m    756\u001b[0m \u001b[38;5;124;03mOptimizes a parameterized chain `make_chain` within float or integer `bounds`,\u001b[39;00m\n\u001b[1;32m   (...)\u001b[0m\n\u001b[0;32m    807\u001b[0m \u001b[38;5;124;03m1498\u001b[39;00m\n\u001b[0;32m    808\u001b[0m \u001b[38;5;124;03m\"\"\"\u001b[39;00m\n\u001b[0;32m    810\u001b[0m \u001b[38;5;66;03m# one might think running scipy.optimize.brent* would be better, but \u001b[39;00m\n\u001b[0;32m    811\u001b[0m \u001b[38;5;66;03m# 1. benchmarking showed no difference or minor regressions\u001b[39;00m\n\u001b[0;32m    812\u001b[0m \u001b[38;5;66;03m# 2. brentq is more complicated\u001b[39;00m\n\u001b[1;32m--> 814\u001b[0m \u001b[38;5;28;01mreturn\u001b[39;00m \u001b[43mbinary_search\u001b[49m\u001b[43m(\u001b[49m\u001b[38;5;28;43;01mlambda\u001b[39;49;00m\u001b[43m \u001b[49m\u001b[43mparam\u001b[49m\u001b[43m:\u001b[49m\u001b[43m \u001b[49m\u001b[43mmake_chain\u001b[49m\u001b[43m(\u001b[49m\u001b[43mparam\u001b[49m\u001b[43m)\u001b[49m\u001b[38;5;241;43m.\u001b[39;49m\u001b[43mcheck\u001b[49m\u001b[43m(\u001b[49m\u001b[43md_in\u001b[49m\u001b[43m,\u001b[49m\u001b[43m \u001b[49m\u001b[43md_out\u001b[49m\u001b[43m)\u001b[49m\u001b[43m,\u001b[49m\u001b[43m \u001b[49m\u001b[43mbounds\u001b[49m\u001b[43m,\u001b[49m\u001b[43m \u001b[49m\u001b[43mT\u001b[49m\u001b[43m)\u001b[49m\n",
      "File \u001b[1;32mc:\\Users\\kshub\\AppData\\Local\\Programs\\Python\\Python312\\Lib\\site-packages\\opendp\\mod.py:914\u001b[0m, in \u001b[0;36mbinary_search\u001b[1;34m(predicate, bounds, T, return_sign)\u001b[0m\n\u001b[0;32m    911\u001b[0m     \u001b[38;5;28;01mraise\u001b[39;00m \u001b[38;5;167;01mTypeError\u001b[39;00m(\u001b[38;5;124m\"\u001b[39m\u001b[38;5;124mbounds must share the same type\u001b[39m\u001b[38;5;124m\"\u001b[39m)\n\u001b[0;32m    912\u001b[0m lower, upper \u001b[38;5;241m=\u001b[39m \u001b[38;5;28msorted\u001b[39m(bounds)\n\u001b[1;32m--> 914\u001b[0m maximize \u001b[38;5;241m=\u001b[39m \u001b[43mpredicate\u001b[49m\u001b[43m(\u001b[49m\u001b[43mlower\u001b[49m\u001b[43m)\u001b[49m  \u001b[38;5;66;03m# if the lower bound passes, we should maximize\u001b[39;00m\n\u001b[0;32m    915\u001b[0m minimize \u001b[38;5;241m=\u001b[39m predicate(upper)  \u001b[38;5;66;03m# if the upper bound passes, we should minimize\u001b[39;00m\n\u001b[0;32m    916\u001b[0m \u001b[38;5;28;01mif\u001b[39;00m maximize \u001b[38;5;241m==\u001b[39m minimize:\n",
      "File \u001b[1;32mc:\\Users\\kshub\\AppData\\Local\\Programs\\Python\\Python312\\Lib\\site-packages\\opendp\\mod.py:814\u001b[0m, in \u001b[0;36mbinary_search_param.<locals>.<lambda>\u001b[1;34m(param)\u001b[0m\n\u001b[0;32m    754\u001b[0m \u001b[38;5;250m\u001b[39m\u001b[38;5;124;03m\"\"\"Solve for the ideal constructor argument to `make_chain`.\u001b[39;00m\n\u001b[0;32m    755\u001b[0m \u001b[38;5;124;03m\u001b[39;00m\n\u001b[0;32m    756\u001b[0m \u001b[38;5;124;03mOptimizes a parameterized chain `make_chain` within float or integer `bounds`,\u001b[39;00m\n\u001b[1;32m   (...)\u001b[0m\n\u001b[0;32m    807\u001b[0m \u001b[38;5;124;03m1498\u001b[39;00m\n\u001b[0;32m    808\u001b[0m \u001b[38;5;124;03m\"\"\"\u001b[39;00m\n\u001b[0;32m    810\u001b[0m \u001b[38;5;66;03m# one might think running scipy.optimize.brent* would be better, but \u001b[39;00m\n\u001b[0;32m    811\u001b[0m \u001b[38;5;66;03m# 1. benchmarking showed no difference or minor regressions\u001b[39;00m\n\u001b[0;32m    812\u001b[0m \u001b[38;5;66;03m# 2. brentq is more complicated\u001b[39;00m\n\u001b[1;32m--> 814\u001b[0m \u001b[38;5;28;01mreturn\u001b[39;00m binary_search(\u001b[38;5;28;01mlambda\u001b[39;00m param: \u001b[43mmake_chain\u001b[49m\u001b[43m(\u001b[49m\u001b[43mparam\u001b[49m\u001b[43m)\u001b[49m\u001b[38;5;241m.\u001b[39mcheck(d_in, d_out), bounds, T)\n",
      "File \u001b[1;32mc:\\Users\\kshub\\AppData\\Local\\Programs\\Python\\Python312\\Lib\\site-packages\\opendp\\mod.py:69\u001b[0m, in \u001b[0;36mMeasurement.__call__\u001b[1;34m(self, arg)\u001b[0m\n\u001b[0;32m     67\u001b[0m \u001b[38;5;28;01mdef\u001b[39;00m \u001b[38;5;21m__call__\u001b[39m(\u001b[38;5;28mself\u001b[39m, arg):\n\u001b[0;32m     68\u001b[0m     \u001b[38;5;28;01mfrom\u001b[39;00m \u001b[38;5;21;01mopendp\u001b[39;00m\u001b[38;5;21;01m.\u001b[39;00m\u001b[38;5;21;01mcore\u001b[39;00m \u001b[38;5;28;01mimport\u001b[39;00m measurement_invoke\n\u001b[1;32m---> 69\u001b[0m     \u001b[38;5;28;01mreturn\u001b[39;00m \u001b[43mmeasurement_invoke\u001b[49m\u001b[43m(\u001b[49m\u001b[38;5;28;43mself\u001b[39;49m\u001b[43m,\u001b[49m\u001b[43m \u001b[49m\u001b[43marg\u001b[49m\u001b[43m)\u001b[49m\n",
      "File \u001b[1;32mc:\\Users\\kshub\\AppData\\Local\\Programs\\Python\\Python312\\Lib\\site-packages\\opendp\\core.py:380\u001b[0m, in \u001b[0;36mmeasurement_invoke\u001b[1;34m(this, arg)\u001b[0m\n\u001b[0;32m    377\u001b[0m lib_function\u001b[38;5;241m.\u001b[39margtypes \u001b[38;5;241m=\u001b[39m [Measurement, AnyObjectPtr]\n\u001b[0;32m    378\u001b[0m lib_function\u001b[38;5;241m.\u001b[39mrestype \u001b[38;5;241m=\u001b[39m FfiResult\n\u001b[1;32m--> 380\u001b[0m output \u001b[38;5;241m=\u001b[39m c_to_py(\u001b[43munwrap\u001b[49m\u001b[43m(\u001b[49m\u001b[43mlib_function\u001b[49m\u001b[43m(\u001b[49m\u001b[43mc_this\u001b[49m\u001b[43m,\u001b[49m\u001b[43m \u001b[49m\u001b[43mc_arg\u001b[49m\u001b[43m)\u001b[49m\u001b[43m,\u001b[49m\u001b[43m \u001b[49m\u001b[43mAnyObjectPtr\u001b[49m\u001b[43m)\u001b[49m)\n\u001b[0;32m    382\u001b[0m \u001b[38;5;28;01mreturn\u001b[39;00m output\n",
      "File \u001b[1;32mc:\\Users\\kshub\\AppData\\Local\\Programs\\Python\\Python312\\Lib\\site-packages\\opendp\\_lib.py:251\u001b[0m, in \u001b[0;36munwrap\u001b[1;34m(result, type_)\u001b[0m\n\u001b[0;32m    248\u001b[0m     \u001b[38;5;28;01mraise\u001b[39;00m OpenDPException(\u001b[38;5;124m\"\u001b[39m\u001b[38;5;124mFailed to free error.\u001b[39m\u001b[38;5;124m\"\u001b[39m)\n\u001b[0;32m    250\u001b[0m \u001b[38;5;66;03m# Rust stack traces follow from here:\u001b[39;00m\n\u001b[1;32m--> 251\u001b[0m \u001b[38;5;28;01mraise\u001b[39;00m OpenDPException(variant, message, backtrace)\n",
      "\u001b[1;31mOpenDPException\u001b[0m: \n  FFI(\"Continued stack trace from Exception in user-defined function:\nTraceback (most recent call last):\n  File \"c:\\Users\\kshub\\AppData\\Local\\Programs\\Python\\Python312\\Lib\\site-packages\\opendp\\_convert.py\", line 459, in wrapper_func\n    py_out = func(py_arg)\n             ^^^^^^^^^^^^\n  File \"C:\\Users\\kshub\\AppData\\Local\\Temp\\ipykernel_22960\\257734847.py\", line 8, in <lambda>\n    function=lambda df: df[(df[\"transaction_type\"] == \"OFFLINE\")],\n                            ~~^^^^^^^^^^^^^^^^^^^^\nTypeError: 'int' object is not subscriptable\n\")"
     ]
    }
   ],
   "source": [
    "analysis=dp.binary_search_chain(hotspot_predictor, 1,1.0,bounds=bounds)"
   ]
  },
  {
   "cell_type": "code",
   "execution_count": 149,
   "metadata": {},
   "outputs": [
    {
     "name": "stdout",
     "output_type": "stream",
     "text": [
      "30917.40000000001\n",
      "                        0\n",
      "merch_postal_code        \n",
      "7071                45765\n",
      "55411              183692\n",
      "70040               31856\n",
      "70050               27510\n",
      "70070               43102\n",
      "...                   ...\n",
      "9670000            108717\n",
      "9710000            106582\n",
      "9750000             84828\n",
      "9790000            128256\n",
      "9810000             83009\n",
      "\n",
      "[303 rows x 1 columns]\n"
     ]
    }
   ],
   "source": [
    "df_new = df.copy()\n",
    "bounds = (0, 454)\n",
    "start_date, end_date = datetime(2020, 9, 1), datetime(2021, 3, 31)\n",
    "columns = [\"nb_transactions\"]\n",
    "by = [\"merch_postal_code\"]\n",
    "scale=10.0\n",
    "column=\"transaction_type\"\n",
    "entry=\"OFFLINE\"\n",
    "hotspot_predictor=(\n",
    "    make_filter_offline(column,entry)\n",
    "    >>make_truncate_time(start_date, end_date, time_col)\n",
    "    >>make_private_sum_by(columns, by, bounds, scale)\n",
    ")\n",
    "print(hotspot_predictor.map(1))\n",
    "output=hotspot_predictor(df_new)\n",
    "print(output)"
   ]
  },
  {
   "cell_type": "code",
   "execution_count": 150,
   "metadata": {},
   "outputs": [
    {
     "name": "stdout",
     "output_type": "stream",
     "text": [
      "30917.40000000001\n",
      "                                 0\n",
      "merch_postal_code date            \n",
      "7071              2020-09-01  2014\n",
      "                  2020-09-08  1946\n",
      "                  2020-09-15  1923\n",
      "                  2020-09-22  1940\n",
      "                  2020-09-29  1896\n",
      "...                            ...\n",
      "9810000           2021-03-02  1836\n",
      "                  2021-03-09  1851\n",
      "                  2021-03-16  1899\n",
      "                  2021-03-23  1907\n",
      "                  2021-03-30  1923\n",
      "\n",
      "[9238 rows x 1 columns]\n"
     ]
    }
   ],
   "source": [
    "df_new = df.copy()\n",
    "bounds = (0, 454)\n",
    "start_date, end_date = datetime(2020, 9, 1), datetime(2021, 3, 31)\n",
    "columns = [\"nb_transactions\"]\n",
    "by = [\"merch_postal_code\",\"date\"]\n",
    "scale=10.0\n",
    "column=\"merch_category\"\n",
    "entry=\"Drug Stores/Pharmacies\"\n",
    "hotspot_predictor=(\n",
    "    make_filter_offline(column,entry)\n",
    "    >>make_truncate_time(start_date, end_date, time_col)\n",
    "    >>make_private_sum_by(columns, by, bounds, scale)\n",
    ")\n",
    "print(hotspot_predictor.map(1))\n",
    "output=hotspot_predictor(df_new)\n",
    "print(output)"
   ]
  },
  {
   "cell_type": "code",
   "execution_count": 151,
   "metadata": {},
   "outputs": [
    {
     "name": "stdout",
     "output_type": "stream",
     "text": [
      "30917.40000000001\n",
      "                               0\n",
      "merch_postal_code date          \n",
      "7071              2020-09-01   9\n",
      "                  2020-09-08  25\n",
      "                  2020-09-15  18\n",
      "                  2020-09-22   0\n",
      "                  2020-09-29   6\n",
      "...                           ..\n",
      "9810000           2021-03-02  58\n",
      "                  2021-03-09  59\n",
      "                  2021-03-16  71\n",
      "                  2021-03-23  53\n",
      "                  2021-03-30  65\n",
      "\n",
      "[6291 rows x 1 columns]\n"
     ]
    }
   ],
   "source": [
    "df_new = df.copy()\n",
    "bounds = (0, 454)\n",
    "start_date, end_date = datetime(2020, 9, 1), datetime(2021, 3, 31)\n",
    "columns = [\"nb_transactions\"]\n",
    "by = [\"merch_postal_code\",\"date\"]\n",
    "scale=10.0\n",
    "column=\"merch_category\"\n",
    "entry=\"Airlines\"\n",
    "hotspot_predictor=(\n",
    "    make_filter_offline(column,entry)\n",
    "    >>make_truncate_time(start_date, end_date, time_col)\n",
    "    >>make_private_sum_by(columns, by, bounds, scale)\n",
    ")\n",
    "print(hotspot_predictor.map(1))\n",
    "output=hotspot_predictor(df_new)\n",
    "print(output)"
   ]
  },
  {
   "cell_type": "code",
   "execution_count": null,
   "metadata": {},
   "outputs": [],
   "source": [
    "def make_select_grouping_cols(candidates, min_bin_size, d_in, d_out):\n",
    "    \"\"\"Create a measurement that selects a set of grouping columns from `candidates`.\"\"\"\n",
    "    def make(s):\n",
    "        return (\n",
    "            make_grouping_cols_score(candidates, min_bin_size)\n",
    "            >> dp.m.then_report_noisy_max_gumbel(s, optimize=\"max\")\n",
    "            >> (lambda idx: candidates[idx])\n",
    "        )\n",
    "\n",
    "    return dp.binary_search_chain(make, d_in, d_out, T=float)"
   ]
  },
  {
   "cell_type": "code",
   "execution_count": 28,
   "metadata": {},
   "outputs": [],
   "source": [
    "def hotspot_detection(df, start_date, end_date, time_col):\n",
    "    \"\"\"DP function that detects hotspots.\"\"\"\n",
    "    df_new = df.copy()\n",
    "    bounds = (0, 454)\n",
    "\n",
    "    def make_filter_offline():\n",
    "        \"\"\"filters offline entries\"\"\"\n",
    "        return dp.t.make_user_transformation(\n",
    "        input_domain=dataframe_domain(),\n",
    "        input_metric=dp.symmetric_distance(),\n",
    "        output_domain=dp.vector_domain(dp.atom_domain(T=T)),\n",
    "        output_metric=dp.symmetric_distance(),\n",
    "        function=lambda df: df[(df[\"transaction_type\"] == \"OFFLINE\")],\n",
    "        stability_map=lambda d_in: d_in,\n",
    "    )\n",
    "\n",
    "\n",
    "\n",
    "\n",
    "    make_filter_offline>>make_truncate_time(start_date, end_date, time_col)>>make_private_sum_by()\n",
    "    "
   ]
  }
 ],
 "metadata": {
  "kernelspec": {
   "display_name": "Python 3",
   "language": "python",
   "name": "python3"
  },
  "language_info": {
   "codemirror_mode": {
    "name": "ipython",
    "version": 3
   },
   "file_extension": ".py",
   "mimetype": "text/x-python",
   "name": "python",
   "nbconvert_exporter": "python",
   "pygments_lexer": "ipython3",
   "version": "3.12.1"
  }
 },
 "nbformat": 4,
 "nbformat_minor": 2
}
