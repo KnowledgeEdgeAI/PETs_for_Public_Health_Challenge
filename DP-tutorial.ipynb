{
 "cells": [
  {
   "cell_type": "code",
   "execution_count": 1,
   "metadata": {},
   "outputs": [],
   "source": [
    "import opendp.prelude as dp"
   ]
  },
  {
   "cell_type": "code",
   "execution_count": 2,
   "metadata": {},
   "outputs": [],
   "source": [
    "dp.enable_features(\"contrib\")"
   ]
  },
  {
   "cell_type": "code",
   "execution_count": 3,
   "metadata": {},
   "outputs": [],
   "source": [
    "privacy_unit= dp.unit_of(contributions=1)"
   ]
  },
  {
   "cell_type": "code",
   "execution_count": 4,
   "metadata": {},
   "outputs": [],
   "source": [
    "privacy_loss=dp.loss_of(epsilon=1.0)"
   ]
  },
  {
   "cell_type": "code",
   "execution_count": 5,
   "metadata": {},
   "outputs": [],
   "source": [
    "# pip install urllib"
   ]
  },
  {
   "cell_type": "code",
   "execution_count": 6,
   "metadata": {},
   "outputs": [],
   "source": [
    "import urllib.request\n",
    "data_url=\"https://raw.githubusercontent.com/opendp/opendp/sydney/teacher_survey.csv\"\n",
    "with urllib.request.urlopen(data_url) as f:\n",
    "    data=f.read().decode(\"utf-8\")\n",
    "\n",
    "context=dp.Context.compositor(\n",
    "    data=data,\n",
    "    privacy_unit=privacy_unit,\n",
    "    privacy_loss=privacy_loss,\n",
    "    split_evenly_over=3\n",
    ")"
   ]
  },
  {
   "cell_type": "code",
   "execution_count": 7,
   "metadata": {},
   "outputs": [],
   "source": [
    "col_names=[\n",
    "    \"names\",\"sex\",\"age\",\"maritalStatus\",\"hasChildren\",\"highestEducationLevel\",\"sourceOfStress\",\"smoker\",\"optimism\",\"lifeSatisfaction\",\"selfEsteem\"\n",
    "]"
   ]
  },
  {
   "cell_type": "code",
   "execution_count": 8,
   "metadata": {},
   "outputs": [],
   "source": [
    "count_query=(\n",
    "    context.query().split_dataframe(\",\",col_names=col_names).select_column(\"age\",str).count().laplace()\n",
    ")"
   ]
  },
  {
   "cell_type": "code",
   "execution_count": 9,
   "metadata": {},
   "outputs": [
    {
     "name": "stdout",
     "output_type": "stream",
     "text": [
      "3.0000000000000004\n"
     ]
    }
   ],
   "source": [
    "scale=count_query.param()\n",
    "print(scale)"
   ]
  },
  {
   "cell_type": "code",
   "execution_count": 10,
   "metadata": {},
   "outputs": [
    {
     "data": {
      "text/plain": [
       "9.445721638273586"
      ]
     },
     "execution_count": 10,
     "metadata": {},
     "output_type": "execute_result"
    }
   ],
   "source": [
    "accuracy=dp.discrete_laplacian_scale_to_accuracy(scale,alpha=0.05)\n",
    "accuracy"
   ]
  },
  {
   "cell_type": "code",
   "execution_count": 11,
   "metadata": {},
   "outputs": [
    {
     "data": {
      "text/plain": [
       "6999"
      ]
     },
     "execution_count": 11,
     "metadata": {},
     "output_type": "execute_result"
    }
   ],
   "source": [
    "dp_count=count_query.release()\n",
    "dp_count"
   ]
  },
  {
   "cell_type": "code",
   "execution_count": 12,
   "metadata": {},
   "outputs": [
    {
     "data": {
      "text/plain": [
       "(6989.554278361727, 7008.445721638273)"
      ]
     },
     "execution_count": 12,
     "metadata": {},
     "output_type": "execute_result"
    }
   ],
   "source": [
    "dp_count-accuracy,dp_count+accuracy"
   ]
  },
  {
   "cell_type": "code",
   "execution_count": 13,
   "metadata": {},
   "outputs": [],
   "source": [
    "mean_query=(\n",
    "    context.query().split_dataframe(\",\",col_names=col_names).select_column(\"age\",str).cast_default(float).clamp((17.0,70.0)).resize(size=dp_count,constant=42.0).mean().laplace()\n",
    ")"
   ]
  },
  {
   "cell_type": "code",
   "execution_count": 14,
   "metadata": {},
   "outputs": [
    {
     "data": {
      "text/plain": [
       "37.346269479969095"
      ]
     },
     "execution_count": 14,
     "metadata": {},
     "output_type": "execute_result"
    }
   ],
   "source": [
    "mean_query.release()"
   ]
  },
  {
   "cell_type": "markdown",
   "metadata": {},
   "source": [
    "# moving to another dataset"
   ]
  },
  {
   "cell_type": "code",
   "execution_count": 15,
   "metadata": {},
   "outputs": [],
   "source": [
    "import urllib.request\n",
    "data_url=\"https://raw.githubusercontent.com/opendp/opendp/sydney/Sydney_Synth_Pedestrian_Counts_2024_2_3.csv\"\n",
    "with urllib.request.urlopen(data_url) as f:\n",
    "    data=f.read().decode(\"utf-8\")"
   ]
  },
  {
   "cell_type": "code",
   "execution_count": 16,
   "metadata": {},
   "outputs": [],
   "source": [
    "privacy_unit=dp.unit_of(contributions=3)"
   ]
  },
  {
   "cell_type": "code",
   "execution_count": 17,
   "metadata": {},
   "outputs": [],
   "source": [
    "privacy_loss=dp.loss_of(epsilon=1.0)"
   ]
  },
  {
   "cell_type": "code",
   "execution_count": 18,
   "metadata": {},
   "outputs": [],
   "source": [
    "col_names=[\"Street\",\"Hour\",\"First Name\",\"Last Name\",\"Age\",\"Gender\"]\n",
    "street_names=[\"Park Street\",\"Bridge Street\", \"Market Street\"]"
   ]
  },
  {
   "cell_type": "code",
   "execution_count": 39,
   "metadata": {},
   "outputs": [],
   "source": [
    "context=dp.Context.compositor(\n",
    "    data=data,\n",
    "    privacy_unit=privacy_unit,\n",
    "    privacy_loss=privacy_loss,\n",
    "    split_evenly_over=10,\n",
    ")"
   ]
  },
  {
   "cell_type": "code",
   "execution_count": 24,
   "metadata": {},
   "outputs": [
    {
     "data": {
      "text/plain": [
       "3868"
      ]
     },
     "execution_count": 24,
     "metadata": {},
     "output_type": "execute_result"
    }
   ],
   "source": [
    "Bridge_count_query=(\n",
    "    context.query().split_dataframe(\",\",col_names=col_names).df_is_equal(\"Street\",\"Bridge Street\").subset_by(\"Street\", keep_columns=[\"First Name\"]).select_column(\"First Name\",str).count().laplace()\n",
    ")\n",
    "Bridge_count_query.release()"
   ]
  },
  {
   "cell_type": "code",
   "execution_count": 75,
   "metadata": {},
   "outputs": [
    {
     "data": {
      "text/plain": [
       "[33785, 3785, 18775]"
      ]
     },
     "execution_count": 75,
     "metadata": {},
     "output_type": "execute_result"
    }
   ],
   "source": [
    "count_query=(\n",
    "    context.query().split_dataframe(',',col_names=col_names).select_column(\"Street\",str).count_by_categories(street_names,null_category=False).laplace()\n",
    ")\n",
    "street_wise_sighting=count_query.release()\n",
    "street_wise_sighting"
   ]
  },
  {
   "cell_type": "code",
   "execution_count": 31,
   "metadata": {},
   "outputs": [
    {
     "data": {
      "text/plain": [
       "[1763,\n",
       " 1339,\n",
       " 1366,\n",
       " 1178,\n",
       " 646,\n",
       " 279,\n",
       " 369,\n",
       " 711,\n",
       " 995,\n",
       " 1926,\n",
       " 2693,\n",
       " 3794,\n",
       " 4365,\n",
       " 4467,\n",
       " 5033,\n",
       " 4788,\n",
       " 4907,\n",
       " 4090,\n",
       " 3086,\n",
       " 2671,\n",
       " 2055,\n",
       " 1716,\n",
       " 1055,\n",
       " 796]"
      ]
     },
     "execution_count": 31,
     "metadata": {},
     "output_type": "execute_result"
    }
   ],
   "source": [
    "hours=list(range(24))\n",
    "hour_count_query=(\n",
    "    context.query().split_dataframe(\",\",col_names=col_names).select_column(\"Hour\",str).cast_default(int).count_by_categories(hours,null_category=False).laplace()\n",
    ")\n",
    "hourly_sightings= hour_count_query.release()\n",
    "hourly_sightings"
   ]
  },
  {
   "cell_type": "code",
   "execution_count": 36,
   "metadata": {},
   "outputs": [
    {
     "data": {
      "image/png": "[encoded data removed]",
      "text/plain": [
       "<Figure size 640x480 with 1 Axes>"
      ]
     },
     "metadata": {},
     "output_type": "display_data"
    }
   ],
   "source": [
    "import matplotlib.pyplot as plt\n",
    "\n",
    "def fmt(hour):\n",
    "    return f\"{int(hour)%12} {'AM' if int(hour)<12 else 'PM'}\"\n",
    "\n",
    "plt.bar(list(map(fmt,hours)),hourly_sightings)\n",
    "plt.xticks(range(1,24,4))\n",
    "plt.show()\n"
   ]
  },
  {
   "cell_type": "code",
   "execution_count": 57,
   "metadata": {},
   "outputs": [],
   "source": [
    "park_street_ages=(\n",
    "    context.query().split_dataframe(\",\",col_names=col_names).df_is_equal(\"Street\",\"Park Street\").select_column(\"Age\",str).cast_default(float).clamp((0.,100.)).resize(size=street_wise_sighting[0],constant=42.0)\n",
    ")"
   ]
  },
  {
   "cell_type": "code",
   "execution_count": 60,
   "metadata": {},
   "outputs": [
    {
     "data": {
      "text/plain": [
       "41.44563664535448"
      ]
     },
     "execution_count": 60,
     "metadata": {},
     "output_type": "execute_result"
    }
   ],
   "source": [
    "q_park_street_mean_ages= park_street_ages.mean().laplace()\n",
    "q_park_street_mean_ages.release()"
   ]
  },
  {
   "cell_type": "code",
   "execution_count": 61,
   "metadata": {},
   "outputs": [
    {
     "data": {
      "text/plain": [
       "177.29181428928325"
      ]
     },
     "execution_count": 61,
     "metadata": {},
     "output_type": "execute_result"
    }
   ],
   "source": [
    "q_park_street_variance_ages= park_street_ages.variance().laplace()\n",
    "q_park_street_variance_ages.release()"
   ]
  },
  {
   "cell_type": "code",
   "execution_count": 68,
   "metadata": {},
   "outputs": [
    {
     "data": {
      "text/plain": [
       "53"
      ]
     },
     "execution_count": 68,
     "metadata": {},
     "output_type": "execute_result"
    }
   ],
   "source": [
    "quantile_query=(\n",
    "    context.query().split_dataframe(\",\",col_names=col_names).df_is_equal(\"Street\",\"Park Street\").subset_by(\"Street\",keep_columns=[\"Age\"]).select_column(\"Age\",str).cast_default(int).quantile_score_candidates(list(range(100)),alpha=0.75).report_noisy_max_gumbel(optimize=\"min\")\n",
    "\n",
    ")\n",
    "quantile_query.release()"
   ]
  },
  {
   "cell_type": "code",
   "execution_count": 77,
   "metadata": {},
   "outputs": [
    {
     "ename": "ValueError",
     "evalue": "At most one parameter may be missing at a time",
     "output_type": "error",
     "traceback": [
      "\u001b[1;31m---------------------------------------------------------------------------\u001b[0m",
      "\u001b[1;31mValueError\u001b[0m                                Traceback (most recent call last)",
      "Cell \u001b[1;32mIn[77], line 2\u001b[0m\n\u001b[0;32m      1\u001b[0m quantile_query\u001b[38;5;241m=\u001b[39m(\n\u001b[1;32m----> 2\u001b[0m     \u001b[43mcontext\u001b[49m\u001b[38;5;241;43m.\u001b[39;49m\u001b[43mquery\u001b[49m\u001b[43m(\u001b[49m\u001b[43m)\u001b[49m\u001b[38;5;241;43m.\u001b[39;49m\u001b[43msplit_dataframe\u001b[49m\u001b[43m(\u001b[49m\u001b[38;5;124;43m\"\u001b[39;49m\u001b[38;5;124;43m,\u001b[39;49m\u001b[38;5;124;43m\"\u001b[39;49m\u001b[43m,\u001b[49m\u001b[43mcol_names\u001b[49m\u001b[38;5;241;43m=\u001b[39;49m\u001b[43mcol_names\u001b[49m\u001b[43m)\u001b[49m\u001b[38;5;241;43m.\u001b[39;49m\u001b[43mdf_is_equal\u001b[49m\u001b[43m(\u001b[49m\u001b[38;5;124;43m\"\u001b[39;49m\u001b[38;5;124;43mStreet\u001b[39;49m\u001b[38;5;124;43m\"\u001b[39;49m\u001b[43m,\u001b[49m\u001b[38;5;124;43m\"\u001b[39;49m\u001b[38;5;124;43mPark Street\u001b[39;49m\u001b[38;5;124;43m\"\u001b[39;49m\u001b[43m)\u001b[49m\u001b[38;5;241;43m.\u001b[39;49m\u001b[43msubset_by\u001b[49m\u001b[43m(\u001b[49m\u001b[38;5;124;43m\"\u001b[39;49m\u001b[38;5;124;43mStreet\u001b[39;49m\u001b[38;5;124;43m\"\u001b[39;49m\u001b[43m,\u001b[49m\u001b[43mkeep_columns\u001b[49m\u001b[38;5;241;43m=\u001b[39;49m\u001b[43m[\u001b[49m\u001b[38;5;124;43m\"\u001b[39;49m\u001b[38;5;124;43mFirst Name\u001b[39;49m\u001b[38;5;124;43m\"\u001b[39;49m\u001b[43m]\u001b[49m\u001b[43m)\u001b[49m\u001b[38;5;241;43m.\u001b[39;49m\u001b[43mselect_column\u001b[49m\u001b[43m(\u001b[49m\u001b[38;5;124;43m\"\u001b[39;49m\u001b[38;5;124;43mFirst Name\u001b[39;49m\u001b[38;5;124;43m\"\u001b[39;49m\u001b[43m,\u001b[49m\u001b[38;5;28;43mstr\u001b[39;49m\u001b[43m)\u001b[49m\u001b[38;5;241;43m.\u001b[39;49m\u001b[43mcount_by\u001b[49m\u001b[43m(\u001b[49m\u001b[43mM0\u001b[49m\u001b[38;5;241;43m=\u001b[39;49m\u001b[43mdp\u001b[49m\u001b[38;5;241;43m.\u001b[39;49m\u001b[43mL1Distance\u001b[49m\u001b[43m[\u001b[49m\u001b[38;5;28;43mint\u001b[39;49m\u001b[43m]\u001b[49m\u001b[43m)\u001b[49m\u001b[38;5;241;43m.\u001b[39;49m\u001b[43malp_queryable\u001b[49m\u001b[43m(\u001b[49m\u001b[43mscale\u001b[49m\u001b[38;5;241;43m=\u001b[39;49m\u001b[38;5;241;43m.025\u001b[39;49m\u001b[43m,\u001b[49m\u001b[43mtotal_limit\u001b[49m\u001b[38;5;241;43m=\u001b[39;49m\u001b[38;5;28;43msum\u001b[39;49m\u001b[43m(\u001b[49m\u001b[43mstreet_wise_sighting\u001b[49m\u001b[43m)\u001b[49m\u001b[43m,\u001b[49m\u001b[43mvalue_limit\u001b[49m\u001b[38;5;241;43m=\u001b[39;49m\u001b[38;5;241;43m1000\u001b[39;49m\u001b[43m)\u001b[49m\n\u001b[0;32m      3\u001b[0m \n\u001b[0;32m      4\u001b[0m )\n\u001b[0;32m      5\u001b[0m \u001b[38;5;66;03m# qbl=quantile_query.release()\u001b[39;00m\n\u001b[0;32m      6\u001b[0m \u001b[38;5;66;03m# qbl\u001b[39;00m\n",
      "File \u001b[1;32mc:\\Users\\kshub\\AppData\\Local\\Programs\\Python\\Python312\\Lib\\site-packages\\opendp\\context.py:422\u001b[0m, in \u001b[0;36mQuery.__getattr__.<locals>.make\u001b[1;34m(*args, **kwargs)\u001b[0m\n\u001b[0;32m    420\u001b[0m new_chain \u001b[38;5;241m=\u001b[39m constructor(\u001b[38;5;241m*\u001b[39margs, \u001b[38;5;241m*\u001b[39m\u001b[38;5;241m*\u001b[39mkwargs)\n\u001b[0;32m    421\u001b[0m \u001b[38;5;28;01mif\u001b[39;00m is_partial \u001b[38;5;129;01mor\u001b[39;00m \u001b[38;5;129;01mnot\u001b[39;00m \u001b[38;5;28misinstance\u001b[39m(\u001b[38;5;28mself\u001b[39m\u001b[38;5;241m.\u001b[39m_chain, \u001b[38;5;28mtuple\u001b[39m):\n\u001b[1;32m--> 422\u001b[0m     new_chain \u001b[38;5;241m=\u001b[39m \u001b[38;5;28;43mself\u001b[39;49m\u001b[38;5;241;43m.\u001b[39;49m\u001b[43m_chain\u001b[49m\u001b[43m \u001b[49m\u001b[38;5;241;43m>>\u001b[39;49m\u001b[43m \u001b[49m\u001b[43mnew_chain\u001b[49m\n\u001b[0;32m    424\u001b[0m \u001b[38;5;28;01mreturn\u001b[39;00m \u001b[38;5;28mself\u001b[39m\u001b[38;5;241m.\u001b[39mnew_with(chain\u001b[38;5;241m=\u001b[39mnew_chain)\n",
      "File \u001b[1;32mc:\\Users\\kshub\\AppData\\Local\\Programs\\Python\\Python312\\Lib\\site-packages\\opendp\\context.py:569\u001b[0m, in \u001b[0;36mPartialChain.__rshift__\u001b[1;34m(self, other)\u001b[0m\n\u001b[0;32m    566\u001b[0m \u001b[38;5;28;01mif\u001b[39;00m \u001b[38;5;28misinstance\u001b[39m(other, (Transformation, Measurement)): \u001b[38;5;66;03m# pragma: no cover\u001b[39;00m\n\u001b[0;32m    567\u001b[0m     \u001b[38;5;28;01mreturn\u001b[39;00m PartialChain(\u001b[38;5;28;01mlambda\u001b[39;00m x: \u001b[38;5;28mself\u001b[39m\u001b[38;5;241m.\u001b[39mpartial(x) \u001b[38;5;241m>>\u001b[39m other)\n\u001b[1;32m--> 569\u001b[0m \u001b[38;5;28;01mraise\u001b[39;00m \u001b[38;5;167;01mValueError\u001b[39;00m(\u001b[38;5;124m\"\u001b[39m\u001b[38;5;124mAt most one parameter may be missing at a time\u001b[39m\u001b[38;5;124m\"\u001b[39m)\n",
      "\u001b[1;31mValueError\u001b[0m: At most one parameter may be missing at a time"
     ]
    }
   ],
   "source": [
    "quantile_query=(\n",
    "    context.query().split_dataframe(\",\",col_names=col_names).df_is_equal(\"Street\",\"Park Street\").subset_by(\"Street\",keep_columns=[\"First Name\"]).select_column(\"First Name\",str).count_by(M0=dp.L1Distance[int]).alp_queryable(scale=.025,total_limit=sum(street_wise_sighting),value_limit=1000)\n",
    "\n",
    ")\n",
    "# qbl=quantile_query.release()\n",
    "# qbl"
   ]
  },
  {
   "cell_type": "code",
   "execution_count": null,
   "metadata": {},
   "outputs": [],
   "source": [
    "qbl(\"Michael\"),qbl(\"David\"),qbl(\"John\")"
   ]
  },
  {
   "cell_type": "code",
   "execution_count": null,
   "metadata": {},
   "outputs": [],
   "source": []
  }
 ],
 "metadata": {
  "kernelspec": {
   "display_name": "Python 3",
   "language": "python",
   "name": "python3"
  },
  "language_info": {
   "codemirror_mode": {
    "name": "ipython",
    "version": 3
   },
   "file_extension": ".py",
   "mimetype": "text/x-python",
   "name": "python",
   "nbconvert_exporter": "python",
   "pygments_lexer": "ipython3",
   "version": "3.12.1"
  }
 },
 "nbformat": 4,
 "nbformat_minor": 2
}
