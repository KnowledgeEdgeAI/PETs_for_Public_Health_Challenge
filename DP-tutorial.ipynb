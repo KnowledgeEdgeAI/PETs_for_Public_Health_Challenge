{
 "cells": [
  {
   "cell_type": "code",
   "execution_count": 1,
   "metadata": {},
   "outputs": [],
   "source": [
    "import opendp.prelude as dp"
   ]
  },
  {
   "cell_type": "code",
   "execution_count": 140,
   "metadata": {},
   "outputs": [],
   "source": [
    "dp.enable_features(\"contrib\",\"honest-but-curious\")"
   ]
  },
  {
   "cell_type": "code",
   "execution_count": 3,
   "metadata": {},
   "outputs": [],
   "source": [
    "privacy_unit= dp.unit_of(contributions=1)"
   ]
  },
  {
   "cell_type": "code",
   "execution_count": 4,
   "metadata": {},
   "outputs": [],
   "source": [
    "privacy_loss=dp.loss_of(epsilon=1.0)"
   ]
  },
  {
   "cell_type": "code",
   "execution_count": 5,
   "metadata": {},
   "outputs": [],
   "source": [
    "# pip install urllib"
   ]
  },
  {
   "cell_type": "code",
   "execution_count": 6,
   "metadata": {},
   "outputs": [],
   "source": [
    "import urllib.request\n",
    "data_url=\"https://raw.githubusercontent.com/opendp/opendp/sydney/teacher_survey.csv\"\n",
    "with urllib.request.urlopen(data_url) as f:\n",
    "    data=f.read().decode(\"utf-8\")\n",
    "\n",
    "context=dp.Context.compositor(\n",
    "    data=data,\n",
    "    privacy_unit=privacy_unit,\n",
    "    privacy_loss=privacy_loss,\n",
    "    split_evenly_over=3\n",
    ")"
   ]
  },
  {
   "cell_type": "code",
   "execution_count": 7,
   "metadata": {},
   "outputs": [],
   "source": [
    "col_names=[\n",
    "    \"names\",\"sex\",\"age\",\"maritalStatus\",\"hasChildren\",\"highestEducationLevel\",\"sourceOfStress\",\"smoker\",\"optimism\",\"lifeSatisfaction\",\"selfEsteem\"\n",
    "]"
   ]
  },
  {
   "cell_type": "code",
   "execution_count": 8,
   "metadata": {},
   "outputs": [],
   "source": [
    "count_query=(\n",
    "    context.query().split_dataframe(\",\",col_names=col_names).select_column(\"age\",str).count().laplace()\n",
    ")"
   ]
  },
  {
   "cell_type": "code",
   "execution_count": 9,
   "metadata": {},
   "outputs": [
    {
     "name": "stdout",
     "output_type": "stream",
     "text": [
      "3.0000000000000004\n"
     ]
    }
   ],
   "source": [
    "scale=count_query.param()\n",
    "print(scale)"
   ]
  },
  {
   "cell_type": "code",
   "execution_count": 10,
   "metadata": {},
   "outputs": [
    {
     "data": {
      "text/plain": [
       "9.445721638273586"
      ]
     },
     "execution_count": 10,
     "metadata": {},
     "output_type": "execute_result"
    }
   ],
   "source": [
    "accuracy=dp.discrete_laplacian_scale_to_accuracy(scale,alpha=0.05)\n",
    "accuracy"
   ]
  },
  {
   "cell_type": "code",
   "execution_count": 11,
   "metadata": {},
   "outputs": [
    {
     "data": {
      "text/plain": [
       "6999"
      ]
     },
     "execution_count": 11,
     "metadata": {},
     "output_type": "execute_result"
    }
   ],
   "source": [
    "dp_count=count_query.release()\n",
    "dp_count"
   ]
  },
  {
   "cell_type": "code",
   "execution_count": 12,
   "metadata": {},
   "outputs": [
    {
     "data": {
      "text/plain": [
       "(6989.554278361727, 7008.445721638273)"
      ]
     },
     "execution_count": 12,
     "metadata": {},
     "output_type": "execute_result"
    }
   ],
   "source": [
    "dp_count-accuracy,dp_count+accuracy"
   ]
  },
  {
   "cell_type": "code",
   "execution_count": 13,
   "metadata": {},
   "outputs": [],
   "source": [
    "mean_query=(\n",
    "    context.query().split_dataframe(\",\",col_names=col_names).select_column(\"age\",str).cast_default(float).clamp((17.0,70.0)).resize(size=dp_count,constant=42.0).mean().laplace()\n",
    ")"
   ]
  },
  {
   "cell_type": "code",
   "execution_count": 154,
   "metadata": {},
   "outputs": [
    {
     "name": "stdout",
     "output_type": "stream",
     "text": [
      "0.02271753107710181\n"
     ]
    },
    {
     "ename": "AttributeError",
     "evalue": "Unrecognized constructor: 'map'",
     "output_type": "error",
     "traceback": [
      "\u001b[1;31m---------------------------------------------------------------------------\u001b[0m",
      "\u001b[1;31mAttributeError\u001b[0m                            Traceback (most recent call last)",
      "Cell \u001b[1;32mIn[154], line 2\u001b[0m\n\u001b[0;32m      1\u001b[0m \u001b[38;5;28mprint\u001b[39m(mean_query\u001b[38;5;241m.\u001b[39mparam())\n\u001b[1;32m----> 2\u001b[0m \u001b[38;5;28mprint\u001b[39m(\u001b[43mmean_query\u001b[49m\u001b[38;5;241;43m.\u001b[39;49m\u001b[43mmap\u001b[49m(\u001b[38;5;241m1\u001b[39m))\n",
      "File \u001b[1;32mc:\\Users\\kshub\\AppData\\Local\\Programs\\Python\\Python312\\Lib\\site-packages\\opendp\\context.py:395\u001b[0m, in \u001b[0;36mQuery.__getattr__\u001b[1;34m(self, name)\u001b[0m\n\u001b[0;32m    393\u001b[0m \u001b[38;5;250m\u001b[39m\u001b[38;5;124;03m\"\"\"Creates a new query by applying a transformation or measurement to the current chain.\"\"\"\u001b[39;00m\n\u001b[0;32m    394\u001b[0m \u001b[38;5;28;01mif\u001b[39;00m name \u001b[38;5;129;01mnot\u001b[39;00m \u001b[38;5;129;01min\u001b[39;00m constructors:\n\u001b[1;32m--> 395\u001b[0m     \u001b[38;5;28;01mraise\u001b[39;00m \u001b[38;5;167;01mAttributeError\u001b[39;00m(\u001b[38;5;124mf\u001b[39m\u001b[38;5;124m\"\u001b[39m\u001b[38;5;124mUnrecognized constructor: \u001b[39m\u001b[38;5;124m'\u001b[39m\u001b[38;5;132;01m{\u001b[39;00mname\u001b[38;5;132;01m}\u001b[39;00m\u001b[38;5;124m'\u001b[39m\u001b[38;5;124m\"\u001b[39m)\n\u001b[0;32m    397\u001b[0m \u001b[38;5;28;01mdef\u001b[39;00m \u001b[38;5;21mmake\u001b[39m(\u001b[38;5;241m*\u001b[39margs, \u001b[38;5;241m*\u001b[39m\u001b[38;5;241m*\u001b[39mkwargs) \u001b[38;5;241m-\u001b[39m\u001b[38;5;241m>\u001b[39m \u001b[38;5;124m\"\u001b[39m\u001b[38;5;124mQuery\u001b[39m\u001b[38;5;124m\"\u001b[39m:\n\u001b[0;32m    398\u001b[0m \u001b[38;5;250m    \u001b[39m\u001b[38;5;124;03m\"\"\"Wraps the `make_{name}` constructor to allow one optional parameter and chains it to the current query.\u001b[39;00m\n\u001b[0;32m    399\u001b[0m \n\u001b[0;32m    400\u001b[0m \u001b[38;5;124;03m    This function will be called when the user calls `query.{name}(...)`.\u001b[39;00m\n\u001b[0;32m    401\u001b[0m \u001b[38;5;124;03m    \"\"\"\u001b[39;00m\n",
      "\u001b[1;31mAttributeError\u001b[0m: Unrecognized constructor: 'map'"
     ]
    }
   ],
   "source": [
    "print(mean_query.param())\n",
    "print(mean_query.map(1))"
   ]
  },
  {
   "cell_type": "code",
   "execution_count": 14,
   "metadata": {},
   "outputs": [
    {
     "data": {
      "text/plain": [
       "37.346269479969095"
      ]
     },
     "execution_count": 14,
     "metadata": {},
     "output_type": "execute_result"
    }
   ],
   "source": [
    "mean_query.release()"
   ]
  },
  {
   "cell_type": "markdown",
   "metadata": {},
   "source": [
    "# moving to another dataset"
   ]
  },
  {
   "cell_type": "code",
   "execution_count": 103,
   "metadata": {},
   "outputs": [],
   "source": [
    "import urllib.request\n",
    "data_url=\"https://raw.githubusercontent.com/opendp/opendp/sydney/Sydney_Synth_Pedestrian_Counts_2024_2_3.csv\"\n",
    "with urllib.request.urlopen(data_url) as f:\n",
    "    data=f.read().decode(\"utf-8\")"
   ]
  },
  {
   "cell_type": "code",
   "execution_count": 104,
   "metadata": {},
   "outputs": [],
   "source": [
    "privacy_unit=dp.unit_of(contributions=3)"
   ]
  },
  {
   "cell_type": "code",
   "execution_count": 105,
   "metadata": {},
   "outputs": [],
   "source": [
    "privacy_loss=dp.loss_of(epsilon=1.0)"
   ]
  },
  {
   "cell_type": "code",
   "execution_count": 106,
   "metadata": {},
   "outputs": [],
   "source": [
    "col_names=[\"Street\",\"Hour\",\"First Name\",\"Last Name\",\"Age\",\"Gender\"]\n",
    "street_names=[\"Park Street\",\"Bridge Street\", \"Market Street\"]"
   ]
  },
  {
   "cell_type": "code",
   "execution_count": 107,
   "metadata": {},
   "outputs": [],
   "source": [
    "context=dp.Context.compositor(\n",
    "    data=data,\n",
    "    privacy_unit=privacy_unit,\n",
    "    privacy_loss=privacy_loss,\n",
    "    split_evenly_over=10,\n",
    ")"
   ]
  },
  {
   "cell_type": "code",
   "execution_count": 108,
   "metadata": {},
   "outputs": [
    {
     "data": {
      "text/plain": [
       "3848"
      ]
     },
     "execution_count": 108,
     "metadata": {},
     "output_type": "execute_result"
    }
   ],
   "source": [
    "Bridge_count_query=(\n",
    "    context.query().split_dataframe(\",\",col_names=col_names).df_is_equal(\"Street\",\"Bridge Street\").subset_by(\"Street\", keep_columns=[\"First Name\"]).select_column(\"First Name\",str).count().laplace()\n",
    ")\n",
    "Bridge_count_query.release()"
   ]
  },
  {
   "cell_type": "code",
   "execution_count": 109,
   "metadata": {},
   "outputs": [
    {
     "data": {
      "text/plain": [
       "[33781, 3813, 18762]"
      ]
     },
     "execution_count": 109,
     "metadata": {},
     "output_type": "execute_result"
    }
   ],
   "source": [
    "count_query=(\n",
    "    context.query().split_dataframe(',',col_names=col_names).select_column(\"Street\",str).count_by_categories(street_names,null_category=False).laplace()\n",
    ")\n",
    "street_wise_sighting=count_query.release()\n",
    "street_wise_sighting"
   ]
  },
  {
   "cell_type": "code",
   "execution_count": 110,
   "metadata": {},
   "outputs": [
    {
     "data": {
      "text/plain": [
       "[1864,\n",
       " 1338,\n",
       " 1353,\n",
       " 1245,\n",
       " 583,\n",
       " 236,\n",
       " 398,\n",
       " 672,\n",
       " 1020,\n",
       " 1875,\n",
       " 2812,\n",
       " 3734,\n",
       " 4422,\n",
       " 4494,\n",
       " 5045,\n",
       " 4853,\n",
       " 4914,\n",
       " 4100,\n",
       " 3127,\n",
       " 2794,\n",
       " 2047,\n",
       " 1787,\n",
       " 1050,\n",
       " 768]"
      ]
     },
     "execution_count": 110,
     "metadata": {},
     "output_type": "execute_result"
    }
   ],
   "source": [
    "hours=list(range(24))\n",
    "hour_count_query=(\n",
    "    context.query().split_dataframe(\",\",col_names=col_names).select_column(\"Hour\",str).cast_default(int).count_by_categories(hours,null_category=False).laplace()\n",
    ")\n",
    "hourly_sightings= hour_count_query.release()\n",
    "hourly_sightings"
   ]
  },
  {
   "cell_type": "code",
   "execution_count": 111,
   "metadata": {},
   "outputs": [
    {
     "data": {
      "image/png": "[encoded data removed]",
      "text/plain": [
       "<Figure size 640x480 with 1 Axes>"
      ]
     },
     "metadata": {},
     "output_type": "display_data"
    }
   ],
   "source": [
    "import matplotlib.pyplot as plt\n",
    "\n",
    "def fmt(hour):\n",
    "    return f\"{int(hour)%12} {'AM' if int(hour)<12 else 'PM'}\"\n",
    "\n",
    "plt.bar(list(map(fmt,hours)),hourly_sightings)\n",
    "plt.xticks(range(1,24,4))\n",
    "plt.show()\n"
   ]
  },
  {
   "cell_type": "code",
   "execution_count": 112,
   "metadata": {},
   "outputs": [],
   "source": [
    "park_street_ages=(\n",
    "    context.query().split_dataframe(\",\",col_names=col_names).df_is_equal(\"Street\",\"Park Street\").select_column(\"Age\",str).cast_default(float).clamp((0.,100.)).resize(size=street_wise_sighting[0],constant=42.0)\n",
    ")"
   ]
  },
  {
   "cell_type": "code",
   "execution_count": 164,
   "metadata": {},
   "outputs": [
    {
     "ename": "OpenDPException",
     "evalue": "\n  FailedFunction(\"out of queries\")",
     "output_type": "error",
     "traceback": [
      "\u001b[1;31m---------------------------------------------------------------------------\u001b[0m",
      "\u001b[1;31mOpenDPException\u001b[0m                           Traceback (most recent call last)",
      "Cell \u001b[1;32mIn[164], line 2\u001b[0m\n\u001b[0;32m      1\u001b[0m q_park_street_mean_ages\u001b[38;5;241m=\u001b[39m park_street_ages\u001b[38;5;241m.\u001b[39msum()\u001b[38;5;241m.\u001b[39mlaplace()\n\u001b[1;32m----> 2\u001b[0m \u001b[43mq_park_street_mean_ages\u001b[49m\u001b[38;5;241;43m.\u001b[39;49m\u001b[43mrelease\u001b[49m\u001b[43m(\u001b[49m\u001b[43m)\u001b[49m\n",
      "File \u001b[1;32mc:\\Users\\kshub\\AppData\\Local\\Programs\\Python\\Python312\\Lib\\site-packages\\opendp\\context.py:460\u001b[0m, in \u001b[0;36mQuery.release\u001b[1;34m(self)\u001b[0m\n\u001b[0;32m    458\u001b[0m \u001b[38;5;250m\u001b[39m\u001b[38;5;124;03m\"\"\"Release the query. The query must be part of a context.\"\"\"\u001b[39;00m\n\u001b[0;32m    459\u001b[0m \u001b[38;5;66;03m# TODO: consider adding an optional `data` parameter for when _context is None\u001b[39;00m\n\u001b[1;32m--> 460\u001b[0m answer \u001b[38;5;241m=\u001b[39m \u001b[38;5;28;43mself\u001b[39;49m\u001b[38;5;241;43m.\u001b[39;49m\u001b[43m_context\u001b[49m\u001b[43m(\u001b[49m\u001b[38;5;28;43mself\u001b[39;49m\u001b[38;5;241;43m.\u001b[39;49m\u001b[43mresolve\u001b[49m\u001b[43m(\u001b[49m\u001b[43m)\u001b[49m\u001b[43m)\u001b[49m \u001b[38;5;66;03m# type: ignore[misc]\u001b[39;00m\n\u001b[0;32m    461\u001b[0m \u001b[38;5;28;01mif\u001b[39;00m \u001b[38;5;28mself\u001b[39m\u001b[38;5;241m.\u001b[39m_wrap_release:\n\u001b[0;32m    462\u001b[0m     answer \u001b[38;5;241m=\u001b[39m \u001b[38;5;28mself\u001b[39m\u001b[38;5;241m.\u001b[39m_wrap_release(answer)\n",
      "File \u001b[1;32mc:\\Users\\kshub\\AppData\\Local\\Programs\\Python\\Python312\\Lib\\site-packages\\opendp\\context.py:312\u001b[0m, in \u001b[0;36mContext.__call__\u001b[1;34m(self, query)\u001b[0m\n\u001b[0;32m    310\u001b[0m \u001b[38;5;28;01mif\u001b[39;00m \u001b[38;5;28misinstance\u001b[39m(query, Query):\n\u001b[0;32m    311\u001b[0m     query \u001b[38;5;241m=\u001b[39m query\u001b[38;5;241m.\u001b[39mresolve() \u001b[38;5;66;03m# pragma: no cover\u001b[39;00m\n\u001b[1;32m--> 312\u001b[0m answer \u001b[38;5;241m=\u001b[39m \u001b[38;5;28;43mself\u001b[39;49m\u001b[38;5;241;43m.\u001b[39;49m\u001b[43mqueryable\u001b[49m\u001b[43m(\u001b[49m\u001b[43mquery\u001b[49m\u001b[43m)\u001b[49m\n\u001b[0;32m    313\u001b[0m \u001b[38;5;28;01mif\u001b[39;00m \u001b[38;5;28mself\u001b[39m\u001b[38;5;241m.\u001b[39md_mids \u001b[38;5;129;01mis\u001b[39;00m \u001b[38;5;129;01mnot\u001b[39;00m \u001b[38;5;28;01mNone\u001b[39;00m:\n\u001b[0;32m    314\u001b[0m     \u001b[38;5;28mself\u001b[39m\u001b[38;5;241m.\u001b[39md_mids\u001b[38;5;241m.\u001b[39mpop(\u001b[38;5;241m0\u001b[39m)\n",
      "File \u001b[1;32mc:\\Users\\kshub\\AppData\\Local\\Programs\\Python\\Python312\\Lib\\site-packages\\opendp\\mod.py:409\u001b[0m, in \u001b[0;36mQueryable.__call__\u001b[1;34m(self, query)\u001b[0m\n\u001b[0;32m    407\u001b[0m \u001b[38;5;28;01mdef\u001b[39;00m \u001b[38;5;21m__call__\u001b[39m(\u001b[38;5;28mself\u001b[39m, query):\n\u001b[0;32m    408\u001b[0m     \u001b[38;5;28;01mfrom\u001b[39;00m \u001b[38;5;21;01mopendp\u001b[39;00m\u001b[38;5;21;01m.\u001b[39;00m\u001b[38;5;21;01mcore\u001b[39;00m \u001b[38;5;28;01mimport\u001b[39;00m queryable_eval\n\u001b[1;32m--> 409\u001b[0m     \u001b[38;5;28;01mreturn\u001b[39;00m \u001b[43mqueryable_eval\u001b[49m\u001b[43m(\u001b[49m\u001b[38;5;28;43mself\u001b[39;49m\u001b[38;5;241;43m.\u001b[39;49m\u001b[43mvalue\u001b[49m\u001b[43m,\u001b[49m\u001b[43m \u001b[49m\u001b[43mquery\u001b[49m\u001b[43m)\u001b[49m\n",
      "File \u001b[1;32mc:\\Users\\kshub\\AppData\\Local\\Programs\\Python\\Python312\\Lib\\site-packages\\opendp\\core.py:570\u001b[0m, in \u001b[0;36mqueryable_eval\u001b[1;34m(queryable, query)\u001b[0m\n\u001b[0;32m    567\u001b[0m lib_function\u001b[38;5;241m.\u001b[39margtypes \u001b[38;5;241m=\u001b[39m [AnyObjectPtr, AnyObjectPtr]\n\u001b[0;32m    568\u001b[0m lib_function\u001b[38;5;241m.\u001b[39mrestype \u001b[38;5;241m=\u001b[39m FfiResult\n\u001b[1;32m--> 570\u001b[0m output \u001b[38;5;241m=\u001b[39m c_to_py(\u001b[43munwrap\u001b[49m\u001b[43m(\u001b[49m\u001b[43mlib_function\u001b[49m\u001b[43m(\u001b[49m\u001b[43mc_queryable\u001b[49m\u001b[43m,\u001b[49m\u001b[43m \u001b[49m\u001b[43mc_query\u001b[49m\u001b[43m)\u001b[49m\u001b[43m,\u001b[49m\u001b[43m \u001b[49m\u001b[43mAnyObjectPtr\u001b[49m\u001b[43m)\u001b[49m)\n\u001b[0;32m    572\u001b[0m \u001b[38;5;28;01mreturn\u001b[39;00m output\n",
      "File \u001b[1;32mc:\\Users\\kshub\\AppData\\Local\\Programs\\Python\\Python312\\Lib\\site-packages\\opendp\\_lib.py:251\u001b[0m, in \u001b[0;36munwrap\u001b[1;34m(result, type_)\u001b[0m\n\u001b[0;32m    248\u001b[0m     \u001b[38;5;28;01mraise\u001b[39;00m OpenDPException(\u001b[38;5;124m\"\u001b[39m\u001b[38;5;124mFailed to free error.\u001b[39m\u001b[38;5;124m\"\u001b[39m)\n\u001b[0;32m    250\u001b[0m \u001b[38;5;66;03m# Rust stack traces follow from here:\u001b[39;00m\n\u001b[1;32m--> 251\u001b[0m \u001b[38;5;28;01mraise\u001b[39;00m OpenDPException(variant, message, backtrace)\n",
      "\u001b[1;31mOpenDPException\u001b[0m: \n  FailedFunction(\"out of queries\")"
     ]
    }
   ],
   "source": [
    "q_park_street_mean_ages= park_street_ages.sum().laplace()\n",
    "q_park_street_mean_ages.release()"
   ]
  },
  {
   "cell_type": "code",
   "execution_count": 161,
   "metadata": {},
   "outputs": [
    {
     "data": {
      "text/plain": [
       "41.438106022508585"
      ]
     },
     "execution_count": 161,
     "metadata": {},
     "output_type": "execute_result"
    }
   ],
   "source": [
    "q_park_street_mean_ages= park_street_ages.mean().laplace()\n",
    "q_park_street_mean_ages.release()"
   ]
  },
  {
   "cell_type": "code",
   "execution_count": 114,
   "metadata": {},
   "outputs": [
    {
     "data": {
      "text/plain": [
       "188.8251002532894"
      ]
     },
     "execution_count": 114,
     "metadata": {},
     "output_type": "execute_result"
    }
   ],
   "source": [
    "q_park_street_variance_ages= park_street_ages.variance().laplace()\n",
    "q_park_street_variance_ages.release()"
   ]
  },
  {
   "cell_type": "code",
   "execution_count": 115,
   "metadata": {},
   "outputs": [
    {
     "data": {
      "text/plain": [
       "53"
      ]
     },
     "execution_count": 115,
     "metadata": {},
     "output_type": "execute_result"
    }
   ],
   "source": [
    "quantile_query=(\n",
    "    context.query().split_dataframe(\",\",col_names=col_names).df_is_equal(\"Street\",\"Park Street\").subset_by(\"Street\",keep_columns=[\"Age\"]).select_column(\"Age\",str).cast_default(int).quantile_score_candidates(list(range(100)),alpha=0.75).report_noisy_max_gumbel(optimize=\"min\")\n",
    "\n",
    ")\n",
    "quantile_query.release()"
   ]
  },
  {
   "cell_type": "code",
   "execution_count": 116,
   "metadata": {},
   "outputs": [
    {
     "ename": "ValueError",
     "evalue": "At most one parameter may be missing at a time",
     "output_type": "error",
     "traceback": [
      "\u001b[1;31m---------------------------------------------------------------------------\u001b[0m",
      "\u001b[1;31mValueError\u001b[0m                                Traceback (most recent call last)",
      "Cell \u001b[1;32mIn[116], line 2\u001b[0m\n\u001b[0;32m      1\u001b[0m quantile_query\u001b[38;5;241m=\u001b[39m(\n\u001b[1;32m----> 2\u001b[0m     \u001b[43mcontext\u001b[49m\u001b[38;5;241;43m.\u001b[39;49m\u001b[43mquery\u001b[49m\u001b[43m(\u001b[49m\u001b[43m)\u001b[49m\u001b[38;5;241;43m.\u001b[39;49m\u001b[43msplit_dataframe\u001b[49m\u001b[43m(\u001b[49m\u001b[38;5;124;43m\"\u001b[39;49m\u001b[38;5;124;43m,\u001b[39;49m\u001b[38;5;124;43m\"\u001b[39;49m\u001b[43m,\u001b[49m\u001b[43mcol_names\u001b[49m\u001b[38;5;241;43m=\u001b[39;49m\u001b[43mcol_names\u001b[49m\u001b[43m)\u001b[49m\u001b[38;5;241;43m.\u001b[39;49m\u001b[43mdf_is_equal\u001b[49m\u001b[43m(\u001b[49m\u001b[38;5;124;43m\"\u001b[39;49m\u001b[38;5;124;43mStreet\u001b[39;49m\u001b[38;5;124;43m\"\u001b[39;49m\u001b[43m,\u001b[49m\u001b[38;5;124;43m\"\u001b[39;49m\u001b[38;5;124;43mPark Street\u001b[39;49m\u001b[38;5;124;43m\"\u001b[39;49m\u001b[43m)\u001b[49m\u001b[38;5;241;43m.\u001b[39;49m\u001b[43msubset_by\u001b[49m\u001b[43m(\u001b[49m\u001b[38;5;124;43m\"\u001b[39;49m\u001b[38;5;124;43mStreet\u001b[39;49m\u001b[38;5;124;43m\"\u001b[39;49m\u001b[43m,\u001b[49m\u001b[43mkeep_columns\u001b[49m\u001b[38;5;241;43m=\u001b[39;49m\u001b[43m[\u001b[49m\u001b[38;5;124;43m\"\u001b[39;49m\u001b[38;5;124;43mFirst Name\u001b[39;49m\u001b[38;5;124;43m\"\u001b[39;49m\u001b[43m]\u001b[49m\u001b[43m)\u001b[49m\u001b[38;5;241;43m.\u001b[39;49m\u001b[43mselect_column\u001b[49m\u001b[43m(\u001b[49m\u001b[38;5;124;43m\"\u001b[39;49m\u001b[38;5;124;43mFirst Name\u001b[39;49m\u001b[38;5;124;43m\"\u001b[39;49m\u001b[43m,\u001b[49m\u001b[38;5;28;43mstr\u001b[39;49m\u001b[43m)\u001b[49m\u001b[38;5;241;43m.\u001b[39;49m\u001b[43mcount_by\u001b[49m\u001b[43m(\u001b[49m\u001b[43mM0\u001b[49m\u001b[38;5;241;43m=\u001b[39;49m\u001b[43mdp\u001b[49m\u001b[38;5;241;43m.\u001b[39;49m\u001b[43mL1Distance\u001b[49m\u001b[43m[\u001b[49m\u001b[38;5;28;43mint\u001b[39;49m\u001b[43m]\u001b[49m\u001b[43m)\u001b[49m\u001b[38;5;241;43m.\u001b[39;49m\u001b[43malp_queryable\u001b[49m\u001b[43m(\u001b[49m\u001b[43mscale\u001b[49m\u001b[38;5;241;43m=\u001b[39;49m\u001b[38;5;241;43m.025\u001b[39;49m\u001b[43m,\u001b[49m\u001b[43mtotal_limit\u001b[49m\u001b[38;5;241;43m=\u001b[39;49m\u001b[38;5;28;43msum\u001b[39;49m\u001b[43m(\u001b[49m\u001b[43mstreet_wise_sighting\u001b[49m\u001b[43m)\u001b[49m\u001b[43m,\u001b[49m\u001b[43mvalue_limit\u001b[49m\u001b[38;5;241;43m=\u001b[39;49m\u001b[38;5;241;43m1000\u001b[39;49m\u001b[43m)\u001b[49m\n\u001b[0;32m      3\u001b[0m \n\u001b[0;32m      4\u001b[0m )\n\u001b[0;32m      5\u001b[0m \u001b[38;5;66;03m# qbl=quantile_query.release()\u001b[39;00m\n\u001b[0;32m      6\u001b[0m \u001b[38;5;66;03m# qbl\u001b[39;00m\n",
      "File \u001b[1;32mc:\\Users\\kshub\\AppData\\Local\\Programs\\Python\\Python312\\Lib\\site-packages\\opendp\\context.py:422\u001b[0m, in \u001b[0;36mQuery.__getattr__.<locals>.make\u001b[1;34m(*args, **kwargs)\u001b[0m\n\u001b[0;32m    420\u001b[0m new_chain \u001b[38;5;241m=\u001b[39m constructor(\u001b[38;5;241m*\u001b[39margs, \u001b[38;5;241m*\u001b[39m\u001b[38;5;241m*\u001b[39mkwargs)\n\u001b[0;32m    421\u001b[0m \u001b[38;5;28;01mif\u001b[39;00m is_partial \u001b[38;5;129;01mor\u001b[39;00m \u001b[38;5;129;01mnot\u001b[39;00m \u001b[38;5;28misinstance\u001b[39m(\u001b[38;5;28mself\u001b[39m\u001b[38;5;241m.\u001b[39m_chain, \u001b[38;5;28mtuple\u001b[39m):\n\u001b[1;32m--> 422\u001b[0m     new_chain \u001b[38;5;241m=\u001b[39m \u001b[38;5;28;43mself\u001b[39;49m\u001b[38;5;241;43m.\u001b[39;49m\u001b[43m_chain\u001b[49m\u001b[43m \u001b[49m\u001b[38;5;241;43m>>\u001b[39;49m\u001b[43m \u001b[49m\u001b[43mnew_chain\u001b[49m\n\u001b[0;32m    424\u001b[0m \u001b[38;5;28;01mreturn\u001b[39;00m \u001b[38;5;28mself\u001b[39m\u001b[38;5;241m.\u001b[39mnew_with(chain\u001b[38;5;241m=\u001b[39mnew_chain)\n",
      "File \u001b[1;32mc:\\Users\\kshub\\AppData\\Local\\Programs\\Python\\Python312\\Lib\\site-packages\\opendp\\context.py:569\u001b[0m, in \u001b[0;36mPartialChain.__rshift__\u001b[1;34m(self, other)\u001b[0m\n\u001b[0;32m    566\u001b[0m \u001b[38;5;28;01mif\u001b[39;00m \u001b[38;5;28misinstance\u001b[39m(other, (Transformation, Measurement)): \u001b[38;5;66;03m# pragma: no cover\u001b[39;00m\n\u001b[0;32m    567\u001b[0m     \u001b[38;5;28;01mreturn\u001b[39;00m PartialChain(\u001b[38;5;28;01mlambda\u001b[39;00m x: \u001b[38;5;28mself\u001b[39m\u001b[38;5;241m.\u001b[39mpartial(x) \u001b[38;5;241m>>\u001b[39m other)\n\u001b[1;32m--> 569\u001b[0m \u001b[38;5;28;01mraise\u001b[39;00m \u001b[38;5;167;01mValueError\u001b[39;00m(\u001b[38;5;124m\"\u001b[39m\u001b[38;5;124mAt most one parameter may be missing at a time\u001b[39m\u001b[38;5;124m\"\u001b[39m)\n",
      "\u001b[1;31mValueError\u001b[0m: At most one parameter may be missing at a time"
     ]
    }
   ],
   "source": [
    "quantile_query=(\n",
    "    context.query().split_dataframe(\",\",col_names=col_names).df_is_equal(\"Street\",\"Park Street\").subset_by(\"Street\",keep_columns=[\"First Name\"]).select_column(\"First Name\",str).count_by(M0=dp.L1Distance[int]).alp_queryable(scale=.025,total_limit=sum(street_wise_sighting),value_limit=1000)\n",
    "\n",
    ")\n",
    "# qbl=quantile_query.release()\n",
    "# qbl"
   ]
  },
  {
   "cell_type": "code",
   "execution_count": 117,
   "metadata": {},
   "outputs": [
    {
     "ename": "NameError",
     "evalue": "name 'qbl' is not defined",
     "output_type": "error",
     "traceback": [
      "\u001b[1;31m---------------------------------------------------------------------------\u001b[0m",
      "\u001b[1;31mNameError\u001b[0m                                 Traceback (most recent call last)",
      "Cell \u001b[1;32mIn[117], line 1\u001b[0m\n\u001b[1;32m----> 1\u001b[0m \u001b[43mqbl\u001b[49m(\u001b[38;5;124m\"\u001b[39m\u001b[38;5;124mMichael\u001b[39m\u001b[38;5;124m\"\u001b[39m),qbl(\u001b[38;5;124m\"\u001b[39m\u001b[38;5;124mDavid\u001b[39m\u001b[38;5;124m\"\u001b[39m),qbl(\u001b[38;5;124m\"\u001b[39m\u001b[38;5;124mJohn\u001b[39m\u001b[38;5;124m\"\u001b[39m)\n",
      "\u001b[1;31mNameError\u001b[0m: name 'qbl' is not defined"
     ]
    }
   ],
   "source": [
    "qbl(\"Michael\"),qbl(\"David\"),qbl(\"John\")"
   ]
  },
  {
   "cell_type": "markdown",
   "metadata": {},
   "source": [
    "# Framework API"
   ]
  },
  {
   "cell_type": "code",
   "execution_count": 147,
   "metadata": {},
   "outputs": [],
   "source": [
    "input_metric, d_in=privacy_unit\n",
    "assert d_in==3\n",
    "assert input_metric == dp.symmetric_distance()\n",
    "output_metric, d_out=privacy_loss\n",
    "assert d_out==1\n",
    "assert output_metric == dp.max_divergence(T=float)"
   ]
  },
  {
   "cell_type": "code",
   "execution_count": 148,
   "metadata": {},
   "outputs": [],
   "source": [
    "m_sc=dp.c.make_sequential_composition(\n",
    "    input_domain=dp.atom_domain(T=str),\n",
    "    input_metric=input_metric,\n",
    "    output_measure=output_metric,\n",
    "    d_in=d_in,\n",
    "    d_mids=[d_out/3]*3,\n",
    ")\n",
    "qbl_sc=m_sc(data)"
   ]
  },
  {
   "cell_type": "code",
   "execution_count": 149,
   "metadata": {},
   "outputs": [],
   "source": [
    "t_count=(\n",
    "    dp.t.make_split_dataframe(\",\",col_names=col_names)\n",
    "    >>dp.t.make_select_column(\"Street\",str)\n",
    "    >>dp.t.then_count()\n",
    ")"
   ]
  },
  {
   "cell_type": "code",
   "execution_count": 150,
   "metadata": {},
   "outputs": [
    {
     "data": {
      "text/plain": [
       "3"
      ]
     },
     "execution_count": 150,
     "metadata": {},
     "output_type": "execute_result"
    }
   ],
   "source": [
    "count_sensetivity= t_count.map(d_in)\n",
    "count_sensetivity"
   ]
  },
  {
   "cell_type": "code",
   "execution_count": 152,
   "metadata": {},
   "outputs": [
    {
     "name": "stdout",
     "output_type": "stream",
     "text": [
      "56378\n"
     ]
    }
   ],
   "source": [
    "m_count=dp.binary_search_chain(\n",
    "    lambda scale: t_count>>dp.m.then_laplace(scale=scale), 5, 1/3\n",
    ")\n",
    "dp_count=qbl_sc(m_count)\n",
    "print(dp_count)"
   ]
  },
  {
   "cell_type": "code",
   "execution_count": 133,
   "metadata": {},
   "outputs": [],
   "source": [
    "t_mean=(\n",
    "    dp.t.make_split_dataframe(\",\",col_names=col_names)\n",
    "    >>dp.t.make_select_column(\"Age\",str)\n",
    "    >>dp.t.then_cast_default(float)\n",
    "    >>dp.t.then_clamp((18.,70.))\n",
    "    >>dp.t.then_resize(size=dp_count,constant=42.0)\n",
    "    >>dp.t.then_mean()\n",
    ")\n",
    "\n"
   ]
  },
  {
   "cell_type": "code",
   "execution_count": 135,
   "metadata": {},
   "outputs": [
    {
     "data": {
      "text/plain": [
       "0.33333333333333326"
      ]
     },
     "execution_count": 135,
     "metadata": {},
     "output_type": "execute_result"
    }
   ],
   "source": [
    "count_sensetivity= m_count.map(d_in)\n",
    "count_sensetivity"
   ]
  },
  {
   "cell_type": "code",
   "execution_count": 134,
   "metadata": {},
   "outputs": [
    {
     "name": "stdout",
     "output_type": "stream",
     "text": [
      "41.525588584152956\n"
     ]
    }
   ],
   "source": [
    "m_mean=dp.binary_search_chain(\n",
    "    lambda scale: t_mean>>dp.m.then_laplace(scale=scale), d_in, d_out/3\n",
    ")\n",
    "mean_release=qbl_sc(m_mean)\n",
    "print(mean_release)"
   ]
  },
  {
   "cell_type": "markdown",
   "metadata": {},
   "source": [
    "# constructing custom functions"
   ]
  },
  {
   "cell_type": "code",
   "execution_count": 144,
   "metadata": {},
   "outputs": [
    {
     "data": {
      "text/plain": [
       "[18, 18, 70, 70]"
      ]
     },
     "execution_count": 144,
     "metadata": {},
     "output_type": "execute_result"
    }
   ],
   "source": [
    "from typing import Tuple\n",
    "import numpy as np\n",
    "def make_clamp(bounds: Tuple[int,int]):\n",
    "    return dp.t.make_user_transformation(\n",
    "        input_domain=dp.vector_domain(dp.atom_domain(T=int)),\n",
    "        input_metric=dp.symmetric_distance(),\n",
    "        output_domain=dp.vector_domain(dp.atom_domain(bounds)),\n",
    "        output_metric=dp.symmetric_distance(),\n",
    "        function= lambda x: np.clip(x,*bounds),\n",
    "        stability_map= lambda d_in: d_in\n",
    "\n",
    "    )\n",
    "m_clamp=make_clamp((18,70))\n",
    "m_clamp([17,18,70,71])"
   ]
  },
  {
   "cell_type": "code",
   "execution_count": 145,
   "metadata": {},
   "outputs": [
    {
     "data": {
      "text/plain": [
       "2"
      ]
     },
     "execution_count": 145,
     "metadata": {},
     "output_type": "execute_result"
    }
   ],
   "source": [
    "m_clamp.map(2)"
   ]
  },
  {
   "cell_type": "code",
   "execution_count": null,
   "metadata": {},
   "outputs": [],
   "source": []
  }
 ],
 "metadata": {
  "kernelspec": {
   "display_name": "Python 3",
   "language": "python",
   "name": "python3"
  },
  "language_info": {
   "codemirror_mode": {
    "name": "ipython",
    "version": 3
   },
   "file_extension": ".py",
   "mimetype": "text/x-python",
   "name": "python",
   "nbconvert_exporter": "python",
   "pygments_lexer": "ipython3",
   "version": "3.12.1"
  }
 },
 "nbformat": 4,
 "nbformat_minor": 2
}
