{
 "cells": [
  {
   "cell_type": "code",
   "execution_count": 1,
   "metadata": {},
   "outputs": [],
   "source": [
    "import pandas as pd\n",
    "from datetime import datetime\n",
    "import numpy as np"
   ]
  },
  {
   "cell_type": "code",
   "execution_count": 2,
   "metadata": {},
   "outputs": [],
   "source": [
    "import sys\n",
    "import os\n",
    "sys.path.append(os.path.abspath(os.path.join(os.getcwd(), 'src')))"
   ]
  },
  {
   "cell_type": "code",
   "execution_count": 3,
   "metadata": {
    "id": "7L6EQkQ50gkR"
   },
   "outputs": [
    {
     "data": {
      "text/html": [
       "<div>\n",
       "<style scoped>\n",
       "    .dataframe tbody tr th:only-of-type {\n",
       "        vertical-align: middle;\n",
       "    }\n",
       "\n",
       "    .dataframe tbody tr th {\n",
       "        vertical-align: top;\n",
       "    }\n",
       "\n",
       "    .dataframe thead th {\n",
       "        text-align: right;\n",
       "    }\n",
       "</style>\n",
       "<table border=\"1\" class=\"dataframe\">\n",
       "  <thead>\n",
       "    <tr style=\"text-align: right;\">\n",
       "      <th></th>\n",
       "      <th>ID</th>\n",
       "      <th>date</th>\n",
       "      <th>merch_category</th>\n",
       "      <th>merch_postal_code</th>\n",
       "      <th>transaction_type</th>\n",
       "      <th>spendamt</th>\n",
       "      <th>nb_transactions</th>\n",
       "    </tr>\n",
       "  </thead>\n",
       "  <tbody>\n",
       "    <tr>\n",
       "      <th>0</th>\n",
       "      <td>1</td>\n",
       "      <td>2019-01-01</td>\n",
       "      <td>Grocery Stores/Supermarkets</td>\n",
       "      <td>8700000</td>\n",
       "      <td>ONLINE</td>\n",
       "      <td>11238.128450</td>\n",
       "      <td>160</td>\n",
       "    </tr>\n",
       "    <tr>\n",
       "      <th>1</th>\n",
       "      <td>1</td>\n",
       "      <td>2019-01-01</td>\n",
       "      <td>Grocery Stores/Supermarkets</td>\n",
       "      <td>500034</td>\n",
       "      <td>ONLINE</td>\n",
       "      <td>12848.165221</td>\n",
       "      <td>183</td>\n",
       "    </tr>\n",
       "    <tr>\n",
       "      <th>2</th>\n",
       "      <td>2</td>\n",
       "      <td>2019-01-01</td>\n",
       "      <td>Grocery Stores/Supermarkets</td>\n",
       "      <td>110621</td>\n",
       "      <td>ONLINE</td>\n",
       "      <td>12116.165569</td>\n",
       "      <td>173</td>\n",
       "    </tr>\n",
       "    <tr>\n",
       "      <th>3</th>\n",
       "      <td>3</td>\n",
       "      <td>2019-01-01</td>\n",
       "      <td>Hotels/Motels</td>\n",
       "      <td>8900000</td>\n",
       "      <td>OFFLINE</td>\n",
       "      <td>7745.998879</td>\n",
       "      <td>38</td>\n",
       "    </tr>\n",
       "    <tr>\n",
       "      <th>4</th>\n",
       "      <td>4</td>\n",
       "      <td>2019-01-01</td>\n",
       "      <td>Restaurants</td>\n",
       "      <td>111941</td>\n",
       "      <td>OFFLINE</td>\n",
       "      <td>6927.424754</td>\n",
       "      <td>173</td>\n",
       "    </tr>\n",
       "  </tbody>\n",
       "</table>\n",
       "</div>"
      ],
      "text/plain": [
       "   ID        date               merch_category  merch_postal_code  \\\n",
       "0   1  2019-01-01  Grocery Stores/Supermarkets            8700000   \n",
       "1   1  2019-01-01  Grocery Stores/Supermarkets             500034   \n",
       "2   2  2019-01-01  Grocery Stores/Supermarkets             110621   \n",
       "3   3  2019-01-01                Hotels/Motels            8900000   \n",
       "4   4  2019-01-01                  Restaurants             111941   \n",
       "\n",
       "  transaction_type      spendamt  nb_transactions  \n",
       "0           ONLINE  11238.128450              160  \n",
       "1           ONLINE  12848.165221              183  \n",
       "2           ONLINE  12116.165569              173  \n",
       "3          OFFLINE   7745.998879               38  \n",
       "4          OFFLINE   6927.424754              173  "
      ]
     },
     "execution_count": 3,
     "metadata": {},
     "output_type": "execute_result"
    }
   ],
   "source": [
    "data = pd.read_csv(r\"C:\\Users\\Milan Anand Raj\\Desktop\\KNOWLEDGEEDGEAI\\PET\\pets_mockdata\\Technical_Phase_Data\\technical_phase_data.csv\")\n",
    "data.head()"
   ]
  },
  {
   "cell_type": "code",
   "execution_count": 4,
   "metadata": {},
   "outputs": [],
   "source": [
    "txn_channel_col = \"transaction_type\"\n",
    "category_col = \"merch_category\"\n",
    "time_col = \"date\"\n",
    "postal_code_col = \"merch_postal_code\"\n",
    "num_txns_col = \"nb_transactions\""
   ]
  },
  {
   "cell_type": "markdown",
   "metadata": {},
   "source": [
    "Select the week for which we have the ground truth contact matrix.\n",
    "The ground truth matrix is being taken from this([text](https://journals.plos.org/ploscompbiol/article?id=10.1371/journal.pcbi.1005697)) paper and this([text](https://github.com/kieshaprem/synthetic-contact-matrices/blob/master/generate_synthetic_matrices/output/syntheticmatrices/contact_others.rdata)) associated github repo."
   ]
  },
  {
   "cell_type": "code",
   "execution_count": 5,
   "metadata": {},
   "outputs": [],
   "source": [
    "week =\"2021-01-05\""
   ]
  },
  {
   "cell_type": "markdown",
   "metadata": {},
   "source": [
    "We will calculate contact matrix for each city and then average them up to get the contact matrix for Columbia "
   ]
  },
  {
   "cell_type": "code",
   "execution_count": 6,
   "metadata": {},
   "outputs": [],
   "source": [
    "def categorize_city(code):\n",
    "    if code.startswith(\"5\"):\n",
    "        return \"Medellian\"\n",
    "    elif code.startswith(\"11\"):\n",
    "        return \"Bogota\"\n",
    "    elif code.startswith(\"70\"):\n",
    "        return \"Brasilia\"\n",
    "    else:\n",
    "        return \"Santiago\""
   ]
  },
  {
   "cell_type": "markdown",
   "metadata": {},
   "source": [
    "To ensure that the estimated Consumption distribution is private, we will use the private version of number of transactions for each categroy"
   ]
  },
  {
   "cell_type": "code",
   "execution_count": 7,
   "metadata": {},
   "outputs": [
    {
     "name": "stdout",
     "output_type": "stream",
     "text": [
      "City: Santiago\n",
      "City: Medellian\n",
      "City: Bogota\n",
      "City: Brasilia\n"
     ]
    }
   ],
   "source": [
    "from DP_epidemiology.contact_matrix import get_private_counts\n",
    "categories = sorted(data[category_col].unique())\n",
    "cities = data[postal_code_col].astype(str).apply(categorize_city).unique()\n",
    "transactions_per_city = []\n",
    "for city in cities:\n",
    "    start_date = datetime.strptime(week, '%Y-%m-%d')\n",
    "    end_date = datetime.strptime(week, '%Y-%m-%d')\n",
    "    print(f\"City: {city}\")\n",
    "    transactions_per_category = get_private_counts(data, categories=categories, start_date=start_date, end_date=end_date, city=city, epsilon=1.0)\n",
    "    transactions_per_city.append(list(transactions_per_category.values()))"
   ]
  },
  {
   "cell_type": "code",
   "execution_count": 8,
   "metadata": {
    "id": "Oo1El4A40gkU"
   },
   "outputs": [],
   "source": [
    "contact_others = pd.read_csv('contact_others.csv')\n",
    "contact_others = np.array(contact_others)"
   ]
  },
  {
   "cell_type": "code",
   "execution_count": 18,
   "metadata": {},
   "outputs": [
    {
     "data": {
      "text/plain": [
       "[[665.827343044052,\n",
       "  2376.0030054715944,\n",
       "  4287.216254772609,\n",
       "  63941.44098236439,\n",
       "  21478.388863581316,\n",
       "  40690.41606936624,\n",
       "  2963.936491985296,\n",
       "  5094.1112587002735,\n",
       "  33376.344825964065,\n",
       "  3277.412704119104],\n",
       " [-10.471957055996297,\n",
       "  6140.521392653215,\n",
       "  -2593.3432371460517,\n",
       "  3218.708044630042,\n",
       "  2882.8266155488673,\n",
       "  -118.73193866793521,\n",
       "  -1502.70368483887,\n",
       "  2643.1117283735766,\n",
       "  2515.2197469338525,\n",
       "  2010.369461726336],\n",
       " [909.4191757659195,\n",
       "  14061.87451760006,\n",
       "  10965.389937129481,\n",
       "  174970.32876629836,\n",
       "  40193.28386099822,\n",
       "  98156.80895732576,\n",
       "  4871.752947048472,\n",
       "  10026.12926489293,\n",
       "  74465.54906523543,\n",
       "  2910.016018267648],\n",
       " [-3542.2378675749783,\n",
       "  1250.3608001315356,\n",
       "  1736.475733452081,\n",
       "  59610.73284853197,\n",
       "  14309.168756153636,\n",
       "  37408.784637817975,\n",
       "  302.2175965746237,\n",
       "  2275.2427407967584,\n",
       "  22940.966562785838,\n",
       "  2720.585656936167]]"
      ]
     },
     "execution_count": 18,
     "metadata": {},
     "output_type": "execute_result"
    }
   ],
   "source": [
    "transactions_per_city"
   ]
  },
  {
   "cell_type": "markdown",
   "metadata": {
    "id": "Ltw6qmxVoWm2"
   },
   "source": [
    "## Estimating with tensorflow (which does the backpropogation based on the flow graph)"
   ]
  },
  {
   "cell_type": "code",
   "execution_count": null,
   "metadata": {
    "colab": {
     "background_save": true,
     "base_uri": "https://localhost:8080/"
    },
    "id": "45avZZ041bNx",
    "outputId": "dbdfcac9-95a1-4f12-9945-f5a9965bf78c"
   },
   "outputs": [
    {
     "name": "stdout",
     "output_type": "stream",
     "text": [
      "Step: 0, Loss: 94.10587900174727\n",
      "Step: 100, Loss: 33.359764471824434\n",
      "Step: 200, Loss: 31.544671445447932\n",
      "Step: 300, Loss: 31.413592926334598\n",
      "Step: 400, Loss: 31.40243082658344\n",
      "Step: 500, Loss: 31.40212694394862\n",
      "Step: 600, Loss: 31.402122757334677\n",
      "Step: 700, Loss: 31.402123427405275\n",
      "Step: 800, Loss: 31.402122713168243\n",
      "Step: 900, Loss: 31.402122705699163\n",
      "Step: 1000, Loss: 31.40212491914406\n",
      "Step: 1100, Loss: 31.4021226954282\n",
      "Step: 1200, Loss: 31.402122691606444\n",
      "Step: 1300, Loss: 31.40213079580314\n",
      "Step: 1400, Loss: 31.402122686265916\n",
      "Step: 1500, Loss: 31.402122684024533\n",
      "Step: 1600, Loss: 31.402140614669783\n",
      "Step: 1700, Loss: 31.40212268161008\n",
      "Step: 1800, Loss: 31.40212268005513\n",
      "Step: 1900, Loss: 31.40216548637534\n",
      "Step: 2000, Loss: 31.402122681491136\n",
      "Step: 2100, Loss: 31.4021226778284\n",
      "Step: 2200, Loss: 31.402122677259698\n",
      "Step: 2300, Loss: 31.402123758030374\n",
      "Step: 2400, Loss: 31.402122676221257\n",
      "Step: 2500, Loss: 31.402122675537353\n",
      "Step: 2600, Loss: 31.402124518646147\n",
      "Step: 2700, Loss: 31.40215292226199\n",
      "Step: 2800, Loss: 31.402126098246065\n",
      "Step: 2900, Loss: 31.402146506092766\n",
      "Step: 3000, Loss: 31.402192845670616\n"
     ]
    },
    {
     "ename": "KeyboardInterrupt",
     "evalue": "",
     "output_type": "error",
     "traceback": [
      "\u001b[1;31m---------------------------------------------------------------------------\u001b[0m",
      "\u001b[1;31mKeyboardInterrupt\u001b[0m                         Traceback (most recent call last)",
      "\u001b[1;32m~\\AppData\\Local\\Temp\\ipykernel_4520\\139899758.py\u001b[0m in \u001b[0;36m?\u001b[1;34m()\u001b[0m\n\u001b[0;32m     35\u001b[0m \u001b[1;31m# with tf.device('/GPU:0'):\u001b[0m\u001b[1;33m\u001b[0m\u001b[1;33m\u001b[0m\u001b[0m\n\u001b[0;32m     36\u001b[0m \u001b[1;32mfor\u001b[0m \u001b[0mstep\u001b[0m \u001b[1;32min\u001b[0m \u001b[0mrange\u001b[0m\u001b[1;33m(\u001b[0m\u001b[1;36m5000\u001b[0m\u001b[1;33m)\u001b[0m\u001b[1;33m:\u001b[0m  \u001b[1;31m# Adjust max iterations as needed\u001b[0m\u001b[1;33m\u001b[0m\u001b[1;33m\u001b[0m\u001b[0m\n\u001b[0;32m     37\u001b[0m     \u001b[1;32mwith\u001b[0m \u001b[0mtf\u001b[0m\u001b[1;33m.\u001b[0m\u001b[0mGradientTape\u001b[0m\u001b[1;33m(\u001b[0m\u001b[1;33m)\u001b[0m \u001b[1;32mas\u001b[0m \u001b[0mtape\u001b[0m\u001b[1;33m:\u001b[0m\u001b[1;33m\u001b[0m\u001b[1;33m\u001b[0m\u001b[0m\n\u001b[0;32m     38\u001b[0m         \u001b[0mloss\u001b[0m \u001b[1;33m=\u001b[0m \u001b[0mloss_fn\u001b[0m\u001b[1;33m(\u001b[0m\u001b[1;33m)\u001b[0m\u001b[1;33m\u001b[0m\u001b[1;33m\u001b[0m\u001b[0m\n\u001b[1;32m---> 39\u001b[1;33m     \u001b[0mgrads\u001b[0m \u001b[1;33m=\u001b[0m \u001b[0mtape\u001b[0m\u001b[1;33m.\u001b[0m\u001b[0mgradient\u001b[0m\u001b[1;33m(\u001b[0m\u001b[0mloss\u001b[0m\u001b[1;33m,\u001b[0m \u001b[1;33m[\u001b[0m\u001b[0mW\u001b[0m\u001b[1;33m,\u001b[0m \u001b[0mP_var\u001b[0m\u001b[1;33m]\u001b[0m\u001b[1;33m)\u001b[0m\u001b[1;33m\u001b[0m\u001b[1;33m\u001b[0m\u001b[0m\n\u001b[0m\u001b[0;32m     40\u001b[0m \u001b[1;33m\u001b[0m\u001b[0m\n\u001b[0;32m     41\u001b[0m     \u001b[1;31m# Apply gradients\u001b[0m\u001b[1;33m\u001b[0m\u001b[1;33m\u001b[0m\u001b[0m\n\u001b[0;32m     42\u001b[0m     \u001b[0moptimizer\u001b[0m\u001b[1;33m.\u001b[0m\u001b[0mapply_gradients\u001b[0m\u001b[1;33m(\u001b[0m\u001b[0mzip\u001b[0m\u001b[1;33m(\u001b[0m\u001b[0mgrads\u001b[0m\u001b[1;33m,\u001b[0m \u001b[1;33m[\u001b[0m\u001b[0mW\u001b[0m\u001b[1;33m,\u001b[0m \u001b[0mP_var\u001b[0m\u001b[1;33m]\u001b[0m\u001b[1;33m)\u001b[0m\u001b[1;33m)\u001b[0m\u001b[1;33m\u001b[0m\u001b[1;33m\u001b[0m\u001b[0m\n",
      "\u001b[1;32mc:\\Users\\Public\\anaconda3\\envs\\.venv\\Lib\\site-packages\\tensorflow\\python\\eager\\backprop.py\u001b[0m in \u001b[0;36m?\u001b[1;34m(self, target, sources, output_gradients, unconnected_gradients)\u001b[0m\n\u001b[0;32m   1062\u001b[0m               \u001b[0moutput_gradients\u001b[0m\u001b[1;33m)\u001b[0m\u001b[1;33m)\u001b[0m\u001b[1;33m\u001b[0m\u001b[1;33m\u001b[0m\u001b[0m\n\u001b[0;32m   1063\u001b[0m       output_gradients = [None if x is None else ops.convert_to_tensor(x)\n\u001b[0;32m   1064\u001b[0m                           \u001b[1;32mfor\u001b[0m \u001b[0mx\u001b[0m \u001b[1;32min\u001b[0m \u001b[0moutput_gradients\u001b[0m\u001b[1;33m]\u001b[0m\u001b[1;33m\u001b[0m\u001b[1;33m\u001b[0m\u001b[0m\n\u001b[0;32m   1065\u001b[0m \u001b[1;33m\u001b[0m\u001b[0m\n\u001b[1;32m-> 1066\u001b[1;33m     flat_grad = imperative_grad.imperative_grad(\n\u001b[0m\u001b[0;32m   1067\u001b[0m         \u001b[0mself\u001b[0m\u001b[1;33m.\u001b[0m\u001b[0m_tape\u001b[0m\u001b[1;33m,\u001b[0m\u001b[1;33m\u001b[0m\u001b[1;33m\u001b[0m\u001b[0m\n\u001b[0;32m   1068\u001b[0m         \u001b[0mflat_targets\u001b[0m\u001b[1;33m,\u001b[0m\u001b[1;33m\u001b[0m\u001b[1;33m\u001b[0m\u001b[0m\n\u001b[0;32m   1069\u001b[0m         \u001b[0mflat_sources\u001b[0m\u001b[1;33m,\u001b[0m\u001b[1;33m\u001b[0m\u001b[1;33m\u001b[0m\u001b[0m\n",
      "\u001b[1;32mc:\\Users\\Public\\anaconda3\\envs\\.venv\\Lib\\site-packages\\tensorflow\\python\\eager\\imperative_grad.py\u001b[0m in \u001b[0;36m?\u001b[1;34m(tape, target, sources, output_gradients, sources_raw, unconnected_gradients)\u001b[0m\n\u001b[0;32m     63\u001b[0m   \u001b[1;32mexcept\u001b[0m \u001b[0mValueError\u001b[0m\u001b[1;33m:\u001b[0m\u001b[1;33m\u001b[0m\u001b[1;33m\u001b[0m\u001b[0m\n\u001b[0;32m     64\u001b[0m     raise ValueError(\n\u001b[0;32m     65\u001b[0m         \u001b[1;34m\"Unknown value for unconnected_gradients: %r\"\u001b[0m \u001b[1;33m%\u001b[0m \u001b[0munconnected_gradients\u001b[0m\u001b[1;33m)\u001b[0m\u001b[1;33m\u001b[0m\u001b[1;33m\u001b[0m\u001b[0m\n\u001b[0;32m     66\u001b[0m \u001b[1;33m\u001b[0m\u001b[0m\n\u001b[1;32m---> 67\u001b[1;33m   return pywrap_tfe.TFE_Py_TapeGradient(\n\u001b[0m\u001b[0;32m     68\u001b[0m       \u001b[0mtape\u001b[0m\u001b[1;33m.\u001b[0m\u001b[0m_tape\u001b[0m\u001b[1;33m,\u001b[0m  \u001b[1;31m# pylint: disable=protected-access\u001b[0m\u001b[1;33m\u001b[0m\u001b[1;33m\u001b[0m\u001b[0m\n\u001b[0;32m     69\u001b[0m       \u001b[0mtarget\u001b[0m\u001b[1;33m,\u001b[0m\u001b[1;33m\u001b[0m\u001b[1;33m\u001b[0m\u001b[0m\n\u001b[0;32m     70\u001b[0m       \u001b[0msources\u001b[0m\u001b[1;33m,\u001b[0m\u001b[1;33m\u001b[0m\u001b[1;33m\u001b[0m\u001b[0m\n",
      "\u001b[1;32mc:\\Users\\Public\\anaconda3\\envs\\.venv\\Lib\\site-packages\\tensorflow\\python\\eager\\backprop.py\u001b[0m in \u001b[0;36m?\u001b[1;34m(op_name, attr_tuple, num_inputs, inputs, outputs, out_grads, skip_input_indices, forward_pass_name_scope)\u001b[0m\n\u001b[0;32m    144\u001b[0m     \u001b[0mgradient_name_scope\u001b[0m \u001b[1;33m=\u001b[0m \u001b[1;34m\"gradient_tape/\"\u001b[0m\u001b[1;33m\u001b[0m\u001b[1;33m\u001b[0m\u001b[0m\n\u001b[0;32m    145\u001b[0m     \u001b[1;32mif\u001b[0m \u001b[0mforward_pass_name_scope\u001b[0m\u001b[1;33m:\u001b[0m\u001b[1;33m\u001b[0m\u001b[1;33m\u001b[0m\u001b[0m\n\u001b[0;32m    146\u001b[0m       \u001b[0mgradient_name_scope\u001b[0m \u001b[1;33m+=\u001b[0m \u001b[0mforward_pass_name_scope\u001b[0m \u001b[1;33m+\u001b[0m \u001b[1;34m\"/\"\u001b[0m\u001b[1;33m\u001b[0m\u001b[1;33m\u001b[0m\u001b[0m\n\u001b[0;32m    147\u001b[0m     \u001b[1;32mwith\u001b[0m \u001b[0mops\u001b[0m\u001b[1;33m.\u001b[0m\u001b[0mname_scope\u001b[0m\u001b[1;33m(\u001b[0m\u001b[0mgradient_name_scope\u001b[0m\u001b[1;33m)\u001b[0m\u001b[1;33m:\u001b[0m\u001b[1;33m\u001b[0m\u001b[1;33m\u001b[0m\u001b[0m\n\u001b[1;32m--> 148\u001b[1;33m       \u001b[1;32mreturn\u001b[0m \u001b[0mgrad_fn\u001b[0m\u001b[1;33m(\u001b[0m\u001b[0mmock_op\u001b[0m\u001b[1;33m,\u001b[0m \u001b[1;33m*\u001b[0m\u001b[0mout_grads\u001b[0m\u001b[1;33m)\u001b[0m\u001b[1;33m\u001b[0m\u001b[1;33m\u001b[0m\u001b[0m\n\u001b[0m\u001b[0;32m    149\u001b[0m   \u001b[1;32melse\u001b[0m\u001b[1;33m:\u001b[0m\u001b[1;33m\u001b[0m\u001b[1;33m\u001b[0m\u001b[0m\n\u001b[0;32m    150\u001b[0m     \u001b[1;32mreturn\u001b[0m \u001b[0mgrad_fn\u001b[0m\u001b[1;33m(\u001b[0m\u001b[0mmock_op\u001b[0m\u001b[1;33m,\u001b[0m \u001b[1;33m*\u001b[0m\u001b[0mout_grads\u001b[0m\u001b[1;33m)\u001b[0m\u001b[1;33m\u001b[0m\u001b[1;33m\u001b[0m\u001b[0m\n",
      "\u001b[1;32mc:\\Users\\Public\\anaconda3\\envs\\.venv\\Lib\\site-packages\\tensorflow\\python\\ops\\math_grad.py\u001b[0m in \u001b[0;36m?\u001b[1;34m(op, grad)\u001b[0m\n\u001b[0;32m    175\u001b[0m             \u001b[0mnew_shape\u001b[0m \u001b[1;33m=\u001b[0m \u001b[0mconstant_op\u001b[0m\u001b[1;33m.\u001b[0m\u001b[0mconstant\u001b[0m\u001b[1;33m(\u001b[0m\u001b[1;33m[\u001b[0m\u001b[1;36m1\u001b[0m\u001b[1;33m]\u001b[0m \u001b[1;33m*\u001b[0m \u001b[0mrank\u001b[0m\u001b[1;33m,\u001b[0m \u001b[0mdtype\u001b[0m\u001b[1;33m=\u001b[0m\u001b[0mdtypes\u001b[0m\u001b[1;33m.\u001b[0m\u001b[0mint32\u001b[0m\u001b[1;33m)\u001b[0m\u001b[1;33m\u001b[0m\u001b[1;33m\u001b[0m\u001b[0m\n\u001b[0;32m    176\u001b[0m             \u001b[0mctx\u001b[0m\u001b[1;33m.\u001b[0m\u001b[0mones_rank_cache\u001b[0m\u001b[1;33m(\u001b[0m\u001b[1;33m)\u001b[0m\u001b[1;33m.\u001b[0m\u001b[0mput\u001b[0m\u001b[1;33m(\u001b[0m\u001b[0mrank\u001b[0m\u001b[1;33m,\u001b[0m \u001b[0mnew_shape\u001b[0m\u001b[1;33m)\u001b[0m\u001b[1;33m\u001b[0m\u001b[1;33m\u001b[0m\u001b[0m\n\u001b[0;32m    177\u001b[0m         \u001b[1;32melse\u001b[0m\u001b[1;33m:\u001b[0m\u001b[1;33m\u001b[0m\u001b[1;33m\u001b[0m\u001b[0m\n\u001b[0;32m    178\u001b[0m           \u001b[0mnew_shape\u001b[0m \u001b[1;33m=\u001b[0m \u001b[1;33m[\u001b[0m\u001b[1;36m1\u001b[0m\u001b[1;33m]\u001b[0m \u001b[1;33m*\u001b[0m \u001b[0mrank\u001b[0m\u001b[1;33m\u001b[0m\u001b[1;33m\u001b[0m\u001b[0m\n\u001b[1;32m--> 179\u001b[1;33m         \u001b[0mgrad\u001b[0m \u001b[1;33m=\u001b[0m \u001b[0marray_ops\u001b[0m\u001b[1;33m.\u001b[0m\u001b[0mreshape\u001b[0m\u001b[1;33m(\u001b[0m\u001b[0mgrad\u001b[0m\u001b[1;33m,\u001b[0m \u001b[0mnew_shape\u001b[0m\u001b[1;33m)\u001b[0m\u001b[1;33m\u001b[0m\u001b[1;33m\u001b[0m\u001b[0m\n\u001b[0m\u001b[0;32m    180\u001b[0m         \u001b[1;31m# If shape is not fully defined (but rank is), we use Shape.\u001b[0m\u001b[1;33m\u001b[0m\u001b[1;33m\u001b[0m\u001b[0m\n\u001b[0;32m    181\u001b[0m         \u001b[1;32mif\u001b[0m \u001b[1;32mNone\u001b[0m \u001b[1;32mnot\u001b[0m \u001b[1;32min\u001b[0m \u001b[0minput_0_shape\u001b[0m\u001b[1;33m:\u001b[0m\u001b[1;33m\u001b[0m\u001b[1;33m\u001b[0m\u001b[0m\n\u001b[0;32m    182\u001b[0m           \u001b[0minput_shape\u001b[0m \u001b[1;33m=\u001b[0m \u001b[0mconstant_op\u001b[0m\u001b[1;33m.\u001b[0m\u001b[0mconstant\u001b[0m\u001b[1;33m(\u001b[0m\u001b[0minput_0_shape\u001b[0m\u001b[1;33m,\u001b[0m \u001b[0mdtype\u001b[0m\u001b[1;33m=\u001b[0m\u001b[0mdtypes\u001b[0m\u001b[1;33m.\u001b[0m\u001b[0mint32\u001b[0m\u001b[1;33m)\u001b[0m\u001b[1;33m\u001b[0m\u001b[1;33m\u001b[0m\u001b[0m\n",
      "\u001b[1;32mc:\\Users\\Public\\anaconda3\\envs\\.venv\\Lib\\site-packages\\tensorflow\\python\\ops\\weak_tensor_ops.py\u001b[0m in \u001b[0;36m?\u001b[1;34m(*args, **kwargs)\u001b[0m\n\u001b[0;32m     86\u001b[0m   \u001b[1;32mdef\u001b[0m \u001b[0mwrapper\u001b[0m\u001b[1;33m(\u001b[0m\u001b[1;33m*\u001b[0m\u001b[0margs\u001b[0m\u001b[1;33m,\u001b[0m \u001b[1;33m**\u001b[0m\u001b[0mkwargs\u001b[0m\u001b[1;33m)\u001b[0m\u001b[1;33m:\u001b[0m\u001b[1;33m\u001b[0m\u001b[1;33m\u001b[0m\u001b[0m\n\u001b[0;32m     87\u001b[0m     \u001b[1;32mif\u001b[0m \u001b[1;32mnot\u001b[0m \u001b[0mops\u001b[0m\u001b[1;33m.\u001b[0m\u001b[0mis_auto_dtype_conversion_enabled\u001b[0m\u001b[1;33m(\u001b[0m\u001b[1;33m)\u001b[0m\u001b[1;33m:\u001b[0m\u001b[1;33m\u001b[0m\u001b[1;33m\u001b[0m\u001b[0m\n\u001b[1;32m---> 88\u001b[1;33m       \u001b[1;32mreturn\u001b[0m \u001b[0mop\u001b[0m\u001b[1;33m(\u001b[0m\u001b[1;33m*\u001b[0m\u001b[0margs\u001b[0m\u001b[1;33m,\u001b[0m \u001b[1;33m**\u001b[0m\u001b[0mkwargs\u001b[0m\u001b[1;33m)\u001b[0m\u001b[1;33m\u001b[0m\u001b[1;33m\u001b[0m\u001b[0m\n\u001b[0m\u001b[0;32m     89\u001b[0m     \u001b[0mbound_arguments\u001b[0m \u001b[1;33m=\u001b[0m \u001b[0msignature\u001b[0m\u001b[1;33m.\u001b[0m\u001b[0mbind\u001b[0m\u001b[1;33m(\u001b[0m\u001b[1;33m*\u001b[0m\u001b[0margs\u001b[0m\u001b[1;33m,\u001b[0m \u001b[1;33m**\u001b[0m\u001b[0mkwargs\u001b[0m\u001b[1;33m)\u001b[0m\u001b[1;33m\u001b[0m\u001b[1;33m\u001b[0m\u001b[0m\n\u001b[0;32m     90\u001b[0m     \u001b[0mbound_arguments\u001b[0m\u001b[1;33m.\u001b[0m\u001b[0mapply_defaults\u001b[0m\u001b[1;33m(\u001b[0m\u001b[1;33m)\u001b[0m\u001b[1;33m\u001b[0m\u001b[1;33m\u001b[0m\u001b[0m\n\u001b[0;32m     91\u001b[0m     \u001b[0mbound_kwargs\u001b[0m \u001b[1;33m=\u001b[0m \u001b[0mbound_arguments\u001b[0m\u001b[1;33m.\u001b[0m\u001b[0marguments\u001b[0m\u001b[1;33m\u001b[0m\u001b[1;33m\u001b[0m\u001b[0m\n",
      "\u001b[1;32mc:\\Users\\Public\\anaconda3\\envs\\.venv\\Lib\\site-packages\\tensorflow\\python\\util\\traceback_utils.py\u001b[0m in \u001b[0;36m?\u001b[1;34m(*args, **kwargs)\u001b[0m\n\u001b[0;32m    151\u001b[0m     \u001b[1;32mexcept\u001b[0m \u001b[0mException\u001b[0m \u001b[1;32mas\u001b[0m \u001b[0me\u001b[0m\u001b[1;33m:\u001b[0m\u001b[1;33m\u001b[0m\u001b[1;33m\u001b[0m\u001b[0m\n\u001b[0;32m    152\u001b[0m       \u001b[0mfiltered_tb\u001b[0m \u001b[1;33m=\u001b[0m \u001b[0m_process_traceback_frames\u001b[0m\u001b[1;33m(\u001b[0m\u001b[0me\u001b[0m\u001b[1;33m.\u001b[0m\u001b[0m__traceback__\u001b[0m\u001b[1;33m)\u001b[0m\u001b[1;33m\u001b[0m\u001b[1;33m\u001b[0m\u001b[0m\n\u001b[0;32m    153\u001b[0m       \u001b[1;32mraise\u001b[0m \u001b[0me\u001b[0m\u001b[1;33m.\u001b[0m\u001b[0mwith_traceback\u001b[0m\u001b[1;33m(\u001b[0m\u001b[0mfiltered_tb\u001b[0m\u001b[1;33m)\u001b[0m \u001b[1;32mfrom\u001b[0m \u001b[1;32mNone\u001b[0m\u001b[1;33m\u001b[0m\u001b[1;33m\u001b[0m\u001b[0m\n\u001b[0;32m    154\u001b[0m     \u001b[1;32mfinally\u001b[0m\u001b[1;33m:\u001b[0m\u001b[1;33m\u001b[0m\u001b[1;33m\u001b[0m\u001b[0m\n\u001b[1;32m--> 155\u001b[1;33m       \u001b[1;32mdel\u001b[0m \u001b[0mfiltered_tb\u001b[0m\u001b[1;33m\u001b[0m\u001b[1;33m\u001b[0m\u001b[0m\n\u001b[0m",
      "\u001b[1;32mc:\\Users\\Public\\anaconda3\\envs\\.venv\\Lib\\site-packages\\tensorflow\\python\\util\\dispatch.py\u001b[0m in \u001b[0;36m?\u001b[1;34m(*args, **kwargs)\u001b[0m\n\u001b[0;32m   1257\u001b[0m \u001b[1;33m\u001b[0m\u001b[0m\n\u001b[0;32m   1258\u001b[0m       \u001b[1;31m# Fallback dispatch system (dispatch v1):\u001b[0m\u001b[1;33m\u001b[0m\u001b[1;33m\u001b[0m\u001b[0m\n\u001b[0;32m   1259\u001b[0m       \u001b[1;32mtry\u001b[0m\u001b[1;33m:\u001b[0m\u001b[1;33m\u001b[0m\u001b[1;33m\u001b[0m\u001b[0m\n\u001b[0;32m   1260\u001b[0m         \u001b[1;32mreturn\u001b[0m \u001b[0mdispatch_target\u001b[0m\u001b[1;33m(\u001b[0m\u001b[1;33m*\u001b[0m\u001b[0margs\u001b[0m\u001b[1;33m,\u001b[0m \u001b[1;33m**\u001b[0m\u001b[0mkwargs\u001b[0m\u001b[1;33m)\u001b[0m\u001b[1;33m\u001b[0m\u001b[1;33m\u001b[0m\u001b[0m\n\u001b[1;32m-> 1261\u001b[1;33m       \u001b[1;32mexcept\u001b[0m \u001b[1;33m(\u001b[0m\u001b[0mTypeError\u001b[0m\u001b[1;33m,\u001b[0m \u001b[0mValueError\u001b[0m\u001b[1;33m)\u001b[0m\u001b[1;33m:\u001b[0m\u001b[1;33m\u001b[0m\u001b[1;33m\u001b[0m\u001b[0m\n\u001b[0m\u001b[0;32m   1262\u001b[0m         \u001b[1;31m# Note: convert_to_eager_tensor currently raises a ValueError, not a\u001b[0m\u001b[1;33m\u001b[0m\u001b[1;33m\u001b[0m\u001b[0m\n\u001b[0;32m   1263\u001b[0m         \u001b[1;31m# TypeError, when given unexpected types.  So we need to catch both.\u001b[0m\u001b[1;33m\u001b[0m\u001b[1;33m\u001b[0m\u001b[0m\n\u001b[0;32m   1264\u001b[0m         \u001b[0mresult\u001b[0m \u001b[1;33m=\u001b[0m \u001b[0mdispatch\u001b[0m\u001b[1;33m(\u001b[0m\u001b[0mop_dispatch_handler\u001b[0m\u001b[1;33m,\u001b[0m \u001b[0margs\u001b[0m\u001b[1;33m,\u001b[0m \u001b[0mkwargs\u001b[0m\u001b[1;33m)\u001b[0m\u001b[1;33m\u001b[0m\u001b[1;33m\u001b[0m\u001b[0m\n",
      "\u001b[1;32mc:\\Users\\Public\\anaconda3\\envs\\.venv\\Lib\\site-packages\\tensorflow\\python\\ops\\array_ops.py\u001b[0m in \u001b[0;36m?\u001b[1;34m(tensor, shape, name)\u001b[0m\n\u001b[0;32m    195\u001b[0m \u001b[1;33m\u001b[0m\u001b[0m\n\u001b[0;32m    196\u001b[0m   \u001b[0mReturns\u001b[0m\u001b[1;33m:\u001b[0m\u001b[1;33m\u001b[0m\u001b[1;33m\u001b[0m\u001b[0m\n\u001b[0;32m    197\u001b[0m     \u001b[0mA\u001b[0m \u001b[1;33m`\u001b[0m\u001b[0mTensor\u001b[0m\u001b[1;33m`\u001b[0m\u001b[1;33m.\u001b[0m \u001b[0mHas\u001b[0m \u001b[0mthe\u001b[0m \u001b[0msame\u001b[0m \u001b[0mtype\u001b[0m \u001b[1;32mas\u001b[0m \u001b[1;33m`\u001b[0m\u001b[0mtensor\u001b[0m\u001b[1;33m`\u001b[0m\u001b[1;33m.\u001b[0m\u001b[1;33m\u001b[0m\u001b[1;33m\u001b[0m\u001b[0m\n\u001b[0;32m    198\u001b[0m   \"\"\"\n\u001b[1;32m--> 199\u001b[1;33m   \u001b[0mresult\u001b[0m \u001b[1;33m=\u001b[0m \u001b[0mgen_array_ops\u001b[0m\u001b[1;33m.\u001b[0m\u001b[0mreshape\u001b[0m\u001b[1;33m(\u001b[0m\u001b[0mtensor\u001b[0m\u001b[1;33m,\u001b[0m \u001b[0mshape\u001b[0m\u001b[1;33m,\u001b[0m \u001b[0mname\u001b[0m\u001b[1;33m)\u001b[0m\u001b[1;33m\u001b[0m\u001b[1;33m\u001b[0m\u001b[0m\n\u001b[0m\u001b[0;32m    200\u001b[0m   \u001b[0mshape_util\u001b[0m\u001b[1;33m.\u001b[0m\u001b[0mmaybe_set_static_shape\u001b[0m\u001b[1;33m(\u001b[0m\u001b[0mresult\u001b[0m\u001b[1;33m,\u001b[0m \u001b[0mshape\u001b[0m\u001b[1;33m)\u001b[0m\u001b[1;33m\u001b[0m\u001b[1;33m\u001b[0m\u001b[0m\n\u001b[0;32m    201\u001b[0m   \u001b[1;32mreturn\u001b[0m \u001b[0mresult\u001b[0m\u001b[1;33m\u001b[0m\u001b[1;33m\u001b[0m\u001b[0m\n",
      "\u001b[1;32mc:\\Users\\Public\\anaconda3\\envs\\.venv\\Lib\\site-packages\\tensorflow\\python\\ops\\gen_array_ops.py\u001b[0m in \u001b[0;36m?\u001b[1;34m(tensor, shape, name)\u001b[0m\n\u001b[0;32m  10882\u001b[0m         \u001b[0m_ctx\u001b[0m\u001b[1;33m,\u001b[0m \u001b[1;34m\"Reshape\"\u001b[0m\u001b[1;33m,\u001b[0m \u001b[0mname\u001b[0m\u001b[1;33m,\u001b[0m \u001b[0mtensor\u001b[0m\u001b[1;33m,\u001b[0m \u001b[0mshape\u001b[0m\u001b[1;33m)\u001b[0m\u001b[1;33m\u001b[0m\u001b[1;33m\u001b[0m\u001b[0m\n\u001b[0;32m  10883\u001b[0m       \u001b[1;32mreturn\u001b[0m \u001b[0m_result\u001b[0m\u001b[1;33m\u001b[0m\u001b[1;33m\u001b[0m\u001b[0m\n\u001b[0;32m  10884\u001b[0m     \u001b[1;32mexcept\u001b[0m \u001b[0m_core\u001b[0m\u001b[1;33m.\u001b[0m\u001b[0m_NotOkStatusException\u001b[0m \u001b[1;32mas\u001b[0m \u001b[0me\u001b[0m\u001b[1;33m:\u001b[0m\u001b[1;33m\u001b[0m\u001b[1;33m\u001b[0m\u001b[0m\n\u001b[0;32m  10885\u001b[0m       \u001b[0m_ops\u001b[0m\u001b[1;33m.\u001b[0m\u001b[0mraise_from_not_ok_status\u001b[0m\u001b[1;33m(\u001b[0m\u001b[0me\u001b[0m\u001b[1;33m,\u001b[0m \u001b[0mname\u001b[0m\u001b[1;33m)\u001b[0m\u001b[1;33m\u001b[0m\u001b[1;33m\u001b[0m\u001b[0m\n\u001b[1;32m> 10886\u001b[1;33m     \u001b[1;32mexcept\u001b[0m \u001b[0m_core\u001b[0m\u001b[1;33m.\u001b[0m\u001b[0m_FallbackException\u001b[0m\u001b[1;33m:\u001b[0m\u001b[1;33m\u001b[0m\u001b[1;33m\u001b[0m\u001b[0m\n\u001b[0m\u001b[0;32m  10887\u001b[0m       \u001b[1;32mpass\u001b[0m\u001b[1;33m\u001b[0m\u001b[1;33m\u001b[0m\u001b[0m\n\u001b[0;32m  10888\u001b[0m     \u001b[1;32mtry\u001b[0m\u001b[1;33m:\u001b[0m\u001b[1;33m\u001b[0m\u001b[1;33m\u001b[0m\u001b[0m\n\u001b[0;32m  10889\u001b[0m       return reshape_eager_fallback(\n",
      "\u001b[1;31mKeyboardInterrupt\u001b[0m: "
     ]
    }
   ],
   "source": [
    "import tensorflow as tf\n",
    "import matplotlib.pyplot as plt\n",
    "\n",
    "N = np.array(transactions_per_city).reshape((len(cities), len(categories))).astype(np.float64)\n",
    "\n",
    "P = np.array([4136344, 4100716, 3991988, 3934088, 4090149, 4141051, 3895117, 3439202,\n",
    "              3075077, 3025100, 3031855, 2683253, 2187561, 1612948, 1088448, 1394217])  # Population vector\n",
    "num_age_bins = len(P)\n",
    "\n",
    "# epsilon = 1e-10  # Small value to avoid division by zero\n",
    "\n",
    "P_var = tf.Variable(np.random.rand(num_age_bins), dtype=tf.float64)\n",
    "W = tf.Variable(np.ones([len(categories), num_age_bins]) * 1/num_age_bins, dtype=tf.float64)\n",
    "\n",
    "# Loss function based on residuals\n",
    "def loss_fn():\n",
    "    age_bins = tf.matmul(N, W)\n",
    "    # epsilon = 1e-10 # Small value to avoid division by zero\n",
    "    contact_matrix = tf.reduce_sum([\n",
    "    tf.matmul(tf.reshape(x, (-1, 1)), tf.reshape(1 / x, (1, -1)))\n",
    "    for x in tf.unstack(age_bins, axis=0)], axis=0)/len(cities)\n",
    "    K = contact_matrix*(P*P_var)\n",
    "    K = (K + tf.transpose(K))/2\n",
    "    estimated_C = K/P\n",
    "    residuals = estimated_C - contact_others\n",
    "    return tf.reduce_sum(tf.square(residuals)) +tf.reduce_sum(tf.square(1- tf.reduce_sum(W, axis=1))) + tf.reduce_sum(tf.square(tf.minimum(W, tf.zeros_like(W)))) +  tf.reduce_sum(tf.square(tf.minimum(P_var, tf.zeros_like(P_var)) + tf.minimum(tf.ones_like(P_var)-P_var, tf.zeros_like(P_var))))\n",
    "\n",
    "\n",
    "optimizer = tf.optimizers.Adam(learning_rate=0.01)\n",
    "\n",
    "# Training loop\n",
    "iteration_residuals = []\n",
    "\n",
    "# Run the training loop on the GPU\n",
    "# with tf.device('/GPU:0'):\n",
    "for step in range(5000):  # Adjust max iterations as needed\n",
    "    with tf.GradientTape() as tape:\n",
    "        loss = loss_fn()\n",
    "    grads = tape.gradient(loss, [W, P_var])\n",
    "\n",
    "    # Apply gradients\n",
    "    optimizer.apply_gradients(zip(grads, [W, P_var]))\n",
    "\n",
    "    iteration_residuals.append(loss.numpy())\n",
    "    if step % 100 == 0:\n",
    "        print(f'Step: {step}, Loss: {loss.numpy()}')\n",
    "\n",
    "# Plot the optimization progress\n",
    "plt.plot(iteration_residuals, marker='o', linestyle='-')\n",
    "plt.xlabel('Iteration')\n",
    "plt.ylabel('Sum of Squared Residuals')\n",
    "plt.title('Optimization Progress Over Iterations')\n",
    "plt.show()"
   ]
  },
  {
   "cell_type": "code",
   "execution_count": 22,
   "metadata": {},
   "outputs": [],
   "source": [
    "age_bins = tf.matmul(N, W)\n",
    "# epsilon = 1e-10\n",
    "contact_matrix = tf.reduce_sum([\n",
    "tf.matmul(tf.reshape(x, (-1, 1)), tf.reshape(1 / x, (1, -1)))\n",
    "for x in tf.unstack(age_bins, axis=0)], axis=0)/len(cities)\n",
    "K = contact_matrix*(P*P_var)\n",
    "# print(age_bins)  \n",
    "# K = tf.matmul(tf.transpose(age_bins), (P*P_var)/age_bins)\n",
    "K = (K + tf.transpose(K))/2\n",
    "estimated_C = K/P"
   ]
  },
  {
   "cell_type": "code",
   "execution_count": 23,
   "metadata": {},
   "outputs": [
    {
     "data": {
      "text/plain": [
       "<tf.Tensor: shape=(16, 16), dtype=float64, numpy=\n",
       "array([[ 8.70317473e-02,  9.83703426e-02,  3.17915851e-02,\n",
       "         1.75832026e-01,  1.08452084e-01,  2.66305331e-02,\n",
       "        -1.22106419e-03, -1.11425751e-01,  8.70958947e-02,\n",
       "         1.10584045e-01, -9.24561628e-03,  3.46535118e-02,\n",
       "         9.10534029e-03,  4.25429530e-02,  3.21016247e-01,\n",
       "        -2.47829097e-01],\n",
       "       [ 9.75230391e-02, -1.65246331e-01,  1.65918444e-01,\n",
       "         2.88289385e-01,  2.28760713e-01,  1.76733539e-01,\n",
       "         8.58224575e-02,  2.31624119e-01,  1.75760448e-01,\n",
       "        -1.76856102e-01,  1.42016268e-01, -1.49730643e-01,\n",
       "         1.19434724e-01, -3.91733717e-02, -4.09051821e-01,\n",
       "         2.47612447e-01],\n",
       "       [ 3.06820772e-02,  1.61519217e-01,  2.34562759e-01,\n",
       "         6.81743104e-01,  4.52804284e-01,  1.20589528e-01,\n",
       "         1.17694125e-01, -9.31050648e-02,  5.45993534e-02,\n",
       "         2.55280627e-01, -2.30280854e-02,  1.98963205e-01,\n",
       "         1.05155572e-01,  1.55119419e-01,  6.42706084e-01,\n",
       "        -2.51616605e-01],\n",
       "       [ 1.67234317e-01,  2.76575069e-01,  6.71855067e-01,\n",
       "         1.77928013e+00,  1.20670467e+00,  3.82627804e-01,\n",
       "         3.51539646e-01, -7.51862106e-02,  2.53219328e-01,\n",
       "         4.74969599e-01,  4.20058355e-02,  3.24456489e-01,\n",
       "         3.23833483e-01,  3.16626123e-01,  1.25295531e+00,\n",
       "        -4.65000413e-01],\n",
       "       [ 1.07240883e-01,  2.28171227e-01,  4.63938516e-01,\n",
       "         1.25457334e+00,  8.45512107e-01,  2.52400008e-01,\n",
       "         2.42152578e-01, -9.17967792e-02,  1.58578133e-01,\n",
       "         3.75043236e-01,  8.59094913e-03,  2.61224262e-01,\n",
       "         2.17668683e-01,  2.38022332e-01,  9.79946214e-01,\n",
       "        -3.79352216e-01],\n",
       "       [ 2.66608376e-02,  1.78471906e-01,  1.25092407e-01,\n",
       "         4.02756942e-01,  2.55541132e-01,  2.42964567e-02,\n",
       "         6.77420795e-02, -1.54735469e-01,  5.89445068e-03,\n",
       "         2.38431009e-01, -5.66939885e-02,  1.56278099e-01,\n",
       "         3.74772721e-02,  1.10078490e-01,  6.18655025e-01,\n",
       "        -3.07502958e-01],\n",
       "       [-1.14985308e-03,  8.15195476e-02,  1.14838117e-01,\n",
       "         3.48057301e-01,  2.30605932e-01,  6.37189268e-02,\n",
       "         5.40609054e-02, -4.49849110e-02,  1.70517357e-02,\n",
       "         1.35313974e-01, -1.56596183e-02,  1.21376207e-01,\n",
       "         5.30278007e-02,  8.79888730e-02,  3.26439917e-01,\n",
       "        -1.11829026e-01],\n",
       "       [-9.26459855e-02,  1.94259279e-01, -8.02124468e-02,\n",
       "        -6.57282109e-02, -7.71873266e-02, -1.28510017e-01,\n",
       "        -3.97195247e-02, -2.31206093e-01, -1.58179655e-01,\n",
       "         2.34354449e-01, -1.38674106e-01,  2.00383121e-01,\n",
       "        -7.74040501e-02,  8.19097923e-02,  5.50966547e-01,\n",
       "        -2.79961365e-01],\n",
       "       [ 6.47495911e-02,  1.31800620e-01,  4.20585472e-02,\n",
       "         1.97928702e-01,  1.19223033e-01,  4.37712303e-03,\n",
       "         1.34618293e-02, -1.41432408e-01,  4.68947702e-02,\n",
       "         1.53977846e-01, -3.41711770e-02,  6.91700237e-02,\n",
       "         4.59144181e-03,  5.69469512e-02,  4.25979156e-01,\n",
       "        -2.83709180e-01],\n",
       "       [ 8.08752355e-02, -1.30466825e-01,  1.93449836e-01,\n",
       "         3.65225824e-01,  2.77384343e-01,  1.74177436e-01,\n",
       "         1.05090117e-01,  2.06136669e-01,  1.51475356e-01,\n",
       "        -1.25372906e-01,  1.23092170e-01, -1.04599436e-01,\n",
       "         1.26434231e-01, -1.37197354e-02, -2.86368113e-01,\n",
       "         2.08595516e-01],\n",
       "       [-6.77684640e-03,  1.04999403e-01, -1.74894854e-02,\n",
       "         3.23723319e-02,  6.36810837e-03, -4.15082916e-02,\n",
       "        -1.21890285e-02, -1.22249226e-01, -3.36908812e-02,\n",
       "         1.23367033e-01, -5.54560027e-02,  8.42916876e-02,\n",
       "        -2.58297826e-02,  4.31164701e-02,  3.11444788e-01,\n",
       "        -1.84657678e-01],\n",
       "       [ 2.24797888e-02, -9.79744017e-02,  1.33735025e-01,\n",
       "         2.21296231e-01,  1.71370477e-01,  1.01262621e-01,\n",
       "         8.36131678e-02,  1.56338188e-01,  6.03564313e-02,\n",
       "        -9.27793293e-02,  7.45998485e-02, -6.52230052e-02,\n",
       "         8.35019321e-02, -1.39437753e-02, -2.24880784e-01,\n",
       "         1.89360724e-01],\n",
       "       [ 4.81548133e-03,  6.37134450e-02,  5.76239777e-02,\n",
       "         1.80068544e-01,  1.16417158e-01,  1.97978288e-02,\n",
       "         2.97812745e-02, -4.92341192e-02,  3.26627888e-03,\n",
       "         9.14292398e-02, -1.86368494e-02,  6.80761636e-02,\n",
       "         2.13061070e-02,  4.79420271e-02,  2.30822711e-01,\n",
       "        -1.01953527e-01],\n",
       "       [ 1.65894256e-02, -1.54081901e-02,  6.26754279e-02,\n",
       "         1.29814450e-01,  9.38639752e-02,  4.28758012e-02,\n",
       "         3.64357417e-02,  3.84147938e-02,  2.98699743e-02,\n",
       "        -7.31520273e-03,  2.29379783e-02, -8.38183522e-03,\n",
       "         3.53489556e-02,  7.34471023e-03, -1.12711473e-02,\n",
       "         2.88221797e-02],\n",
       "       [ 8.44730255e-02, -1.08574121e-01,  1.75239042e-01,\n",
       "         3.46656380e-01,  2.60777907e-01,  1.62609401e-01,\n",
       "         9.12200777e-02,  1.74371391e-01,  1.50778716e-01,\n",
       "        -1.03036858e-01,  1.11809917e-01, -9.12217519e-02,\n",
       "         1.14848692e-01, -7.60598467e-03, -2.28897419e-01,\n",
       "         1.61496367e-01],\n",
       "       [-8.35345271e-02,  8.41866356e-02, -8.78780568e-02,\n",
       "        -1.64793335e-01, -1.29310524e-01, -1.03530686e-01,\n",
       "        -4.00280476e-02, -1.13493448e-01, -1.28631628e-01,\n",
       "         9.61381158e-02, -8.49159586e-02,  9.83917433e-02,\n",
       "        -6.49789152e-02,  2.49136196e-02,  2.06864252e-01,\n",
       "        -9.49817348e-02]])>"
      ]
     },
     "execution_count": 23,
     "metadata": {},
     "output_type": "execute_result"
    }
   ],
   "source": [
    "estimated_C"
   ]
  },
  {
   "cell_type": "code",
   "execution_count": 19,
   "metadata": {},
   "outputs": [
    {
     "data": {
      "text/plain": [
       "<matplotlib.colorbar.Colorbar at 0x21c4618bb00>"
      ]
     },
     "execution_count": 19,
     "metadata": {},
     "output_type": "execute_result"
    },
    {
     "data": {
      "image/png": "[encoded data removed]",
      "text/plain": [
       "<Figure size 1000x800 with 2 Axes>"
      ]
     },
     "metadata": {},
     "output_type": "display_data"
    }
   ],
   "source": [
    "diff = estimated_C - contact_others\n",
    "\n",
    "plt.figure(figsize=(10, 8))\n",
    "plt.imshow(diff, cmap = 'coolwarm', interpolation='none')\n",
    "plt.colorbar(label = 'Diff')"
   ]
  },
  {
   "cell_type": "code",
   "execution_count": 36,
   "metadata": {},
   "outputs": [
    {
     "data": {
      "text/plain": [
       "<matplotlib.colorbar.Colorbar at 0x21c926937a0>"
      ]
     },
     "execution_count": 36,
     "metadata": {},
     "output_type": "execute_result"
    },
    {
     "data": {
      "image/png": "[encoded data removed]",
      "text/plain": [
       "<Figure size 1000x800 with 2 Axes>"
      ]
     },
     "metadata": {},
     "output_type": "display_data"
    }
   ],
   "source": [
    "# diff = estimated_C - contact_others\n",
    "\n",
    "plt.figure(figsize=(10, 8))\n",
    "plt.imshow(W, cmap = 'coolwarm', interpolation='none')\n",
    "plt.colorbar(label = 'Diff')"
   ]
  },
  {
   "cell_type": "code",
   "execution_count": 39,
   "metadata": {},
   "outputs": [],
   "source": [
    "# save W in a csv file and make one extra column for categories\n",
    "# W = W.numpy()\n",
    "W = pd.DataFrame(W*100)\n",
    "W['categories'] = categories\n",
    "W.to_csv('consumption_distribution.csv', index=False)"
   ]
  },
  {
   "cell_type": "code",
   "execution_count": 57,
   "metadata": {},
   "outputs": [
    {
     "data": {
      "text/plain": [
       "<matplotlib.colorbar.Colorbar at 0x2344c9539b0>"
      ]
     },
     "execution_count": 57,
     "metadata": {},
     "output_type": "execute_result"
    },
    {
     "data": {
      "image/png": "[encoded data removed]",
      "text/plain": [
       "<Figure size 1000x800 with 2 Axes>"
      ]
     },
     "metadata": {},
     "output_type": "display_data"
    }
   ],
   "source": [
    "plt.figure(figsize=(10, 8))\n",
    "plt.imshow(estimated_C, cmap = 'coolwarm', interpolation='none')\n",
    "plt.colorbar(label = 'Diff')"
   ]
  },
  {
   "cell_type": "code",
   "execution_count": 58,
   "metadata": {},
   "outputs": [
    {
     "data": {
      "text/plain": [
       "<matplotlib.colorbar.Colorbar at 0x2344f1624e0>"
      ]
     },
     "execution_count": 58,
     "metadata": {},
     "output_type": "execute_result"
    },
    {
     "data": {
      "image/png": "[encoded data removed]",
      "text/plain": [
       "<Figure size 1000x800 with 2 Axes>"
      ]
     },
     "metadata": {},
     "output_type": "display_data"
    }
   ],
   "source": [
    "plt.figure(figsize=(10, 8))\n",
    "plt.imshow(contact_others, cmap = 'coolwarm', interpolation='none')\n",
    "plt.colorbar(label = 'Diff')"
   ]
  },
  {
   "cell_type": "code",
   "execution_count": 48,
   "metadata": {},
   "outputs": [
    {
     "data": {
      "text/plain": [
       "<tf.Tensor: shape=(10,), dtype=float32, numpy=\n",
       "array([0.99999994, 1.        , 1.0000001 , 0.99999976, 1.        ,\n",
       "       0.99999976, 0.9999998 , 0.99999976, 1.        , 1.0000001 ],\n",
       "      dtype=float32)>"
      ]
     },
     "execution_count": 48,
     "metadata": {},
     "output_type": "execute_result"
    }
   ],
   "source": [
    "tf.reduce_sum(W, axis = 1)"
   ]
  },
  {
   "cell_type": "code",
   "execution_count": 49,
   "metadata": {},
   "outputs": [
    {
     "data": {
      "text/plain": [
       "<tf.Variable 'Variable:0' shape=(16,) dtype=float32, numpy=\n",
       "array([0.1028751 , 0.17777166, 0.57022214, 1.4881366 , 1.2576891 ,\n",
       "       0.773256  , 0.46321404, 0.34541705, 0.27969265, 0.13417491,\n",
       "       0.10667394, 0.0778164 , 0.04607543, 0.01719388, 0.00633588,\n",
       "       0.00258659], dtype=float32)>"
      ]
     },
     "execution_count": 49,
     "metadata": {},
     "output_type": "execute_result"
    }
   ],
   "source": [
    "P_var"
   ]
  }
 ],
 "metadata": {
  "colab": {
   "include_colab_link": true,
   "provenance": [],
   "toc_visible": true
  },
  "kernelspec": {
   "display_name": ".venv",
   "language": "python",
   "name": "python3"
  },
  "language_info": {
   "codemirror_mode": {
    "name": "ipython",
    "version": 3
   },
   "file_extension": ".py",
   "mimetype": "text/x-python",
   "name": "python",
   "nbconvert_exporter": "python",
   "pygments_lexer": "ipython3",
   "version": "3.12.7"
  }
 },
 "nbformat": 4,
 "nbformat_minor": 0
}
