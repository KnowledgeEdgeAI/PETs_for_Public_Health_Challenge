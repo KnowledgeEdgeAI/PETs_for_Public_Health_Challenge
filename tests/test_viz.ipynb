{
 "cells": [
  {
   "cell_type": "code",
   "execution_count": 1,
   "metadata": {},
   "outputs": [],
   "source": [
    "import pandas as pd\n",
    "import numpy as np\n",
    "import sys\n",
    "import os\n",
    "from datetime import datetime\n",
    "import opendp.prelude as dp\n",
    "\n",
    "dp.enable_features(\"contrib\", \"floating-point\", \"honest-but-curious\")\n",
    "# Append the 'src' directory to sys.path\n",
    "sys.path.append(os.path.abspath(os.path.join(os.getcwd(), '..', 'src')))\n",
    "\n",
    "from DP_epidemiology.viz import create_hotspot_dash_app, create_mobility_dash_app, create_pandemic_adherence_dash_app, create_contact_matrix_dash_app, create_mobility_validation_dash_app\n",
    "from DP_epidemiology.mobility_analyzer import mobility_validation_with_google_mobility"
   ]
  },
  {
   "cell_type": "code",
   "execution_count": 2,
   "metadata": {},
   "outputs": [],
   "source": [
    "path = \"C:\\\\Users\\kshub\\\\OneDrive\\\\Documents\\\\PET_phase_2\\\\Technical_Phase_Data\\\\technical_phase_data.csv\"\n",
    "df_tran = pd.read_csv(path)\n",
    "df_mobility = pd.read_csv(\"C:\\\\Users\\\\kshub\\\\OneDrive\\\\Documents\\\\PET_phase_2\\\\Global_Mobility_Report (1).csv\", low_memory=False)\n"
   ]
  },
  {
   "cell_type": "code",
   "execution_count": 3,
   "metadata": {},
   "outputs": [
    {
     "name": "stdout",
     "output_type": "stream",
     "text": [
      "Scipy computed Pearson r: 0.3056463348470299 and p-value: 0.03886009367628722\n"
     ]
    }
   ],
   "source": [
    "mobility_validation_with_google_mobility(df_tran,df_mobility,datetime(2020, 2, 15),datetime(2020, 12, 31),\"Bogota\",\"retail_and_recreation\",1.0)"
   ]
  },
  {
   "cell_type": "code",
   "execution_count": 4,
   "metadata": {},
   "outputs": [
    {
     "data": {
      "text/html": [
       "\n",
       "        <iframe\n",
       "            width=\"100%\"\n",
       "            height=\"650\"\n",
       "            src=\"http://127.0.0.1:8050/\"\n",
       "            frameborder=\"0\"\n",
       "            allowfullscreen\n",
       "            \n",
       "        ></iframe>\n",
       "        "
      ],
      "text/plain": [
       "<IPython.lib.display.IFrame at 0x1eac3685720>"
      ]
     },
     "metadata": {},
     "output_type": "display_data"
    }
   ],
   "source": [
    "app= create_mobility_validation_dash_app(df_tran,df_mobility)\n",
    "app.run_server(debug=True)"
   ]
  },
  {
   "cell_type": "code",
   "execution_count": 4,
   "metadata": {},
   "outputs": [
    {
     "data": {
      "text/html": [
       "\n",
       "        <iframe\n",
       "            width=\"100%\"\n",
       "            height=\"650\"\n",
       "            src=\"http://127.0.0.1:8050/\"\n",
       "            frameborder=\"0\"\n",
       "            allowfullscreen\n",
       "            \n",
       "        ></iframe>\n",
       "        "
      ],
      "text/plain": [
       "<IPython.lib.display.IFrame at 0x2d00350ebf0>"
      ]
     },
     "metadata": {},
     "output_type": "display_data"
    }
   ],
   "source": [
    "app=create_hotspot_dash_app(df)\n",
    "app.run_server(debug=True)"
   ]
  },
  {
   "cell_type": "code",
   "execution_count": 5,
   "metadata": {},
   "outputs": [
    {
     "data": {
      "text/html": [
       "\n",
       "        <iframe\n",
       "            width=\"100%\"\n",
       "            height=\"650\"\n",
       "            src=\"http://127.0.0.1:8050/\"\n",
       "            frameborder=\"0\"\n",
       "            allowfullscreen\n",
       "            \n",
       "        ></iframe>\n",
       "        "
      ],
      "text/plain": [
       "<IPython.lib.display.IFrame at 0x2d003573c40>"
      ]
     },
     "metadata": {},
     "output_type": "display_data"
    }
   ],
   "source": [
    "app=create_mobility_dash_app(df)\n",
    "app.run_server(debug=True)"
   ]
  },
  {
   "cell_type": "code",
   "execution_count": 9,
   "metadata": {},
   "outputs": [
    {
     "data": {
      "text/html": [
       "\n",
       "        <iframe\n",
       "            width=\"100%\"\n",
       "            height=\"650\"\n",
       "            src=\"http://127.0.0.1:8050/\"\n",
       "            frameborder=\"0\"\n",
       "            allowfullscreen\n",
       "            \n",
       "        ></iframe>\n",
       "        "
      ],
      "text/plain": [
       "<IPython.lib.display.IFrame at 0x2774040ea40>"
      ]
     },
     "metadata": {},
     "output_type": "display_data"
    }
   ],
   "source": [
    "app=create_pandemic_adherence_dash_app(df)\n",
    "app.run_server(debug=True)"
   ]
  },
  {
   "cell_type": "code",
   "execution_count": 10,
   "metadata": {},
   "outputs": [
    {
     "data": {
      "text/html": [
       "\n",
       "        <iframe\n",
       "            width=\"100%\"\n",
       "            height=\"650\"\n",
       "            src=\"http://127.0.0.1:8050/\"\n",
       "            frameborder=\"0\"\n",
       "            allowfullscreen\n",
       "            \n",
       "        ></iframe>\n",
       "        "
      ],
      "text/plain": [
       "<IPython.lib.display.IFrame at 0x2774046c310>"
      ]
     },
     "metadata": {},
     "output_type": "display_data"
    },
    {
     "name": "stdout",
     "output_type": "stream",
     "text": [
      "---------------------------------------------------------------------------\n",
      "TypeError                                 Traceback (most recent call last)\n",
      "File c:\\Users\\kshub\\OneDrive\\Documents\\PET_phase_2\\PETs_for_Public_Health_Challenge\\src\\DP_epidemiology\\viz.py:287, in create_contact_matrix_dash_app.<locals>.update_contact_matrix(\n",
      "    start_date=datetime.datetime(2019, 1, 1, 0, 0),\n",
      "    end_date=datetime.datetime(2019, 12, 31, 0, 0),\n",
      "    city='Medellin',\n",
      "    epsilon=1\n",
      ")\n",
      "    284 end_date = datetime.strptime(end_date, '%Y-%m-%d')\n",
      "    286 # Get age group count map\n",
      "--> 287 age_group_count_map = get_age_group_count_map(df, start_date, end_date, city, epsilon)\n",
      "        start_date = datetime.datetime(2019, 1, 1, 0, 0)\n",
      "        end_date = datetime.datetime(2019, 12, 31, 0, 0)\n",
      "        df =             ID        date               merch_category  merch_postal_code  \\\n",
      "0            1  2019-01-01  Grocery Stores/Supermarkets            8700000   \n",
      "1            1  2019-01-01  Grocery Stores/Supermarkets             500034   \n",
      "2            2  2019-01-01  Grocery Stores/Supermarkets             110621   \n",
      "3            3  2019-01-01                Hotels/Motels            8900000   \n",
      "4            4  2019-01-01                  Restaurants             111941   \n",
      "...        ...         ...                          ...                ...   \n",
      "4180204   9998  2022-12-27  Grocery Stores/Supermarkets               7071   \n",
      "4180205   9999  2022-12-27                    Hospitals              70640   \n",
      "4180206   9999  2022-12-27                    Hospitals             110121   \n",
      "4180207  10000  2022-12-27                  Restaurants              70314   \n",
      "4180208  10000  2022-12-27                  Restaurants             500008   \n",
      "\n",
      "        transaction_type      spendamt  nb_transactions  \n",
      "0                 ONLINE  11238.128450              160  \n",
      "1                 ONLINE  12848.165221              183  \n",
      "2                 ONLINE  12116.165569              173  \n",
      "3                OFFLINE   7745.998879               38  \n",
      "4                OFFLINE   6927.424754              173  \n",
      "...                  ...           ...              ...  \n",
      "4180204           ONLINE  10788.112482              154  \n",
      "4180205          OFFLINE  19051.596123               19  \n",
      "4180206          OFFLINE  16667.294704               16  \n",
      "4180207          OFFLINE   3243.714408               81  \n",
      "4180208          OFFLINE   3877.613653               96  \n",
      "\n",
      "[4180209 rows x 7 columns]\n",
      "        city = 'Medellin'\n",
      "        epsilon = 1\n",
      "    288 age_group_sample_size = list(age_group_count_map.values())\n",
      "    290 # Hardcoded population distribution for the example\n",
      "\n",
      "TypeError: get_age_group_count_map() missing 1 required positional argument: 'city'\n",
      "\n",
      "---------------------------------------------------------------------------\n",
      "TypeError                                 Traceback (most recent call last)\n",
      "File c:\\Users\\kshub\\OneDrive\\Documents\\PET_phase_2\\PETs_for_Public_Health_Challenge\\src\\DP_epidemiology\\viz.py:287, in create_contact_matrix_dash_app.<locals>.update_contact_matrix(\n",
      "    start_date=datetime.datetime(2019, 1, 1, 0, 0),\n",
      "    end_date=datetime.datetime(2019, 12, 31, 0, 0),\n",
      "    city='Medellin',\n",
      "    epsilon=1\n",
      ")\n",
      "    284 end_date = datetime.strptime(end_date, '%Y-%m-%d')\n",
      "    286 # Get age group count map\n",
      "--> 287 age_group_count_map = get_age_group_count_map(df, start_date, end_date, city, epsilon)\n",
      "        start_date = datetime.datetime(2019, 1, 1, 0, 0)\n",
      "        end_date = datetime.datetime(2019, 12, 31, 0, 0)\n",
      "        df =             ID        date               merch_category  merch_postal_code  \\\n",
      "0            1  2019-01-01  Grocery Stores/Supermarkets            8700000   \n",
      "1            1  2019-01-01  Grocery Stores/Supermarkets             500034   \n",
      "2            2  2019-01-01  Grocery Stores/Supermarkets             110621   \n",
      "3            3  2019-01-01                Hotels/Motels            8900000   \n",
      "4            4  2019-01-01                  Restaurants             111941   \n",
      "...        ...         ...                          ...                ...   \n",
      "4180204   9998  2022-12-27  Grocery Stores/Supermarkets               7071   \n",
      "4180205   9999  2022-12-27                    Hospitals              70640   \n",
      "4180206   9999  2022-12-27                    Hospitals             110121   \n",
      "4180207  10000  2022-12-27                  Restaurants              70314   \n",
      "4180208  10000  2022-12-27                  Restaurants             500008   \n",
      "\n",
      "        transaction_type      spendamt  nb_transactions  \n",
      "0                 ONLINE  11238.128450              160  \n",
      "1                 ONLINE  12848.165221              183  \n",
      "2                 ONLINE  12116.165569              173  \n",
      "3                OFFLINE   7745.998879               38  \n",
      "4                OFFLINE   6927.424754              173  \n",
      "...                  ...           ...              ...  \n",
      "4180204           ONLINE  10788.112482              154  \n",
      "4180205          OFFLINE  19051.596123               19  \n",
      "4180206          OFFLINE  16667.294704               16  \n",
      "4180207          OFFLINE   3243.714408               81  \n",
      "4180208          OFFLINE   3877.613653               96  \n",
      "\n",
      "[4180209 rows x 7 columns]\n",
      "        city = 'Medellin'\n",
      "        epsilon = 1\n",
      "    288 age_group_sample_size = list(age_group_count_map.values())\n",
      "    290 # Hardcoded population distribution for the example\n",
      "\n",
      "TypeError: get_age_group_count_map() missing 1 required positional argument: 'city'\n",
      "\n",
      "---------------------------------------------------------------------------\n",
      "TypeError                                 Traceback (most recent call last)\n",
      "File c:\\Users\\kshub\\OneDrive\\Documents\\PET_phase_2\\PETs_for_Public_Health_Challenge\\src\\DP_epidemiology\\viz.py:287, in create_contact_matrix_dash_app.<locals>.update_contact_matrix(\n",
      "    start_date=datetime.datetime(2019, 1, 1, 0, 0),\n",
      "    end_date=datetime.datetime(2019, 12, 31, 0, 0),\n",
      "    city='Medellin',\n",
      "    epsilon=1\n",
      ")\n",
      "    284 end_date = datetime.strptime(end_date, '%Y-%m-%d')\n",
      "    286 # Get age group count map\n",
      "--> 287 age_group_count_map = get_age_group_count_map(df, start_date, end_date, city, epsilon)\n",
      "        start_date = datetime.datetime(2019, 1, 1, 0, 0)\n",
      "        end_date = datetime.datetime(2019, 12, 31, 0, 0)\n",
      "        df =             ID        date               merch_category  merch_postal_code  \\\n",
      "0            1  2019-01-01  Grocery Stores/Supermarkets            8700000   \n",
      "1            1  2019-01-01  Grocery Stores/Supermarkets             500034   \n",
      "2            2  2019-01-01  Grocery Stores/Supermarkets             110621   \n",
      "3            3  2019-01-01                Hotels/Motels            8900000   \n",
      "4            4  2019-01-01                  Restaurants             111941   \n",
      "...        ...         ...                          ...                ...   \n",
      "4180204   9998  2022-12-27  Grocery Stores/Supermarkets               7071   \n",
      "4180205   9999  2022-12-27                    Hospitals              70640   \n",
      "4180206   9999  2022-12-27                    Hospitals             110121   \n",
      "4180207  10000  2022-12-27                  Restaurants              70314   \n",
      "4180208  10000  2022-12-27                  Restaurants             500008   \n",
      "\n",
      "        transaction_type      spendamt  nb_transactions  \n",
      "0                 ONLINE  11238.128450              160  \n",
      "1                 ONLINE  12848.165221              183  \n",
      "2                 ONLINE  12116.165569              173  \n",
      "3                OFFLINE   7745.998879               38  \n",
      "4                OFFLINE   6927.424754              173  \n",
      "...                  ...           ...              ...  \n",
      "4180204           ONLINE  10788.112482              154  \n",
      "4180205          OFFLINE  19051.596123               19  \n",
      "4180206          OFFLINE  16667.294704               16  \n",
      "4180207          OFFLINE   3243.714408               81  \n",
      "4180208          OFFLINE   3877.613653               96  \n",
      "\n",
      "[4180209 rows x 7 columns]\n",
      "        city = 'Medellin'\n",
      "        epsilon = 1\n",
      "    288 age_group_sample_size = list(age_group_count_map.values())\n",
      "    290 # Hardcoded population distribution for the example\n",
      "\n",
      "TypeError: get_age_group_count_map() missing 1 required positional argument: 'city'\n",
      "\n",
      "---------------------------------------------------------------------------\n",
      "TypeError                                 Traceback (most recent call last)\n",
      "File c:\\Users\\kshub\\OneDrive\\Documents\\PET_phase_2\\PETs_for_Public_Health_Challenge\\src\\DP_epidemiology\\viz.py:287, in create_contact_matrix_dash_app.<locals>.update_contact_matrix(\n",
      "    start_date=datetime.datetime(2019, 1, 1, 0, 0),\n",
      "    end_date=datetime.datetime(2019, 12, 31, 0, 0),\n",
      "    city='Medellin',\n",
      "    epsilon=1\n",
      ")\n",
      "    284 end_date = datetime.strptime(end_date, '%Y-%m-%d')\n",
      "    286 # Get age group count map\n",
      "--> 287 age_group_count_map = get_age_group_count_map(df, start_date, end_date, city, epsilon)\n",
      "        start_date = datetime.datetime(2019, 1, 1, 0, 0)\n",
      "        end_date = datetime.datetime(2019, 12, 31, 0, 0)\n",
      "        df =             ID        date               merch_category  merch_postal_code  \\\n",
      "0            1  2019-01-01  Grocery Stores/Supermarkets            8700000   \n",
      "1            1  2019-01-01  Grocery Stores/Supermarkets             500034   \n",
      "2            2  2019-01-01  Grocery Stores/Supermarkets             110621   \n",
      "3            3  2019-01-01                Hotels/Motels            8900000   \n",
      "4            4  2019-01-01                  Restaurants             111941   \n",
      "...        ...         ...                          ...                ...   \n",
      "4180204   9998  2022-12-27  Grocery Stores/Supermarkets               7071   \n",
      "4180205   9999  2022-12-27                    Hospitals              70640   \n",
      "4180206   9999  2022-12-27                    Hospitals             110121   \n",
      "4180207  10000  2022-12-27                  Restaurants              70314   \n",
      "4180208  10000  2022-12-27                  Restaurants             500008   \n",
      "\n",
      "        transaction_type      spendamt  nb_transactions  \n",
      "0                 ONLINE  11238.128450              160  \n",
      "1                 ONLINE  12848.165221              183  \n",
      "2                 ONLINE  12116.165569              173  \n",
      "3                OFFLINE   7745.998879               38  \n",
      "4                OFFLINE   6927.424754              173  \n",
      "...                  ...           ...              ...  \n",
      "4180204           ONLINE  10788.112482              154  \n",
      "4180205          OFFLINE  19051.596123               19  \n",
      "4180206          OFFLINE  16667.294704               16  \n",
      "4180207          OFFLINE   3243.714408               81  \n",
      "4180208          OFFLINE   3877.613653               96  \n",
      "\n",
      "[4180209 rows x 7 columns]\n",
      "        city = 'Medellin'\n",
      "        epsilon = 1\n",
      "    288 age_group_sample_size = list(age_group_count_map.values())\n",
      "    290 # Hardcoded population distribution for the example\n",
      "\n",
      "TypeError: get_age_group_count_map() missing 1 required positional argument: 'city'\n",
      "\n"
     ]
    }
   ],
   "source": [
    "app=create_contact_matrix_dash_app(df)\n",
    "app.run_server(debug=True)"
   ]
  }
 ],
 "metadata": {
  "kernelspec": {
   "display_name": ".venv",
   "language": "python",
   "name": "python3"
  },
  "language_info": {
   "codemirror_mode": {
    "name": "ipython",
    "version": 3
   },
   "file_extension": ".py",
   "mimetype": "text/x-python",
   "name": "python",
   "nbconvert_exporter": "python",
   "pygments_lexer": "ipython3",
   "version": "3.10.11"
  }
 },
 "nbformat": 4,
 "nbformat_minor": 2
}
