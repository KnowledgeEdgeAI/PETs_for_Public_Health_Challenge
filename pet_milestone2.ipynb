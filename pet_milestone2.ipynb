{
 "cells": [
  {
   "cell_type": "markdown",
   "metadata": {},
   "source": [
    "# Differential private analysis"
   ]
  },
  {
   "cell_type": "code",
   "execution_count": 38,
   "metadata": {},
   "outputs": [],
   "source": [
    "import opendp.prelude as dp\n",
    "dp.enable_features(\"contrib\")"
   ]
  },
  {
   "cell_type": "code",
   "execution_count": 39,
   "metadata": {},
   "outputs": [
    {
     "name": "stderr",
     "output_type": "stream",
     "text": [
      "<>:2: SyntaxWarning: invalid escape sequence '\\k'\n",
      "<>:2: SyntaxWarning: invalid escape sequence '\\k'\n",
      "C:\\Users\\kshub\\AppData\\Local\\Temp\\ipykernel_14328\\752028492.py:2: SyntaxWarning: invalid escape sequence '\\k'\n",
      "  with open(\"C:\\\\Users\\kshub\\\\OneDrive\\\\Documents\\\\PET_phase_2\\\\Technical_Phase_Data\\\\technical_phase_data.csv\") as f:\n"
     ]
    },
    {
     "name": "stdout",
     "output_type": "stream",
     "text": [
      "ID,date,merch_category,merch_postal_code,transaction_type,spendamt,nb_transactions\n",
      "1,2019-01-01,Grocery Stores/Supermarkets,8700000,ONLINE,11238.128449812339,160\n",
      "1,2019-01-01,Grocery Stores/Supermarkets,0500034,ONLINE,12848.165220827457,183\n",
      "2,2019-01-01,Grocery Stores/Supermarkets,110621,ONLINE,12116.165569209737,173\n",
      "3,2019-01-01,Hotels/Motels,8900000,OFFLINE,7745.9988789353365,38\n",
      "4,2019-01-01,Restaurants,111941,OFFLINE,6927.424754451023,173\n",
      "4,2019-01-01,Restaurants,111111,OFFLINE,7513.0969230991095,187\n",
      "4,2019-01-01,Restaurants,111061,OFFLINE,6337.253136719919,158\n",
      "5,2019-01-01,Restaurants,8780000,ONLINE,6596.213194976057,164\n",
      "5,2019-01-01,Restaurants,111321,ONLINE,7109.564110740599,177\n",
      "6,2019-01-01,General Retail Stores,70675,ONLINE,8150.981488290598,81\n",
      "7,2019-01-01,Drug Stores/Pharmacies,9460000,ONLINE,9029.354227509248,300\n",
      "8,2019-01-01,Drug Stores/Pharmacies,70374,OFFLINE,9239.46832964432,307\n",
      "9,2019-01-01,\"Utilities: Electric, Gas, Water\",70253,ONLINE,7241.559244978171,48\n",
      "10,2019-01-0\n"
     ]
    }
   ],
   "source": [
    "#import data from csv file\n",
    "with open(\"C:\\\\Users\\kshub\\\\OneDrive\\\\Documents\\\\PET_phase_2\\\\Technical_Phase_Data\\\\technical_phase_data.csv\") as f:\n",
    "    data=f.read()\n",
    "print(data[0:1000])"
   ]
  },
  {
   "cell_type": "code",
   "execution_count": 40,
   "metadata": {},
   "outputs": [],
   "source": [
    "privacy_unit=dp.unit_of(contributions=1)\n",
    "privacy_loss=dp.loss_of(epsilon=1.0)"
   ]
  },
  {
   "cell_type": "code",
   "execution_count": 41,
   "metadata": {},
   "outputs": [],
   "source": [
    "context=dp.Context.compositor(\n",
    "    data=data,\n",
    "    privacy_unit=privacy_unit,\n",
    "    privacy_loss=privacy_loss,\n",
    "    split_evenly_over=10\n",
    ")"
   ]
  },
  {
   "cell_type": "code",
   "execution_count": 42,
   "metadata": {},
   "outputs": [],
   "source": [
    "col_names=['ID', 'date', 'merch_category', 'merch_postal_code', 'transaction_type',\n",
    "       'spendamt', 'nb_transactions']\n",
    "merch_types=['Grocery Stores/Supermarkets', 'Hotels/Motels',\n",
    "       'Restaurants', 'General Retail Stores', 'Drug Stores/Pharmacies',\n",
    "       'Hospitals','Utilities: Electric, Gas, Water',\n",
    "       'Bars/Discotheques', 'Computer Network/Information Services',\n",
    "       'Airlines']"
   ]
  },
  {
   "cell_type": "code",
   "execution_count": 55,
   "metadata": {},
   "outputs": [
    {
     "data": {
      "text/plain": [
       "[626775, 284458, 942172, 690929, 436603, 347781, 19, 386652, 177432, 93010]"
      ]
     },
     "execution_count": 55,
     "metadata": {},
     "output_type": "execute_result"
    }
   ],
   "source": [
    "count_query=(\n",
    "    context.query().split_dataframe(',', col_names=col_names).select_column(\"merch_category\",str).count_by_categories(merch_types,null_category=False).laplace()\n",
    ")\n",
    "count_query.release()"
   ]
  },
  {
   "cell_type": "code",
   "execution_count": 61,
   "metadata": {},
   "outputs": [
    {
     "data": {
      "text/plain": [
       "626808"
      ]
     },
     "execution_count": 61,
     "metadata": {},
     "output_type": "execute_result"
    }
   ],
   "source": [
    "Bridge_count_query=(\n",
    "    context.query().split_dataframe(\",\",col_names=col_names).df_is_equal(\"merch_category\", \"Grocery Stores/Supermarkets\").subset_by(\"merch_category\", keep_columns=[\"ID\"]).select_column(\"ID\",str).count().laplace()\n",
    ")\n",
    "Bridge_count_query.release()"
   ]
  },
  {
   "cell_type": "markdown",
   "metadata": {},
   "source": [
    "# pandas analysis"
   ]
  },
  {
   "cell_type": "code",
   "execution_count": 44,
   "metadata": {},
   "outputs": [
    {
     "name": "stderr",
     "output_type": "stream",
     "text": [
      "<>:3: SyntaxWarning: invalid escape sequence '\\k'\n",
      "<>:3: SyntaxWarning: invalid escape sequence '\\k'\n",
      "C:\\Users\\kshub\\AppData\\Local\\Temp\\ipykernel_14328\\1925529077.py:3: SyntaxWarning: invalid escape sequence '\\k'\n",
      "  df=pd.read_csv(\"C:\\\\Users\\kshub\\\\OneDrive\\\\Documents\\\\PET_phase_2\\\\Technical_Phase_Data\\\\technical_phase_data.csv\",names=col_names)\n",
      "C:\\Users\\kshub\\AppData\\Local\\Temp\\ipykernel_14328\\1925529077.py:3: DtypeWarning: Columns (0,3,5,6) have mixed types. Specify dtype option on import or set low_memory=False.\n",
      "  df=pd.read_csv(\"C:\\\\Users\\kshub\\\\OneDrive\\\\Documents\\\\PET_phase_2\\\\Technical_Phase_Data\\\\technical_phase_data.csv\",names=col_names)\n"
     ]
    }
   ],
   "source": [
    "import pandas as pd\n",
    "import numpy as np\n",
    "df=pd.read_csv(\"C:\\\\Users\\kshub\\\\OneDrive\\\\Documents\\\\PET_phase_2\\\\Technical_Phase_Data\\\\technical_phase_data.csv\",names=col_names)"
   ]
  },
  {
   "cell_type": "code",
   "execution_count": 45,
   "metadata": {},
   "outputs": [
    {
     "data": {
      "text/html": [
       "<div>\n",
       "<style scoped>\n",
       "    .dataframe tbody tr th:only-of-type {\n",
       "        vertical-align: middle;\n",
       "    }\n",
       "\n",
       "    .dataframe tbody tr th {\n",
       "        vertical-align: top;\n",
       "    }\n",
       "\n",
       "    .dataframe thead th {\n",
       "        text-align: right;\n",
       "    }\n",
       "</style>\n",
       "<table border=\"1\" class=\"dataframe\">\n",
       "  <thead>\n",
       "    <tr style=\"text-align: right;\">\n",
       "      <th></th>\n",
       "      <th>ID</th>\n",
       "      <th>date</th>\n",
       "      <th>merch_category</th>\n",
       "      <th>merch_postal_code</th>\n",
       "      <th>transaction_type</th>\n",
       "      <th>spendamt</th>\n",
       "      <th>nb_transactions</th>\n",
       "    </tr>\n",
       "  </thead>\n",
       "  <tbody>\n",
       "    <tr>\n",
       "      <th>0</th>\n",
       "      <td>ID</td>\n",
       "      <td>date</td>\n",
       "      <td>merch_category</td>\n",
       "      <td>merch_postal_code</td>\n",
       "      <td>transaction_type</td>\n",
       "      <td>spendamt</td>\n",
       "      <td>nb_transactions</td>\n",
       "    </tr>\n",
       "    <tr>\n",
       "      <th>1</th>\n",
       "      <td>1</td>\n",
       "      <td>2019-01-01</td>\n",
       "      <td>Grocery Stores/Supermarkets</td>\n",
       "      <td>8700000</td>\n",
       "      <td>ONLINE</td>\n",
       "      <td>11238.128449812339</td>\n",
       "      <td>160</td>\n",
       "    </tr>\n",
       "    <tr>\n",
       "      <th>2</th>\n",
       "      <td>1</td>\n",
       "      <td>2019-01-01</td>\n",
       "      <td>Grocery Stores/Supermarkets</td>\n",
       "      <td>0500034</td>\n",
       "      <td>ONLINE</td>\n",
       "      <td>12848.165220827457</td>\n",
       "      <td>183</td>\n",
       "    </tr>\n",
       "    <tr>\n",
       "      <th>3</th>\n",
       "      <td>2</td>\n",
       "      <td>2019-01-01</td>\n",
       "      <td>Grocery Stores/Supermarkets</td>\n",
       "      <td>110621</td>\n",
       "      <td>ONLINE</td>\n",
       "      <td>12116.165569209737</td>\n",
       "      <td>173</td>\n",
       "    </tr>\n",
       "    <tr>\n",
       "      <th>4</th>\n",
       "      <td>3</td>\n",
       "      <td>2019-01-01</td>\n",
       "      <td>Hotels/Motels</td>\n",
       "      <td>8900000</td>\n",
       "      <td>OFFLINE</td>\n",
       "      <td>7745.9988789353365</td>\n",
       "      <td>38</td>\n",
       "    </tr>\n",
       "  </tbody>\n",
       "</table>\n",
       "</div>"
      ],
      "text/plain": [
       "   ID        date               merch_category  merch_postal_code  \\\n",
       "0  ID        date               merch_category  merch_postal_code   \n",
       "1   1  2019-01-01  Grocery Stores/Supermarkets            8700000   \n",
       "2   1  2019-01-01  Grocery Stores/Supermarkets            0500034   \n",
       "3   2  2019-01-01  Grocery Stores/Supermarkets             110621   \n",
       "4   3  2019-01-01                Hotels/Motels            8900000   \n",
       "\n",
       "   transaction_type            spendamt  nb_transactions  \n",
       "0  transaction_type            spendamt  nb_transactions  \n",
       "1            ONLINE  11238.128449812339              160  \n",
       "2            ONLINE  12848.165220827457              183  \n",
       "3            ONLINE  12116.165569209737              173  \n",
       "4           OFFLINE  7745.9988789353365               38  "
      ]
     },
     "execution_count": 45,
     "metadata": {},
     "output_type": "execute_result"
    }
   ],
   "source": [
    "df.head()"
   ]
  },
  {
   "cell_type": "code",
   "execution_count": 46,
   "metadata": {},
   "outputs": [
    {
     "data": {
      "text/plain": [
       "merch_category\n",
       "Restaurants                              942172\n",
       "General Retail Stores                    690954\n",
       "Grocery Stores/Supermarkets              626791\n",
       "Drug Stores/Pharmacies                   436601\n",
       "Bars/Discotheques                        386650\n",
       "Hospitals                                347776\n",
       "Hotels/Motels                            284449\n",
       "Utilities: Electric, Gas, Water          194370\n",
       "Computer Network/Information Services    177441\n",
       "Airlines                                  93005\n",
       "merch_category                                1\n",
       "Name: count, dtype: int64"
      ]
     },
     "execution_count": 46,
     "metadata": {},
     "output_type": "execute_result"
    }
   ],
   "source": [
    "df['merch_category'].value_counts()"
   ]
  },
  {
   "cell_type": "code",
   "execution_count": 47,
   "metadata": {},
   "outputs": [
    {
     "data": {
      "text/plain": [
       "array(['merch_category', 'Grocery Stores/Supermarkets', 'Hotels/Motels',\n",
       "       'Restaurants', 'General Retail Stores', 'Drug Stores/Pharmacies',\n",
       "       'Utilities: Electric, Gas, Water', 'Hospitals',\n",
       "       'Bars/Discotheques', 'Computer Network/Information Services',\n",
       "       'Airlines'], dtype=object)"
      ]
     },
     "execution_count": 47,
     "metadata": {},
     "output_type": "execute_result"
    }
   ],
   "source": [
    "df[\"merch_category\"].unique()"
   ]
  },
  {
   "cell_type": "code",
   "execution_count": 48,
   "metadata": {},
   "outputs": [
    {
     "data": {
      "text/plain": [
       "Index(['ID', 'date', 'merch_category', 'merch_postal_code', 'transaction_type',\n",
       "       'spendamt', 'nb_transactions'],\n",
       "      dtype='object')"
      ]
     },
     "execution_count": 48,
     "metadata": {},
     "output_type": "execute_result"
    }
   ],
   "source": [
    "df.columns"
   ]
  },
  {
   "cell_type": "code",
   "execution_count": null,
   "metadata": {},
   "outputs": [],
   "source": []
  }
 ],
 "metadata": {
  "kernelspec": {
   "display_name": "Python 3",
   "language": "python",
   "name": "python3"
  },
  "language_info": {
   "codemirror_mode": {
    "name": "ipython",
    "version": 3
   },
   "file_extension": ".py",
   "mimetype": "text/x-python",
   "name": "python",
   "nbconvert_exporter": "python",
   "pygments_lexer": "ipython3",
   "version": "3.12.1"
  }
 },
 "nbformat": 4,
 "nbformat_minor": 2
}
